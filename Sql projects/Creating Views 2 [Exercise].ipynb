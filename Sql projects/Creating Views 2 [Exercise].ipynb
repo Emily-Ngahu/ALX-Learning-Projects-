{
 "cells": [
  {
   "cell_type": "markdown",
   "id": "51b1254d",
   "metadata": {},
   "source": [
    "<div align=\"right\" style=\" font-size: 80%; text-align: center; margin: 0 auto\">\n",
    "<img src=\"https://raw.githubusercontent.com/Explore-AI/Pictures/master/ExploreAI_logos/Logo blue_dark.png\"  style=\"width:25px\" align=\"right\";/>\n",
    "</div>"
   ]
  },
  {
   "cell_type": "markdown",
   "id": "f662d169",
   "metadata": {},
   "source": [
    "# Creating views 2\n",
    "© ExploreAI Academy"
   ]
  },
  {
   "cell_type": "markdown",
   "id": "26af890c",
   "metadata": {},
   "source": [
    "In this exercise, we will test our understanding of the concepts of database views in database designs. \n",
    "\n",
    "Ensure that you have downloaded the database file Northwind.db."
   ]
  },
  {
   "cell_type": "markdown",
   "id": "2d230d14",
   "metadata": {},
   "source": [
    "## Learning objectives\n",
    "\n",
    "By the end of this train, you should be able to:\n",
    "- Create, use, and update views in SQL."
   ]
  },
  {
   "cell_type": "markdown",
   "id": "7fd5e3b8",
   "metadata": {},
   "source": [
    "First, let's load our sample database:"
   ]
  },
  {
   "cell_type": "code",
   "execution_count": 1,
   "id": "2d0d820e",
   "metadata": {},
   "outputs": [],
   "source": [
    "# Load and activate the SQL extension to allow us to execute SQL in a Jupyter notebook.\n",
    "%load_ext sql\n"
   ]
  },
  {
   "cell_type": "code",
   "execution_count": 2,
   "id": "599e3c6c",
   "metadata": {},
   "outputs": [
    {
     "data": {
      "text/plain": [
       "'Connected: @Northwind.db'"
      ]
     },
     "execution_count": 2,
     "metadata": {},
     "output_type": "execute_result"
    }
   ],
   "source": [
    "# Load the Northwind database stored in your local machine. \n",
    "# Make sure the file is saved in the same folder as this notebook.\n",
    "%sql sqlite:///Northwind.db"
   ]
  },
  {
   "cell_type": "markdown",
   "id": "06af8b46",
   "metadata": {},
   "source": [
    "Here is a [view](https://www.lucidchart.com/pages/er-diagrams) of all of our tables in the database:"
   ]
  },
  {
   "cell_type": "markdown",
   "id": "08883cce",
   "metadata": {},
   "source": [
    "<div align=\"center\" style=\" font-size: 80%; text-align: center; margin: 0 auto\">\n",
    "<img src=\"https://raw.githubusercontent.com/Explore-AI/Pictures/master/Northwind_ERD.png\"  style=\"width:500px\";/>\n",
    "<br>\n",
    "<br>\n",
    "    <em>Figure 1: Northwind ERD</em>\n",
    "</div>\n",
    "\n"
   ]
  },
  {
   "cell_type": "markdown",
   "id": "fab74552",
   "metadata": {},
   "source": [
    "[Image source](https://www.sqlitetutorial.net/sqlite-sample-database/)"
   ]
  },
  {
   "cell_type": "markdown",
   "id": "920e89d2",
   "metadata": {},
   "source": [
    "## Exercise\n",
    "\n",
    "Run the necessary queries that will provide us with the following information. Compare your queries with the solutions at the end of this notebook."
   ]
  },
  {
   "cell_type": "markdown",
   "id": "466e53c1",
   "metadata": {},
   "source": [
    "### Exercise 1\n",
    "\n",
    "Write a SQL statement to create a view named `CustomerOrderView` that shows the `CustomerID`, `OrderID`, and `OrderDate` from the Orders table, and `CompanyName` from the Customers table.\n"
   ]
  },
  {
   "cell_type": "code",
   "execution_count": 5,
   "id": "038f28ea",
   "metadata": {},
   "outputs": [
    {
     "name": "stdout",
     "output_type": "stream",
     "text": [
      " * sqlite:///Northwind.db\n",
      "Done.\n",
      "Done.\n"
     ]
    },
    {
     "data": {
      "text/plain": [
       "[]"
      ]
     },
     "execution_count": 5,
     "metadata": {},
     "output_type": "execute_result"
    }
   ],
   "source": [
    "%%sql\n",
    "DROP VIEW CustomerOrderView;\n",
    "\n",
    "CREATE VIEW CustomerOrderView AS\n",
    "SELECT \n",
    "    od.CustomerID, \n",
    "    od.OrderID, \n",
    "    od.OrderDate, \n",
    "    cus.CompanyName\n",
    "FROM \n",
    "    Orders AS od\n",
    "INNER JOIN \n",
    "Customers AS cus\n",
    "ON \n",
    "    od.CustomerID = cus.CustomerID;\n"
   ]
  },
  {
   "cell_type": "code",
   "execution_count": 9,
   "id": "51e3f4a1",
   "metadata": {},
   "outputs": [
    {
     "name": "stdout",
     "output_type": "stream",
     "text": [
      " * sqlite:///Northwind.db\n",
      "(sqlite3.OperationalError) view CustomerOrderView already exists\n",
      "[SQL: CREATE VIEW CustomerOrderView AS\n",
      "SELECT \n",
      "    od.CustomerID, \n",
      "    od.OrderID, \n",
      "    od.OrderDate, \n",
      "    cus.CompanyName\n",
      "FROM \n",
      "    Orders AS od\n",
      "INNER JOIN \n",
      "Customers AS cus\n",
      "ON \n",
      "    od.CustomerID = cus.CustomerID;]\n",
      "(Background on this error at: https://sqlalche.me/e/14/e3q8)\n"
     ]
    }
   ],
   "source": [
    "%%sql\n",
    "CREATE VIEW CustomerOrderView AS\n",
    "SELECT \n",
    "    od.CustomerID, \n",
    "    od.OrderID, \n",
    "    od.OrderDate, \n",
    "    cus.CompanyName\n",
    "FROM \n",
    "    Orders AS od\n",
    "INNER JOIN \n",
    "Customers AS cus\n",
    "ON \n",
    "    od.CustomerID = cus.CustomerID;"
   ]
  },
  {
   "cell_type": "markdown",
   "id": "86802726",
   "metadata": {},
   "source": [
    "### Exercise 2\n",
    "\n",
    "\n",
    "Write a SQL query to retrieve all the data from the `CustomerOrderView` view."
   ]
  },
  {
   "cell_type": "code",
   "execution_count": 10,
   "id": "91f3421f",
   "metadata": {},
   "outputs": [
    {
     "name": "stdout",
     "output_type": "stream",
     "text": [
      " * sqlite:///Northwind.db\n",
      "(sqlite3.OperationalError) no such table: main.Orders\n",
      "[SQL: SELECT * \n",
      "FROM CustomerOrderView;]\n",
      "(Background on this error at: https://sqlalche.me/e/14/e3q8)\n"
     ]
    }
   ],
   "source": [
    "%%sql\n",
    "SELECT * \n",
    "FROM CustomerOrderView;"
   ]
  },
  {
   "cell_type": "markdown",
   "id": "f0fade51",
   "metadata": {},
   "source": [
    "### Exercise 3\n",
    "\n",
    "Write a SQL statement to update the `CustomerOrderView` view to separate the `OrderDate` column into two different date and time columns named `OrderDateOnly` and `OrderTimeOnly` respectively."
   ]
  },
  {
   "cell_type": "code",
   "execution_count": 11,
   "id": "748f4263",
   "metadata": {},
   "outputs": [
    {
     "name": "stdout",
     "output_type": "stream",
     "text": [
      " * sqlite:///Northwind.db\n",
      "Done.\n",
      "Done.\n"
     ]
    },
    {
     "data": {
      "text/plain": [
       "[]"
      ]
     },
     "execution_count": 11,
     "metadata": {},
     "output_type": "execute_result"
    }
   ],
   "source": [
    "%%sql\n",
    "\n",
    "DROP VIEW IF EXISTS CustomerOrderView;\n",
    "\n",
    "CREATE VIEW CustomerOrderView \n",
    "AS\n",
    "    SELECT \n",
    "        o.CustomerID, \n",
    "        o.OrderID, \n",
    "        DATE(o.OrderDate) AS OrderDateOnly, \n",
    "        TIME(o.OrderDate) AS OrderTimeOnly,\n",
    "        c.CompanyName\n",
    "    FROM \n",
    "        Orders o\n",
    "    INNER JOIN \n",
    "        Customers c \n",
    "    ON \n",
    "        o.CustomerID = c.CustomerID;\n"
   ]
  },
  {
   "cell_type": "markdown",
   "id": "09ed2194",
   "metadata": {},
   "source": [
    "### Exercise 4\n",
    "\n",
    "\n",
    "Write a SQL query to retrieve all the data from the updated `CustomerOrderView` view."
   ]
  },
  {
   "cell_type": "code",
   "execution_count": 13,
   "id": "6dd4d66b",
   "metadata": {},
   "outputs": [
    {
     "name": "stdout",
     "output_type": "stream",
     "text": [
      " * sqlite:///Northwind.db\n",
      "(sqlite3.OperationalError) no such table: main.Orders\n",
      "[SQL: SELECT * \n",
      "FROM CustomerOrderView;]\n",
      "(Background on this error at: https://sqlalche.me/e/14/e3q8)\n"
     ]
    }
   ],
   "source": [
    "%%sql\n",
    "SELECT * \n",
    "FROM CustomerOrderView;\n"
   ]
  },
  {
   "cell_type": "markdown",
   "id": "b3c88335",
   "metadata": {},
   "source": [
    "## Solutions"
   ]
  },
  {
   "cell_type": "markdown",
   "id": "a5084b12",
   "metadata": {},
   "source": [
    "### Exercise 1"
   ]
  },
  {
   "cell_type": "code",
   "execution_count": null,
   "id": "c968d875",
   "metadata": {
    "scrolled": true
   },
   "outputs": [],
   "source": [
    "%%sql\n",
    "\n",
    "CREATE VIEW CustomerOrderView AS\n",
    "SELECT o.CustomerID, o.OrderID, o.OrderDate, c.CompanyName\n",
    "FROM Orders o\n",
    "INNER JOIN Customers c ON o.CustomerID = c.CustomerID;"
   ]
  },
  {
   "cell_type": "markdown",
   "id": "294d8eef",
   "metadata": {},
   "source": [
    "### Exercise 2"
   ]
  },
  {
   "cell_type": "code",
   "execution_count": null,
   "id": "03071e34",
   "metadata": {},
   "outputs": [],
   "source": [
    "%%sql\n",
    "\n",
    "SELECT * \n",
    "FROM CustomerOrderView;"
   ]
  },
  {
   "cell_type": "markdown",
   "id": "eafe40b6",
   "metadata": {},
   "source": [
    "### Exercise 3"
   ]
  },
  {
   "cell_type": "code",
   "execution_count": null,
   "id": "1ffd2239",
   "metadata": {},
   "outputs": [],
   "source": [
    "%%sql\n",
    "\n",
    "DROP VIEW IF EXISTS CustomerOrderView;\n",
    "\n",
    "CREATE VIEW CustomerOrderView AS\n",
    "SELECT o.CustomerID, o.OrderID, DATE(o.OrderDate) AS OrderDateOnly, TIME(o.OrderDate) AS OrderTimeOnly, c.CompanyName\n",
    "FROM Orders o\n",
    "INNER JOIN Customers c ON o.CustomerID = c.CustomerID;"
   ]
  },
  {
   "cell_type": "markdown",
   "id": "d9a066f9",
   "metadata": {},
   "source": [
    "This query updates the `CustomerOrderView` view to show `OrderDateOnly` and `OrderTimeOnly`. \n",
    "\n",
    "Note that in SQLite, we can't modify an existing view with an `ALTER VIEW` statement. Instead, we have to drop the existing view and create it again in order to update it."
   ]
  },
  {
   "cell_type": "markdown",
   "id": "a8bc7287",
   "metadata": {},
   "source": [
    "### Exercise 4"
   ]
  },
  {
   "cell_type": "code",
   "execution_count": null,
   "id": "8442a10b",
   "metadata": {},
   "outputs": [],
   "source": [
    "%%sql\n",
    "\n",
    "SELECT * \n",
    "FROM CustomerOrderView;"
   ]
  },
  {
   "cell_type": "markdown",
   "id": "6d8d9bdd",
   "metadata": {},
   "source": [
    "<div align=\"center\" style=\" font-size: 80%; text-align: center; margin: 0 auto\">\n",
    "<img src=\"https://raw.githubusercontent.com/Explore-AI/Pictures/master/ExploreAI_logos/EAI_Blue_Dark.png\"  style=\"width:200px\";/>\n",
    "</div>"
   ]
  }
 ],
 "metadata": {
  "kernelspec": {
   "display_name": "Python 3 (ipykernel)",
   "language": "python",
   "name": "python3"
  },
  "language_info": {
   "codemirror_mode": {
    "name": "ipython",
    "version": 3
   },
   "file_extension": ".py",
   "mimetype": "text/x-python",
   "name": "python",
   "nbconvert_exporter": "python",
   "pygments_lexer": "ipython3",
   "version": "3.11.5"
  }
 },
 "nbformat": 4,
 "nbformat_minor": 5
}
