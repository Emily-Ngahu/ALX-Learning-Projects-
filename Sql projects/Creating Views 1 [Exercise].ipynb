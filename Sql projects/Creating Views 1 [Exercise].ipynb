{
 "cells": [
  {
   "cell_type": "markdown",
   "id": "51b1254d",
   "metadata": {},
   "source": [
    "<div align=\"right\" style=\" font-size: 80%; text-align: center; margin: 0 auto\">\n",
    "<img src=\"https://raw.githubusercontent.com/Explore-AI/Pictures/master/ExploreAI_logos/Logo blue_dark.png\"  style=\"width:25px\" align=\"right\";/>\n",
    "</div>"
   ]
  },
  {
   "cell_type": "markdown",
   "id": "f662d169",
   "metadata": {},
   "source": [
    "# Creating views 1\n",
    "© ExploreAI Academy"
   ]
  },
  {
   "cell_type": "markdown",
   "id": "26af890c",
   "metadata": {},
   "source": [
    "In this exercise, we learn how to create different types of views and how to drop views. \n",
    "\n",
    "Ensure that you have downloaded the database file Chinook.db."
   ]
  },
  {
   "cell_type": "markdown",
   "id": "2d230d14",
   "metadata": {},
   "source": [
    "## Learning objectives\n",
    "\n",
    "By the end of this train, you should be able to:\n",
    "- Create `LOOKUP`, `JOIN`, and `AGGREGATING` views.\n",
    "- Drop a view."
   ]
  },
  {
   "cell_type": "markdown",
   "id": "7fd5e3b8",
   "metadata": {},
   "source": [
    "First, let's load our sample database:"
   ]
  },
  {
   "cell_type": "code",
   "execution_count": 1,
   "id": "2d0d820e",
   "metadata": {},
   "outputs": [],
   "source": [
    "# Load and activate the SQL extension to allow us to execute SQL in a Jupyter notebook.\n",
    "%load_ext sql\n"
   ]
  },
  {
   "cell_type": "code",
   "execution_count": 2,
   "id": "599e3c6c",
   "metadata": {},
   "outputs": [
    {
     "data": {
      "text/plain": [
       "'Connected: @chinook.db'"
      ]
     },
     "execution_count": 2,
     "metadata": {},
     "output_type": "execute_result"
    }
   ],
   "source": [
    "# Load the Chinook database stored in your local machine. \n",
    "# Make sure the file is saved in the same folder as this notebook.\n",
    "%sql sqlite:///chinook.db"
   ]
  },
  {
   "cell_type": "code",
   "execution_count": 10,
   "id": "6dc4de32",
   "metadata": {},
   "outputs": [
    {
     "name": "stdout",
     "output_type": "stream",
     "text": [
      " * sqlite:///chinook.db\n",
      "Done.\n"
     ]
    },
    {
     "data": {
      "text/html": [
       "<table>\n",
       "    <thead>\n",
       "        <tr>\n",
       "            <th>EmployeeId</th>\n",
       "            <th>LastName</th>\n",
       "            <th>FirstName</th>\n",
       "            <th>Title</th>\n",
       "            <th>ReportsTo</th>\n",
       "            <th>BirthDate</th>\n",
       "            <th>HireDate</th>\n",
       "            <th>Address</th>\n",
       "            <th>City</th>\n",
       "            <th>State</th>\n",
       "            <th>Country</th>\n",
       "            <th>PostalCode</th>\n",
       "            <th>Phone</th>\n",
       "            <th>Fax</th>\n",
       "            <th>Email</th>\n",
       "        </tr>\n",
       "    </thead>\n",
       "    <tbody>\n",
       "        <tr>\n",
       "            <td>1</td>\n",
       "            <td>Adams</td>\n",
       "            <td>Andrew</td>\n",
       "            <td>General Manager</td>\n",
       "            <td>None</td>\n",
       "            <td>1962-02-18 00:00:00</td>\n",
       "            <td>2002-08-14 00:00:00</td>\n",
       "            <td>11120 Jasper Ave NW</td>\n",
       "            <td>Edmonton</td>\n",
       "            <td>AB</td>\n",
       "            <td>Canada</td>\n",
       "            <td>T5K 2N1</td>\n",
       "            <td>+1 (780) 428-9482</td>\n",
       "            <td>+1 (780) 428-3457</td>\n",
       "            <td>andrew@chinookcorp.com</td>\n",
       "        </tr>\n",
       "        <tr>\n",
       "            <td>2</td>\n",
       "            <td>Edwards</td>\n",
       "            <td>Nancy</td>\n",
       "            <td>Sales Manager</td>\n",
       "            <td>1</td>\n",
       "            <td>1958-12-08 00:00:00</td>\n",
       "            <td>2002-05-01 00:00:00</td>\n",
       "            <td>825 8 Ave SW</td>\n",
       "            <td>Calgary</td>\n",
       "            <td>AB</td>\n",
       "            <td>Canada</td>\n",
       "            <td>T2P 2T3</td>\n",
       "            <td>+1 (403) 262-3443</td>\n",
       "            <td>+1 (403) 262-3322</td>\n",
       "            <td>nancy@chinookcorp.com</td>\n",
       "        </tr>\n",
       "        <tr>\n",
       "            <td>3</td>\n",
       "            <td>Peacock</td>\n",
       "            <td>Jane</td>\n",
       "            <td>Sales Support Agent</td>\n",
       "            <td>2</td>\n",
       "            <td>1973-08-29 00:00:00</td>\n",
       "            <td>2002-04-01 00:00:00</td>\n",
       "            <td>1111 6 Ave SW</td>\n",
       "            <td>Calgary</td>\n",
       "            <td>AB</td>\n",
       "            <td>Canada</td>\n",
       "            <td>T2P 5M5</td>\n",
       "            <td>+1 (403) 262-3443</td>\n",
       "            <td>+1 (403) 262-6712</td>\n",
       "            <td>jane@chinookcorp.com</td>\n",
       "        </tr>\n",
       "        <tr>\n",
       "            <td>4</td>\n",
       "            <td>Park</td>\n",
       "            <td>Margaret</td>\n",
       "            <td>Sales Support Agent</td>\n",
       "            <td>2</td>\n",
       "            <td>1947-09-19 00:00:00</td>\n",
       "            <td>2003-05-03 00:00:00</td>\n",
       "            <td>683 10 Street SW</td>\n",
       "            <td>Calgary</td>\n",
       "            <td>AB</td>\n",
       "            <td>Canada</td>\n",
       "            <td>T2P 5G3</td>\n",
       "            <td>+1 (403) 263-4423</td>\n",
       "            <td>+1 (403) 263-4289</td>\n",
       "            <td>margaret@chinookcorp.com</td>\n",
       "        </tr>\n",
       "        <tr>\n",
       "            <td>5</td>\n",
       "            <td>Johnson</td>\n",
       "            <td>Steve</td>\n",
       "            <td>Sales Support Agent</td>\n",
       "            <td>2</td>\n",
       "            <td>1965-03-03 00:00:00</td>\n",
       "            <td>2003-10-17 00:00:00</td>\n",
       "            <td>7727B 41 Ave</td>\n",
       "            <td>Calgary</td>\n",
       "            <td>AB</td>\n",
       "            <td>Canada</td>\n",
       "            <td>T3B 1Y7</td>\n",
       "            <td>1 (780) 836-9987</td>\n",
       "            <td>1 (780) 836-9543</td>\n",
       "            <td>steve@chinookcorp.com</td>\n",
       "        </tr>\n",
       "        <tr>\n",
       "            <td>6</td>\n",
       "            <td>Mitchell</td>\n",
       "            <td>Michael</td>\n",
       "            <td>IT Manager</td>\n",
       "            <td>1</td>\n",
       "            <td>1973-07-01 00:00:00</td>\n",
       "            <td>2003-10-17 00:00:00</td>\n",
       "            <td>5827 Bowness Road NW</td>\n",
       "            <td>Calgary</td>\n",
       "            <td>AB</td>\n",
       "            <td>Canada</td>\n",
       "            <td>T3B 0C5</td>\n",
       "            <td>+1 (403) 246-9887</td>\n",
       "            <td>+1 (403) 246-9899</td>\n",
       "            <td>michael@chinookcorp.com</td>\n",
       "        </tr>\n",
       "        <tr>\n",
       "            <td>7</td>\n",
       "            <td>King</td>\n",
       "            <td>Robert</td>\n",
       "            <td>IT Staff</td>\n",
       "            <td>6</td>\n",
       "            <td>1970-05-29 00:00:00</td>\n",
       "            <td>2004-01-02 00:00:00</td>\n",
       "            <td>590 Columbia Boulevard West</td>\n",
       "            <td>Lethbridge</td>\n",
       "            <td>AB</td>\n",
       "            <td>Canada</td>\n",
       "            <td>T1K 5N8</td>\n",
       "            <td>+1 (403) 456-9986</td>\n",
       "            <td>+1 (403) 456-8485</td>\n",
       "            <td>robert@chinookcorp.com</td>\n",
       "        </tr>\n",
       "        <tr>\n",
       "            <td>8</td>\n",
       "            <td>Callahan</td>\n",
       "            <td>Laura</td>\n",
       "            <td>IT Staff</td>\n",
       "            <td>6</td>\n",
       "            <td>1968-01-09 00:00:00</td>\n",
       "            <td>2004-03-04 00:00:00</td>\n",
       "            <td>923 7 ST NW</td>\n",
       "            <td>Lethbridge</td>\n",
       "            <td>AB</td>\n",
       "            <td>Canada</td>\n",
       "            <td>T1H 1Y8</td>\n",
       "            <td>+1 (403) 467-3351</td>\n",
       "            <td>+1 (403) 467-8772</td>\n",
       "            <td>laura@chinookcorp.com</td>\n",
       "        </tr>\n",
       "    </tbody>\n",
       "</table>"
      ],
      "text/plain": [
       "[(1, 'Adams', 'Andrew', 'General Manager', None, '1962-02-18 00:00:00', '2002-08-14 00:00:00', '11120 Jasper Ave NW', 'Edmonton', 'AB', 'Canada', 'T5K 2N1', '+1 (780) 428-9482', '+1 (780) 428-3457', 'andrew@chinookcorp.com'),\n",
       " (2, 'Edwards', 'Nancy', 'Sales Manager', 1, '1958-12-08 00:00:00', '2002-05-01 00:00:00', '825 8 Ave SW', 'Calgary', 'AB', 'Canada', 'T2P 2T3', '+1 (403) 262-3443', '+1 (403) 262-3322', 'nancy@chinookcorp.com'),\n",
       " (3, 'Peacock', 'Jane', 'Sales Support Agent', 2, '1973-08-29 00:00:00', '2002-04-01 00:00:00', '1111 6 Ave SW', 'Calgary', 'AB', 'Canada', 'T2P 5M5', '+1 (403) 262-3443', '+1 (403) 262-6712', 'jane@chinookcorp.com'),\n",
       " (4, 'Park', 'Margaret', 'Sales Support Agent', 2, '1947-09-19 00:00:00', '2003-05-03 00:00:00', '683 10 Street SW', 'Calgary', 'AB', 'Canada', 'T2P 5G3', '+1 (403) 263-4423', '+1 (403) 263-4289', 'margaret@chinookcorp.com'),\n",
       " (5, 'Johnson', 'Steve', 'Sales Support Agent', 2, '1965-03-03 00:00:00', '2003-10-17 00:00:00', '7727B 41 Ave', 'Calgary', 'AB', 'Canada', 'T3B 1Y7', '1 (780) 836-9987', '1 (780) 836-9543', 'steve@chinookcorp.com'),\n",
       " (6, 'Mitchell', 'Michael', 'IT Manager', 1, '1973-07-01 00:00:00', '2003-10-17 00:00:00', '5827 Bowness Road NW', 'Calgary', 'AB', 'Canada', 'T3B 0C5', '+1 (403) 246-9887', '+1 (403) 246-9899', 'michael@chinookcorp.com'),\n",
       " (7, 'King', 'Robert', 'IT Staff', 6, '1970-05-29 00:00:00', '2004-01-02 00:00:00', '590 Columbia Boulevard West', 'Lethbridge', 'AB', 'Canada', 'T1K 5N8', '+1 (403) 456-9986', '+1 (403) 456-8485', 'robert@chinookcorp.com'),\n",
       " (8, 'Callahan', 'Laura', 'IT Staff', 6, '1968-01-09 00:00:00', '2004-03-04 00:00:00', '923 7 ST NW', 'Lethbridge', 'AB', 'Canada', 'T1H 1Y8', '+1 (403) 467-3351', '+1 (403) 467-8772', 'laura@chinookcorp.com')]"
      ]
     },
     "execution_count": 10,
     "metadata": {},
     "output_type": "execute_result"
    }
   ],
   "source": [
    "%%sql\n",
    "SELECT\n",
    "    * \n",
    "FROM\n",
    "    employees;"
   ]
  },
  {
   "cell_type": "markdown",
   "id": "06af8b46",
   "metadata": {},
   "source": [
    "Here is a [view](https://www.lucidchart.com/pages/er-diagrams) of all of our tables in the database:"
   ]
  },
  {
   "cell_type": "markdown",
   "id": "08883cce",
   "metadata": {},
   "source": [
    "<div align=\"center\" style=\" font-size: 80%; text-align: center; margin: 0 auto\">\n",
    "<img src=\"https://github.com/Explore-AI/Pictures/blob/master/sqlite-sample-database-color.jpg?raw=true\"  style=\"width:500px\";/>\n",
    "<br>\n",
    "<br>\n",
    "    <em>Figure 1: Chinook ERD</em>\n",
    "</div>\n"
   ]
  },
  {
   "cell_type": "markdown",
   "id": "920e89d2",
   "metadata": {},
   "source": [
    "## Exercise\n",
    "\n",
    "Run the necessary queries that will provide us with the following information. Compare your queries with the solutions at the end of this notebook."
   ]
  },
  {
   "cell_type": "markdown",
   "id": "466e53c1",
   "metadata": {},
   "source": [
    "### Exercise 1\n",
    "\n",
    "Create a `LOOKUP` view of the surname, first name, title, and country of each employee called `Employee_View`.\n"
   ]
  },
  {
   "cell_type": "code",
   "execution_count": 7,
   "id": "038f28ea",
   "metadata": {},
   "outputs": [
    {
     "name": "stdout",
     "output_type": "stream",
     "text": [
      " * sqlite:///chinook.db\n",
      "Done.\n"
     ]
    },
    {
     "data": {
      "text/plain": [
       "[]"
      ]
     },
     "execution_count": 7,
     "metadata": {},
     "output_type": "execute_result"
    }
   ],
   "source": [
    "%%sql\n",
    "CREATE VIEW Employee_View \n",
    "AS\n",
    "    SELECT \n",
    "        LastName,\n",
    "        FirstName,\n",
    "        Title,\n",
    "        Country\n",
    "    FROM \n",
    "        employees;\n",
    "    \n"
   ]
  },
  {
   "cell_type": "markdown",
   "id": "86802726",
   "metadata": {},
   "source": [
    "### Exercise 2\n",
    "\n",
    "\n",
    "Query the `Employee_View` view to get a view of the sales team.\n",
    "\n",
    "Use the wildcard operators and the LIKE query to filter all the employees in the specified view."
   ]
  },
  {
   "cell_type": "code",
   "execution_count": 8,
   "id": "91f3421f",
   "metadata": {},
   "outputs": [
    {
     "name": "stdout",
     "output_type": "stream",
     "text": [
      " * sqlite:///chinook.db\n",
      "Done.\n"
     ]
    },
    {
     "data": {
      "text/html": [
       "<table>\n",
       "    <thead>\n",
       "        <tr>\n",
       "            <th>LastName</th>\n",
       "            <th>FirstName</th>\n",
       "            <th>Title</th>\n",
       "            <th>Country</th>\n",
       "        </tr>\n",
       "    </thead>\n",
       "    <tbody>\n",
       "        <tr>\n",
       "            <td>Adams</td>\n",
       "            <td>Andrew</td>\n",
       "            <td>General Manager</td>\n",
       "            <td>Canada</td>\n",
       "        </tr>\n",
       "        <tr>\n",
       "            <td>Edwards</td>\n",
       "            <td>Nancy</td>\n",
       "            <td>Sales Manager</td>\n",
       "            <td>Canada</td>\n",
       "        </tr>\n",
       "        <tr>\n",
       "            <td>Peacock</td>\n",
       "            <td>Jane</td>\n",
       "            <td>Sales Support Agent</td>\n",
       "            <td>Canada</td>\n",
       "        </tr>\n",
       "        <tr>\n",
       "            <td>Park</td>\n",
       "            <td>Margaret</td>\n",
       "            <td>Sales Support Agent</td>\n",
       "            <td>Canada</td>\n",
       "        </tr>\n",
       "        <tr>\n",
       "            <td>Johnson</td>\n",
       "            <td>Steve</td>\n",
       "            <td>Sales Support Agent</td>\n",
       "            <td>Canada</td>\n",
       "        </tr>\n",
       "        <tr>\n",
       "            <td>Mitchell</td>\n",
       "            <td>Michael</td>\n",
       "            <td>IT Manager</td>\n",
       "            <td>Canada</td>\n",
       "        </tr>\n",
       "        <tr>\n",
       "            <td>King</td>\n",
       "            <td>Robert</td>\n",
       "            <td>IT Staff</td>\n",
       "            <td>Canada</td>\n",
       "        </tr>\n",
       "        <tr>\n",
       "            <td>Callahan</td>\n",
       "            <td>Laura</td>\n",
       "            <td>IT Staff</td>\n",
       "            <td>Canada</td>\n",
       "        </tr>\n",
       "    </tbody>\n",
       "</table>"
      ],
      "text/plain": [
       "[('Adams', 'Andrew', 'General Manager', 'Canada'),\n",
       " ('Edwards', 'Nancy', 'Sales Manager', 'Canada'),\n",
       " ('Peacock', 'Jane', 'Sales Support Agent', 'Canada'),\n",
       " ('Park', 'Margaret', 'Sales Support Agent', 'Canada'),\n",
       " ('Johnson', 'Steve', 'Sales Support Agent', 'Canada'),\n",
       " ('Mitchell', 'Michael', 'IT Manager', 'Canada'),\n",
       " ('King', 'Robert', 'IT Staff', 'Canada'),\n",
       " ('Callahan', 'Laura', 'IT Staff', 'Canada')]"
      ]
     },
     "execution_count": 8,
     "metadata": {},
     "output_type": "execute_result"
    }
   ],
   "source": [
    "%%sql \n",
    "SELECT \n",
    "    *\n",
    "FROM \n",
    "    Employee_View;\n"
   ]
  },
  {
   "cell_type": "markdown",
   "id": "f0fade51",
   "metadata": {},
   "source": [
    "### Exercise 3\n",
    "\n",
    "\n",
    "Create a `JOIN` view that will link up all the customers with the support staff assisting them, called `Customer_Support_View`. We want to view the following:\n",
    "\n",
    "- First name of the customer\n",
    "- Last name (surname) of the customer\n",
    "- Country where the customer resides\n",
    "- SupportRepId\n",
    "- EmployeeId\n",
    "- Last name of the employee\n",
    "- First name of the employee\n",
    "- Job title of the employee\n",
    "- Country where the employee operated from"
   ]
  },
  {
   "cell_type": "code",
   "execution_count": 18,
   "id": "748f4263",
   "metadata": {},
   "outputs": [
    {
     "name": "stdout",
     "output_type": "stream",
     "text": [
      " * sqlite:///chinook.db\n",
      "(sqlite3.OperationalError) view Customer_Support_View already exists\n",
      "[SQL: CREATE VIEW Customer_Support_View \n",
      "AS\n",
      "    SELECT\n",
      "        cus.LastName AS customer_lastname,\n",
      "        cus.FirstName AS customer_firstname,\n",
      "        cus.Country AS customer_country,\n",
      "        cus.SupportRepId,\n",
      "        emp.EmployeeId,\n",
      "        emp.LastName AS employee_firstname,\n",
      "        emp.FirstName AS employee_lastname,\n",
      "        emp.Title,\n",
      "        emp.Country AS employee_country\n",
      "    FROM \n",
      "        customers AS cus\n",
      "    INNER JOIN\n",
      "        employees AS emp \n",
      "    ON \n",
      "        cus.SupportRepId=emp.EmployeeId;]\n",
      "(Background on this error at: https://sqlalche.me/e/14/e3q8)\n"
     ]
    }
   ],
   "source": [
    "%%sql\n",
    "CREATE VIEW Customer_Support_View \n",
    "AS\n",
    "    SELECT\n",
    "        cus.LastName AS customer_lastname,\n",
    "        cus.FirstName AS customer_firstname,\n",
    "        cus.Country AS customer_country,\n",
    "        cus.SupportRepId,\n",
    "        emp.EmployeeId,\n",
    "        emp.LastName AS employee_firstname,\n",
    "        emp.FirstName AS employee_lastname,\n",
    "        emp.Title,\n",
    "        emp.Country AS employee_country\n",
    "    FROM \n",
    "        customers AS cus\n",
    "    INNER JOIN\n",
    "        employees AS emp \n",
    "    ON \n",
    "        cus.SupportRepId=emp.EmployeeId;\n"
   ]
  },
  {
   "cell_type": "markdown",
   "id": "f28aef00",
   "metadata": {},
   "source": [
    "### Exercise 4\n",
    "\n",
    "Query the `Customer_Support_View` view to get a list of the names and surnames of the clients who were helped by an employee with the `Employeeid` '3'.\n"
   ]
  },
  {
   "cell_type": "code",
   "execution_count": 19,
   "id": "f4621a53",
   "metadata": {},
   "outputs": [
    {
     "name": "stdout",
     "output_type": "stream",
     "text": [
      " * sqlite:///chinook.db\n",
      "Done.\n"
     ]
    },
    {
     "data": {
      "text/html": [
       "<table>\n",
       "    <thead>\n",
       "        <tr>\n",
       "            <th>customer_lastname</th>\n",
       "            <th>customer_firstname</th>\n",
       "            <th>customer_country</th>\n",
       "            <th>SupportRepId</th>\n",
       "            <th>EmployeeId</th>\n",
       "            <th>employee_firstname</th>\n",
       "            <th>employee_lastname</th>\n",
       "            <th>Title</th>\n",
       "            <th>employee_country</th>\n",
       "        </tr>\n",
       "    </thead>\n",
       "    <tbody>\n",
       "        <tr>\n",
       "            <td>Gonçalves</td>\n",
       "            <td>Luís</td>\n",
       "            <td>Brazil</td>\n",
       "            <td>3</td>\n",
       "            <td>3</td>\n",
       "            <td>Peacock</td>\n",
       "            <td>Jane</td>\n",
       "            <td>Sales Support Agent</td>\n",
       "            <td>Canada</td>\n",
       "        </tr>\n",
       "        <tr>\n",
       "            <td>Tremblay</td>\n",
       "            <td>François</td>\n",
       "            <td>Canada</td>\n",
       "            <td>3</td>\n",
       "            <td>3</td>\n",
       "            <td>Peacock</td>\n",
       "            <td>Jane</td>\n",
       "            <td>Sales Support Agent</td>\n",
       "            <td>Canada</td>\n",
       "        </tr>\n",
       "        <tr>\n",
       "            <td>Almeida</td>\n",
       "            <td>Roberto</td>\n",
       "            <td>Brazil</td>\n",
       "            <td>3</td>\n",
       "            <td>3</td>\n",
       "            <td>Peacock</td>\n",
       "            <td>Jane</td>\n",
       "            <td>Sales Support Agent</td>\n",
       "            <td>Canada</td>\n",
       "        </tr>\n",
       "        <tr>\n",
       "            <td>Peterson</td>\n",
       "            <td>Jennifer</td>\n",
       "            <td>Canada</td>\n",
       "            <td>3</td>\n",
       "            <td>3</td>\n",
       "            <td>Peacock</td>\n",
       "            <td>Jane</td>\n",
       "            <td>Sales Support Agent</td>\n",
       "            <td>Canada</td>\n",
       "        </tr>\n",
       "        <tr>\n",
       "            <td>Brooks</td>\n",
       "            <td>Michelle</td>\n",
       "            <td>USA</td>\n",
       "            <td>3</td>\n",
       "            <td>3</td>\n",
       "            <td>Peacock</td>\n",
       "            <td>Jane</td>\n",
       "            <td>Sales Support Agent</td>\n",
       "            <td>Canada</td>\n",
       "        </tr>\n",
       "        <tr>\n",
       "            <td>Goyer</td>\n",
       "            <td>Tim</td>\n",
       "            <td>USA</td>\n",
       "            <td>3</td>\n",
       "            <td>3</td>\n",
       "            <td>Peacock</td>\n",
       "            <td>Jane</td>\n",
       "            <td>Sales Support Agent</td>\n",
       "            <td>Canada</td>\n",
       "        </tr>\n",
       "        <tr>\n",
       "            <td>Ralston</td>\n",
       "            <td>Frank</td>\n",
       "            <td>USA</td>\n",
       "            <td>3</td>\n",
       "            <td>3</td>\n",
       "            <td>Peacock</td>\n",
       "            <td>Jane</td>\n",
       "            <td>Sales Support Agent</td>\n",
       "            <td>Canada</td>\n",
       "        </tr>\n",
       "        <tr>\n",
       "            <td>Brown</td>\n",
       "            <td>Robert</td>\n",
       "            <td>Canada</td>\n",
       "            <td>3</td>\n",
       "            <td>3</td>\n",
       "            <td>Peacock</td>\n",
       "            <td>Jane</td>\n",
       "            <td>Sales Support Agent</td>\n",
       "            <td>Canada</td>\n",
       "        </tr>\n",
       "        <tr>\n",
       "            <td>Francis</td>\n",
       "            <td>Edward</td>\n",
       "            <td>Canada</td>\n",
       "            <td>3</td>\n",
       "            <td>3</td>\n",
       "            <td>Peacock</td>\n",
       "            <td>Jane</td>\n",
       "            <td>Sales Support Agent</td>\n",
       "            <td>Canada</td>\n",
       "        </tr>\n",
       "        <tr>\n",
       "            <td>Sullivan</td>\n",
       "            <td>Ellie</td>\n",
       "            <td>Canada</td>\n",
       "            <td>3</td>\n",
       "            <td>3</td>\n",
       "            <td>Peacock</td>\n",
       "            <td>Jane</td>\n",
       "            <td>Sales Support Agent</td>\n",
       "            <td>Canada</td>\n",
       "        </tr>\n",
       "        <tr>\n",
       "            <td>Zimmermann</td>\n",
       "            <td>Fynn</td>\n",
       "            <td>Germany</td>\n",
       "            <td>3</td>\n",
       "            <td>3</td>\n",
       "            <td>Peacock</td>\n",
       "            <td>Jane</td>\n",
       "            <td>Sales Support Agent</td>\n",
       "            <td>Canada</td>\n",
       "        </tr>\n",
       "        <tr>\n",
       "            <td>Schröder</td>\n",
       "            <td>Niklas</td>\n",
       "            <td>Germany</td>\n",
       "            <td>3</td>\n",
       "            <td>3</td>\n",
       "            <td>Peacock</td>\n",
       "            <td>Jane</td>\n",
       "            <td>Sales Support Agent</td>\n",
       "            <td>Canada</td>\n",
       "        </tr>\n",
       "        <tr>\n",
       "            <td>Girard</td>\n",
       "            <td>Wyatt</td>\n",
       "            <td>France</td>\n",
       "            <td>3</td>\n",
       "            <td>3</td>\n",
       "            <td>Peacock</td>\n",
       "            <td>Jane</td>\n",
       "            <td>Sales Support Agent</td>\n",
       "            <td>Canada</td>\n",
       "        </tr>\n",
       "        <tr>\n",
       "            <td>Mercier</td>\n",
       "            <td>Isabelle</td>\n",
       "            <td>France</td>\n",
       "            <td>3</td>\n",
       "            <td>3</td>\n",
       "            <td>Peacock</td>\n",
       "            <td>Jane</td>\n",
       "            <td>Sales Support Agent</td>\n",
       "            <td>Canada</td>\n",
       "        </tr>\n",
       "        <tr>\n",
       "            <td>Hämäläinen</td>\n",
       "            <td>Terhi</td>\n",
       "            <td>Finland</td>\n",
       "            <td>3</td>\n",
       "            <td>3</td>\n",
       "            <td>Peacock</td>\n",
       "            <td>Jane</td>\n",
       "            <td>Sales Support Agent</td>\n",
       "            <td>Canada</td>\n",
       "        </tr>\n",
       "        <tr>\n",
       "            <td>Kovács</td>\n",
       "            <td>Ladislav</td>\n",
       "            <td>Hungary</td>\n",
       "            <td>3</td>\n",
       "            <td>3</td>\n",
       "            <td>Peacock</td>\n",
       "            <td>Jane</td>\n",
       "            <td>Sales Support Agent</td>\n",
       "            <td>Canada</td>\n",
       "        </tr>\n",
       "        <tr>\n",
       "            <td>O&#x27;Reilly</td>\n",
       "            <td>Hugh</td>\n",
       "            <td>Ireland</td>\n",
       "            <td>3</td>\n",
       "            <td>3</td>\n",
       "            <td>Peacock</td>\n",
       "            <td>Jane</td>\n",
       "            <td>Sales Support Agent</td>\n",
       "            <td>Canada</td>\n",
       "        </tr>\n",
       "        <tr>\n",
       "            <td>Jones</td>\n",
       "            <td>Emma</td>\n",
       "            <td>United Kingdom</td>\n",
       "            <td>3</td>\n",
       "            <td>3</td>\n",
       "            <td>Peacock</td>\n",
       "            <td>Jane</td>\n",
       "            <td>Sales Support Agent</td>\n",
       "            <td>Canada</td>\n",
       "        </tr>\n",
       "        <tr>\n",
       "            <td>Hughes</td>\n",
       "            <td>Phil</td>\n",
       "            <td>United Kingdom</td>\n",
       "            <td>3</td>\n",
       "            <td>3</td>\n",
       "            <td>Peacock</td>\n",
       "            <td>Jane</td>\n",
       "            <td>Sales Support Agent</td>\n",
       "            <td>Canada</td>\n",
       "        </tr>\n",
       "        <tr>\n",
       "            <td>Pareek</td>\n",
       "            <td>Manoj</td>\n",
       "            <td>India</td>\n",
       "            <td>3</td>\n",
       "            <td>3</td>\n",
       "            <td>Peacock</td>\n",
       "            <td>Jane</td>\n",
       "            <td>Sales Support Agent</td>\n",
       "            <td>Canada</td>\n",
       "        </tr>\n",
       "        <tr>\n",
       "            <td>Srivastava</td>\n",
       "            <td>Puja</td>\n",
       "            <td>India</td>\n",
       "            <td>3</td>\n",
       "            <td>3</td>\n",
       "            <td>Peacock</td>\n",
       "            <td>Jane</td>\n",
       "            <td>Sales Support Agent</td>\n",
       "            <td>Canada</td>\n",
       "        </tr>\n",
       "    </tbody>\n",
       "</table>"
      ],
      "text/plain": [
       "[('Gonçalves', 'Luís', 'Brazil', 3, 3, 'Peacock', 'Jane', 'Sales Support Agent', 'Canada'),\n",
       " ('Tremblay', 'François', 'Canada', 3, 3, 'Peacock', 'Jane', 'Sales Support Agent', 'Canada'),\n",
       " ('Almeida', 'Roberto', 'Brazil', 3, 3, 'Peacock', 'Jane', 'Sales Support Agent', 'Canada'),\n",
       " ('Peterson', 'Jennifer', 'Canada', 3, 3, 'Peacock', 'Jane', 'Sales Support Agent', 'Canada'),\n",
       " ('Brooks', 'Michelle', 'USA', 3, 3, 'Peacock', 'Jane', 'Sales Support Agent', 'Canada'),\n",
       " ('Goyer', 'Tim', 'USA', 3, 3, 'Peacock', 'Jane', 'Sales Support Agent', 'Canada'),\n",
       " ('Ralston', 'Frank', 'USA', 3, 3, 'Peacock', 'Jane', 'Sales Support Agent', 'Canada'),\n",
       " ('Brown', 'Robert', 'Canada', 3, 3, 'Peacock', 'Jane', 'Sales Support Agent', 'Canada'),\n",
       " ('Francis', 'Edward', 'Canada', 3, 3, 'Peacock', 'Jane', 'Sales Support Agent', 'Canada'),\n",
       " ('Sullivan', 'Ellie', 'Canada', 3, 3, 'Peacock', 'Jane', 'Sales Support Agent', 'Canada'),\n",
       " ('Zimmermann', 'Fynn', 'Germany', 3, 3, 'Peacock', 'Jane', 'Sales Support Agent', 'Canada'),\n",
       " ('Schröder', 'Niklas', 'Germany', 3, 3, 'Peacock', 'Jane', 'Sales Support Agent', 'Canada'),\n",
       " ('Girard', 'Wyatt', 'France', 3, 3, 'Peacock', 'Jane', 'Sales Support Agent', 'Canada'),\n",
       " ('Mercier', 'Isabelle', 'France', 3, 3, 'Peacock', 'Jane', 'Sales Support Agent', 'Canada'),\n",
       " ('Hämäläinen', 'Terhi', 'Finland', 3, 3, 'Peacock', 'Jane', 'Sales Support Agent', 'Canada'),\n",
       " ('Kovács', 'Ladislav', 'Hungary', 3, 3, 'Peacock', 'Jane', 'Sales Support Agent', 'Canada'),\n",
       " (\"O'Reilly\", 'Hugh', 'Ireland', 3, 3, 'Peacock', 'Jane', 'Sales Support Agent', 'Canada'),\n",
       " ('Jones', 'Emma', 'United Kingdom', 3, 3, 'Peacock', 'Jane', 'Sales Support Agent', 'Canada'),\n",
       " ('Hughes', 'Phil', 'United Kingdom', 3, 3, 'Peacock', 'Jane', 'Sales Support Agent', 'Canada'),\n",
       " ('Pareek', 'Manoj', 'India', 3, 3, 'Peacock', 'Jane', 'Sales Support Agent', 'Canada'),\n",
       " ('Srivastava', 'Puja', 'India', 3, 3, 'Peacock', 'Jane', 'Sales Support Agent', 'Canada')]"
      ]
     },
     "execution_count": 19,
     "metadata": {},
     "output_type": "execute_result"
    }
   ],
   "source": [
    "%%sql\n",
    "SELECT\n",
    "    *\n",
    "FROM\n",
    "    Customer_Support_View\n",
    "WHERE\n",
    "    EmployeeId=3;\n",
    "    \n"
   ]
  },
  {
   "cell_type": "markdown",
   "id": "7a51093c",
   "metadata": {},
   "source": [
    "### Exercise 5\n",
    "\n",
    "Create an `AGGREGATING` view that counts the number of customers that are currently being serviced per country, called `Customer_per_Country_View`.\n",
    "\n",
    "We would like to see the country name and the number of customers in this view.\n"
   ]
  },
  {
   "cell_type": "code",
   "execution_count": 24,
   "id": "99479d5f",
   "metadata": {},
   "outputs": [
    {
     "name": "stdout",
     "output_type": "stream",
     "text": [
      " * sqlite:///chinook.db\n",
      "Done.\n"
     ]
    },
    {
     "data": {
      "text/plain": [
       "[]"
      ]
     },
     "execution_count": 24,
     "metadata": {},
     "output_type": "execute_result"
    }
   ],
   "source": [
    "%%sql\n",
    "CREATE VIEW Customer_per_Country_View\n",
    "AS\n",
    "SELECT\n",
    "    Country,\n",
    "    COUNT(LastName) As no_of_customers\n",
    "FROM\n",
    "    customers\n",
    "GROUP BY Country;\n"
   ]
  },
  {
   "cell_type": "markdown",
   "id": "d5aefbd6",
   "metadata": {},
   "source": [
    "### Exercise 6\n",
    "Write a query that returns the country with the most customers from `Customer_per_Country_View`.\n"
   ]
  },
  {
   "cell_type": "code",
   "execution_count": 27,
   "id": "fc98fe10",
   "metadata": {},
   "outputs": [
    {
     "name": "stdout",
     "output_type": "stream",
     "text": [
      " * sqlite:///chinook.db\n",
      "Done.\n"
     ]
    },
    {
     "data": {
      "text/html": [
       "<table>\n",
       "    <thead>\n",
       "        <tr>\n",
       "            <th>Country</th>\n",
       "            <th>MAX(no_of_customers)</th>\n",
       "        </tr>\n",
       "    </thead>\n",
       "    <tbody>\n",
       "        <tr>\n",
       "            <td>USA</td>\n",
       "            <td>13</td>\n",
       "        </tr>\n",
       "    </tbody>\n",
       "</table>"
      ],
      "text/plain": [
       "[('USA', 13)]"
      ]
     },
     "execution_count": 27,
     "metadata": {},
     "output_type": "execute_result"
    }
   ],
   "source": [
    "%%sql \n",
    "SELECT \n",
    "    Country,\n",
    "    MAX(no_of_customers)\n",
    "FROM\n",
    "    Customer_per_Country_View;\n"
   ]
  },
  {
   "cell_type": "markdown",
   "id": "a18b461d",
   "metadata": {},
   "source": [
    "### Exercise 7\n",
    "\n",
    "Write a query that will delete the `Employee_View` view."
   ]
  },
  {
   "cell_type": "code",
   "execution_count": 29,
   "id": "ee7daac8",
   "metadata": {},
   "outputs": [
    {
     "name": "stdout",
     "output_type": "stream",
     "text": [
      " * sqlite:///chinook.db\n",
      "Done.\n"
     ]
    },
    {
     "data": {
      "text/plain": [
       "[]"
      ]
     },
     "execution_count": 29,
     "metadata": {},
     "output_type": "execute_result"
    }
   ],
   "source": [
    "%%sql\n",
    "DROP VIEW Employee_View;\n"
   ]
  },
  {
   "cell_type": "markdown",
   "id": "dde873fc",
   "metadata": {},
   "source": [
    "### Challenge question\n",
    "\n",
    "Write a query that returns the number of customers that each support employee services, along with the name of the employee. Call this view `Support_Person_Stats`.\n",
    "\n",
    "To do this, we will need to create a view, join the Customer and Employee tables, and use the `COUNT` and `GROUP BY` functions to aggregate the number of employees serviced by each employee."
   ]
  },
  {
   "cell_type": "code",
   "execution_count": 41,
   "id": "57804ebf",
   "metadata": {},
   "outputs": [
    {
     "name": "stdout",
     "output_type": "stream",
     "text": [
      " * sqlite:///chinook.db\n",
      "Done.\n"
     ]
    },
    {
     "data": {
      "text/plain": [
       "[]"
      ]
     },
     "execution_count": 41,
     "metadata": {},
     "output_type": "execute_result"
    }
   ],
   "source": [
    "%%sql\n",
    "CREATE VIEW Support_Person_Stats\n",
    "AS\n",
    "SELECT\n",
    "    emp.EmployeeId,\n",
    "    emp.LastName AS employee_firstname,\n",
    "    emp.FirstName AS employee_lastname,\n",
    "    COUNT(cus.SupportRepId) As no_of_customers\n",
    "FROM \n",
    "    customers AS cus\n",
    "INNER JOIN\n",
    "    employees AS emp \n",
    "ON \n",
    "    cus.SupportRepId=emp.EmployeeId\n",
    "GROUP BY\n",
    "    EmployeeId;\n"
   ]
  },
  {
   "cell_type": "code",
   "execution_count": 38,
   "id": "51d65ec8",
   "metadata": {},
   "outputs": [
    {
     "name": "stdout",
     "output_type": "stream",
     "text": [
      " * sqlite:///chinook.db\n",
      "Done.\n"
     ]
    },
    {
     "data": {
      "text/html": [
       "<table>\n",
       "    <thead>\n",
       "        <tr>\n",
       "            <th>Count_of_Customers_Serviced</th>\n",
       "            <th>EmployeeId</th>\n",
       "            <th>LastName</th>\n",
       "        </tr>\n",
       "    </thead>\n",
       "    <tbody>\n",
       "        <tr>\n",
       "            <td>21</td>\n",
       "            <td>3</td>\n",
       "            <td>Peacock</td>\n",
       "        </tr>\n",
       "        <tr>\n",
       "            <td>20</td>\n",
       "            <td>4</td>\n",
       "            <td>Park</td>\n",
       "        </tr>\n",
       "        <tr>\n",
       "            <td>18</td>\n",
       "            <td>5</td>\n",
       "            <td>Johnson</td>\n",
       "        </tr>\n",
       "    </tbody>\n",
       "</table>"
      ],
      "text/plain": [
       "[(21, 3, 'Peacock'), (20, 4, 'Park'), (18, 5, 'Johnson')]"
      ]
     },
     "execution_count": 38,
     "metadata": {},
     "output_type": "execute_result"
    }
   ],
   "source": [
    "%%sql\n",
    "SELECT \n",
    "    COUNT(c.SupportRepId) Count_of_Customers_Serviced ,\n",
    "    e.EmployeeId, \n",
    "    e.LastName\n",
    "FROM \n",
    "    customers c \n",
    "INNER JOIN \n",
    "    employees e\n",
    "ON \n",
    "    c.SupportRepId = e.EmployeeId\n",
    "GROUP BY \n",
    "    e.EmployeeId;"
   ]
  },
  {
   "cell_type": "markdown",
   "id": "b3c88335",
   "metadata": {},
   "source": [
    "## Solutions"
   ]
  },
  {
   "cell_type": "markdown",
   "id": "a5084b12",
   "metadata": {},
   "source": [
    "### Exercise 1"
   ]
  },
  {
   "cell_type": "code",
   "execution_count": null,
   "id": "c968d875",
   "metadata": {
    "scrolled": true
   },
   "outputs": [],
   "source": [
    "%%sql\n",
    "\n",
    "CREATE VIEW Employee_View AS \n",
    "SELECT LastName, FirstName, Title, Country\n",
    "FROM Employees;"
   ]
  },
  {
   "cell_type": "markdown",
   "id": "294d8eef",
   "metadata": {},
   "source": [
    "### Exercise 2"
   ]
  },
  {
   "cell_type": "code",
   "execution_count": null,
   "id": "03071e34",
   "metadata": {},
   "outputs": [],
   "source": [
    "%%sql\n",
    "\n",
    "SELECT * FROM Employee_View\n",
    "WHERE Title LIKE '%Sales%'"
   ]
  },
  {
   "cell_type": "markdown",
   "id": "eafe40b6",
   "metadata": {},
   "source": [
    "### Exercise 3"
   ]
  },
  {
   "cell_type": "code",
   "execution_count": null,
   "id": "1ffd2239",
   "metadata": {},
   "outputs": [],
   "source": [
    "%%sql\n",
    "\n",
    "CREATE VIEW Customer_Support_View AS\n",
    "SELECT c.FirstName Customer_Name, c.LastName Customer_Surname, c.Country Customer_Country, c.SupportRepId, e.EmployeeId, e.LastName Employee_surname, e.FirstName Employee_first_name, e.Title Employee_job_title, e.Country Employee_Country\n",
    "FROM customers c \n",
    "INNER JOIN employees e\n",
    "ON c.SupportRepId = e.EmployeeId\n"
   ]
  },
  {
   "cell_type": "markdown",
   "id": "e9956efe",
   "metadata": {},
   "source": [
    "### Exercise 4"
   ]
  },
  {
   "cell_type": "code",
   "execution_count": 21,
   "id": "cd662edc",
   "metadata": {},
   "outputs": [
    {
     "name": "stdout",
     "output_type": "stream",
     "text": [
      " * sqlite:///chinook.db\n",
      "Done.\n"
     ]
    },
    {
     "data": {
      "text/html": [
       "<table>\n",
       "    <thead>\n",
       "        <tr>\n",
       "            <th>customer_lastname</th>\n",
       "            <th>customer_firstname</th>\n",
       "            <th>customer_country</th>\n",
       "            <th>SupportRepId</th>\n",
       "            <th>EmployeeId</th>\n",
       "            <th>employee_firstname</th>\n",
       "            <th>employee_lastname</th>\n",
       "            <th>Title</th>\n",
       "            <th>employee_country</th>\n",
       "        </tr>\n",
       "    </thead>\n",
       "    <tbody>\n",
       "        <tr>\n",
       "            <td>Gonçalves</td>\n",
       "            <td>Luís</td>\n",
       "            <td>Brazil</td>\n",
       "            <td>3</td>\n",
       "            <td>3</td>\n",
       "            <td>Peacock</td>\n",
       "            <td>Jane</td>\n",
       "            <td>Sales Support Agent</td>\n",
       "            <td>Canada</td>\n",
       "        </tr>\n",
       "        <tr>\n",
       "            <td>Tremblay</td>\n",
       "            <td>François</td>\n",
       "            <td>Canada</td>\n",
       "            <td>3</td>\n",
       "            <td>3</td>\n",
       "            <td>Peacock</td>\n",
       "            <td>Jane</td>\n",
       "            <td>Sales Support Agent</td>\n",
       "            <td>Canada</td>\n",
       "        </tr>\n",
       "        <tr>\n",
       "            <td>Almeida</td>\n",
       "            <td>Roberto</td>\n",
       "            <td>Brazil</td>\n",
       "            <td>3</td>\n",
       "            <td>3</td>\n",
       "            <td>Peacock</td>\n",
       "            <td>Jane</td>\n",
       "            <td>Sales Support Agent</td>\n",
       "            <td>Canada</td>\n",
       "        </tr>\n",
       "        <tr>\n",
       "            <td>Peterson</td>\n",
       "            <td>Jennifer</td>\n",
       "            <td>Canada</td>\n",
       "            <td>3</td>\n",
       "            <td>3</td>\n",
       "            <td>Peacock</td>\n",
       "            <td>Jane</td>\n",
       "            <td>Sales Support Agent</td>\n",
       "            <td>Canada</td>\n",
       "        </tr>\n",
       "        <tr>\n",
       "            <td>Brooks</td>\n",
       "            <td>Michelle</td>\n",
       "            <td>USA</td>\n",
       "            <td>3</td>\n",
       "            <td>3</td>\n",
       "            <td>Peacock</td>\n",
       "            <td>Jane</td>\n",
       "            <td>Sales Support Agent</td>\n",
       "            <td>Canada</td>\n",
       "        </tr>\n",
       "        <tr>\n",
       "            <td>Goyer</td>\n",
       "            <td>Tim</td>\n",
       "            <td>USA</td>\n",
       "            <td>3</td>\n",
       "            <td>3</td>\n",
       "            <td>Peacock</td>\n",
       "            <td>Jane</td>\n",
       "            <td>Sales Support Agent</td>\n",
       "            <td>Canada</td>\n",
       "        </tr>\n",
       "        <tr>\n",
       "            <td>Ralston</td>\n",
       "            <td>Frank</td>\n",
       "            <td>USA</td>\n",
       "            <td>3</td>\n",
       "            <td>3</td>\n",
       "            <td>Peacock</td>\n",
       "            <td>Jane</td>\n",
       "            <td>Sales Support Agent</td>\n",
       "            <td>Canada</td>\n",
       "        </tr>\n",
       "        <tr>\n",
       "            <td>Brown</td>\n",
       "            <td>Robert</td>\n",
       "            <td>Canada</td>\n",
       "            <td>3</td>\n",
       "            <td>3</td>\n",
       "            <td>Peacock</td>\n",
       "            <td>Jane</td>\n",
       "            <td>Sales Support Agent</td>\n",
       "            <td>Canada</td>\n",
       "        </tr>\n",
       "        <tr>\n",
       "            <td>Francis</td>\n",
       "            <td>Edward</td>\n",
       "            <td>Canada</td>\n",
       "            <td>3</td>\n",
       "            <td>3</td>\n",
       "            <td>Peacock</td>\n",
       "            <td>Jane</td>\n",
       "            <td>Sales Support Agent</td>\n",
       "            <td>Canada</td>\n",
       "        </tr>\n",
       "        <tr>\n",
       "            <td>Sullivan</td>\n",
       "            <td>Ellie</td>\n",
       "            <td>Canada</td>\n",
       "            <td>3</td>\n",
       "            <td>3</td>\n",
       "            <td>Peacock</td>\n",
       "            <td>Jane</td>\n",
       "            <td>Sales Support Agent</td>\n",
       "            <td>Canada</td>\n",
       "        </tr>\n",
       "        <tr>\n",
       "            <td>Zimmermann</td>\n",
       "            <td>Fynn</td>\n",
       "            <td>Germany</td>\n",
       "            <td>3</td>\n",
       "            <td>3</td>\n",
       "            <td>Peacock</td>\n",
       "            <td>Jane</td>\n",
       "            <td>Sales Support Agent</td>\n",
       "            <td>Canada</td>\n",
       "        </tr>\n",
       "        <tr>\n",
       "            <td>Schröder</td>\n",
       "            <td>Niklas</td>\n",
       "            <td>Germany</td>\n",
       "            <td>3</td>\n",
       "            <td>3</td>\n",
       "            <td>Peacock</td>\n",
       "            <td>Jane</td>\n",
       "            <td>Sales Support Agent</td>\n",
       "            <td>Canada</td>\n",
       "        </tr>\n",
       "        <tr>\n",
       "            <td>Girard</td>\n",
       "            <td>Wyatt</td>\n",
       "            <td>France</td>\n",
       "            <td>3</td>\n",
       "            <td>3</td>\n",
       "            <td>Peacock</td>\n",
       "            <td>Jane</td>\n",
       "            <td>Sales Support Agent</td>\n",
       "            <td>Canada</td>\n",
       "        </tr>\n",
       "        <tr>\n",
       "            <td>Mercier</td>\n",
       "            <td>Isabelle</td>\n",
       "            <td>France</td>\n",
       "            <td>3</td>\n",
       "            <td>3</td>\n",
       "            <td>Peacock</td>\n",
       "            <td>Jane</td>\n",
       "            <td>Sales Support Agent</td>\n",
       "            <td>Canada</td>\n",
       "        </tr>\n",
       "        <tr>\n",
       "            <td>Hämäläinen</td>\n",
       "            <td>Terhi</td>\n",
       "            <td>Finland</td>\n",
       "            <td>3</td>\n",
       "            <td>3</td>\n",
       "            <td>Peacock</td>\n",
       "            <td>Jane</td>\n",
       "            <td>Sales Support Agent</td>\n",
       "            <td>Canada</td>\n",
       "        </tr>\n",
       "        <tr>\n",
       "            <td>Kovács</td>\n",
       "            <td>Ladislav</td>\n",
       "            <td>Hungary</td>\n",
       "            <td>3</td>\n",
       "            <td>3</td>\n",
       "            <td>Peacock</td>\n",
       "            <td>Jane</td>\n",
       "            <td>Sales Support Agent</td>\n",
       "            <td>Canada</td>\n",
       "        </tr>\n",
       "        <tr>\n",
       "            <td>O&#x27;Reilly</td>\n",
       "            <td>Hugh</td>\n",
       "            <td>Ireland</td>\n",
       "            <td>3</td>\n",
       "            <td>3</td>\n",
       "            <td>Peacock</td>\n",
       "            <td>Jane</td>\n",
       "            <td>Sales Support Agent</td>\n",
       "            <td>Canada</td>\n",
       "        </tr>\n",
       "        <tr>\n",
       "            <td>Jones</td>\n",
       "            <td>Emma</td>\n",
       "            <td>United Kingdom</td>\n",
       "            <td>3</td>\n",
       "            <td>3</td>\n",
       "            <td>Peacock</td>\n",
       "            <td>Jane</td>\n",
       "            <td>Sales Support Agent</td>\n",
       "            <td>Canada</td>\n",
       "        </tr>\n",
       "        <tr>\n",
       "            <td>Hughes</td>\n",
       "            <td>Phil</td>\n",
       "            <td>United Kingdom</td>\n",
       "            <td>3</td>\n",
       "            <td>3</td>\n",
       "            <td>Peacock</td>\n",
       "            <td>Jane</td>\n",
       "            <td>Sales Support Agent</td>\n",
       "            <td>Canada</td>\n",
       "        </tr>\n",
       "        <tr>\n",
       "            <td>Pareek</td>\n",
       "            <td>Manoj</td>\n",
       "            <td>India</td>\n",
       "            <td>3</td>\n",
       "            <td>3</td>\n",
       "            <td>Peacock</td>\n",
       "            <td>Jane</td>\n",
       "            <td>Sales Support Agent</td>\n",
       "            <td>Canada</td>\n",
       "        </tr>\n",
       "        <tr>\n",
       "            <td>Srivastava</td>\n",
       "            <td>Puja</td>\n",
       "            <td>India</td>\n",
       "            <td>3</td>\n",
       "            <td>3</td>\n",
       "            <td>Peacock</td>\n",
       "            <td>Jane</td>\n",
       "            <td>Sales Support Agent</td>\n",
       "            <td>Canada</td>\n",
       "        </tr>\n",
       "    </tbody>\n",
       "</table>"
      ],
      "text/plain": [
       "[('Gonçalves', 'Luís', 'Brazil', 3, 3, 'Peacock', 'Jane', 'Sales Support Agent', 'Canada'),\n",
       " ('Tremblay', 'François', 'Canada', 3, 3, 'Peacock', 'Jane', 'Sales Support Agent', 'Canada'),\n",
       " ('Almeida', 'Roberto', 'Brazil', 3, 3, 'Peacock', 'Jane', 'Sales Support Agent', 'Canada'),\n",
       " ('Peterson', 'Jennifer', 'Canada', 3, 3, 'Peacock', 'Jane', 'Sales Support Agent', 'Canada'),\n",
       " ('Brooks', 'Michelle', 'USA', 3, 3, 'Peacock', 'Jane', 'Sales Support Agent', 'Canada'),\n",
       " ('Goyer', 'Tim', 'USA', 3, 3, 'Peacock', 'Jane', 'Sales Support Agent', 'Canada'),\n",
       " ('Ralston', 'Frank', 'USA', 3, 3, 'Peacock', 'Jane', 'Sales Support Agent', 'Canada'),\n",
       " ('Brown', 'Robert', 'Canada', 3, 3, 'Peacock', 'Jane', 'Sales Support Agent', 'Canada'),\n",
       " ('Francis', 'Edward', 'Canada', 3, 3, 'Peacock', 'Jane', 'Sales Support Agent', 'Canada'),\n",
       " ('Sullivan', 'Ellie', 'Canada', 3, 3, 'Peacock', 'Jane', 'Sales Support Agent', 'Canada'),\n",
       " ('Zimmermann', 'Fynn', 'Germany', 3, 3, 'Peacock', 'Jane', 'Sales Support Agent', 'Canada'),\n",
       " ('Schröder', 'Niklas', 'Germany', 3, 3, 'Peacock', 'Jane', 'Sales Support Agent', 'Canada'),\n",
       " ('Girard', 'Wyatt', 'France', 3, 3, 'Peacock', 'Jane', 'Sales Support Agent', 'Canada'),\n",
       " ('Mercier', 'Isabelle', 'France', 3, 3, 'Peacock', 'Jane', 'Sales Support Agent', 'Canada'),\n",
       " ('Hämäläinen', 'Terhi', 'Finland', 3, 3, 'Peacock', 'Jane', 'Sales Support Agent', 'Canada'),\n",
       " ('Kovács', 'Ladislav', 'Hungary', 3, 3, 'Peacock', 'Jane', 'Sales Support Agent', 'Canada'),\n",
       " (\"O'Reilly\", 'Hugh', 'Ireland', 3, 3, 'Peacock', 'Jane', 'Sales Support Agent', 'Canada'),\n",
       " ('Jones', 'Emma', 'United Kingdom', 3, 3, 'Peacock', 'Jane', 'Sales Support Agent', 'Canada'),\n",
       " ('Hughes', 'Phil', 'United Kingdom', 3, 3, 'Peacock', 'Jane', 'Sales Support Agent', 'Canada'),\n",
       " ('Pareek', 'Manoj', 'India', 3, 3, 'Peacock', 'Jane', 'Sales Support Agent', 'Canada'),\n",
       " ('Srivastava', 'Puja', 'India', 3, 3, 'Peacock', 'Jane', 'Sales Support Agent', 'Canada')]"
      ]
     },
     "execution_count": 21,
     "metadata": {},
     "output_type": "execute_result"
    }
   ],
   "source": [
    "%%sql\n",
    "\n",
    "SELECT\n",
    "    *\n",
    "FROM Customer_Support_View\n",
    "WHERE Employeeid = 3;"
   ]
  },
  {
   "cell_type": "markdown",
   "id": "c1341a11",
   "metadata": {},
   "source": [
    "### Exercise 5"
   ]
  },
  {
   "cell_type": "code",
   "execution_count": null,
   "id": "9a0cf068",
   "metadata": {},
   "outputs": [],
   "source": [
    "%%sql\n",
    "\n",
    "CREATE VIEW Customer_per_Country_View AS \n",
    "SELECT COUNT (CustomerId) AS Num_customers, Country\n",
    "FROM customers\n",
    "GROUP BY Country;"
   ]
  },
  {
   "cell_type": "markdown",
   "id": "9372f6b4",
   "metadata": {},
   "source": [
    "### Exercise 6"
   ]
  },
  {
   "cell_type": "code",
   "execution_count": 26,
   "id": "d5ac7556",
   "metadata": {},
   "outputs": [
    {
     "name": "stdout",
     "output_type": "stream",
     "text": [
      " * sqlite:///chinook.db\n",
      "Done.\n"
     ]
    },
    {
     "data": {
      "text/html": [
       "<table>\n",
       "    <thead>\n",
       "        <tr>\n",
       "            <th>Country</th>\n",
       "            <th>MAX(no_of_customers)</th>\n",
       "        </tr>\n",
       "    </thead>\n",
       "    <tbody>\n",
       "        <tr>\n",
       "            <td>USA</td>\n",
       "            <td>13</td>\n",
       "        </tr>\n",
       "    </tbody>\n",
       "</table>"
      ],
      "text/plain": [
       "[('USA', 13)]"
      ]
     },
     "execution_count": 26,
     "metadata": {},
     "output_type": "execute_result"
    }
   ],
   "source": [
    "%%sql\n",
    "\n",
    "SELECT Country, MAX(no_of_customers) \n",
    "FROM Customer_per_Country_View;"
   ]
  },
  {
   "cell_type": "markdown",
   "id": "10b888fd",
   "metadata": {},
   "source": [
    "### Exercise 7"
   ]
  },
  {
   "cell_type": "code",
   "execution_count": null,
   "id": "6d8ab7fa",
   "metadata": {},
   "outputs": [],
   "source": [
    "%%sql\n",
    "\n",
    "DROP VIEW Employee_View"
   ]
  },
  {
   "cell_type": "markdown",
   "id": "a9364c60",
   "metadata": {},
   "source": [
    "### Challenge question"
   ]
  },
  {
   "cell_type": "code",
   "execution_count": null,
   "id": "74f04ced",
   "metadata": {},
   "outputs": [],
   "source": [
    "%%sql\n",
    "\n",
    "CREATE VIEW Support_Person_Stats AS\n",
    "SELECT COUNT(c.SupportRepId) Count_of_Customers_Serviced , e.EmployeeId, e.LastName\n",
    "FROM customers c \n",
    "INNER JOIN employees e\n",
    "ON c.SupportRepId = e.EmployeeId\n",
    "GROUP BY e.EmployeeId;"
   ]
  },
  {
   "cell_type": "markdown",
   "id": "c2a7b88d",
   "metadata": {},
   "source": [
    "* Note: Because views are added to the main database after they are created, if we want to perform the `CREATE VIEW` commands again, we must first drop the prior view to prevent receiving a 'VIEW already exists' error."
   ]
  },
  {
   "cell_type": "markdown",
   "id": "6d8d9bdd",
   "metadata": {},
   "source": [
    "<div align=\"center\" style=\" font-size: 80%; text-align: center; margin: 0 auto\">\n",
    "<img src=\"https://raw.githubusercontent.com/Explore-AI/Pictures/master/ExploreAI_logos/EAI_Blue_Dark.png\"  style=\"width:200px\";/>\n",
    "</div>"
   ]
  }
 ],
 "metadata": {
  "kernelspec": {
   "display_name": "Python 3 (ipykernel)",
   "language": "python",
   "name": "python3"
  },
  "language_info": {
   "codemirror_mode": {
    "name": "ipython",
    "version": 3
   },
   "file_extension": ".py",
   "mimetype": "text/x-python",
   "name": "python",
   "nbconvert_exporter": "python",
   "pygments_lexer": "ipython3",
   "version": "3.11.5"
  }
 },
 "nbformat": 4,
 "nbformat_minor": 5
}
