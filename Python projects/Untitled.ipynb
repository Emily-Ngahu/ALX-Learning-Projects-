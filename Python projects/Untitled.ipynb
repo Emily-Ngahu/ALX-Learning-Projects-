{
 "cells": [
  {
   "cell_type": "code",
   "execution_count": 3,
   "id": "58bd2031",
   "metadata": {},
   "outputs": [
    {
     "name": "stdout",
     "output_type": "stream",
     "text": [
      "Total Area: 44.26\n"
     ]
    }
   ],
   "source": [
    "class Shape:\n",
    "    def __init__(self, name):\n",
    "        self.name = name\n",
    "\n",
    "class Circle(Shape):\n",
    "    def __init__(self, radius):\n",
    "        super().__init__(\"Circle\")\n",
    "        self.radius = radius\n",
    "\n",
    "    def area(self):\n",
    "        return 3.14 * self.radius * self.radius\n",
    "class Square(Shape):\n",
    "    def __init__(self, side):\n",
    "        super().__init__(\"Square\")\n",
    "        self.side = side\n",
    "\n",
    "    def area(self):\n",
    "        return self.side * self.side\n",
    "\n",
    "circle = Circle(3)\n",
    "square = Square(4)\n",
    "total_area = circle.area() + square.area()\n",
    "print(\"Total Area:\", total_area)"
   ]
  },
  {
   "cell_type": "code",
   "execution_count": 2,
   "id": "95c8ddf9",
   "metadata": {},
   "outputs": [],
   "source": [
    "class ExampleClass:\n",
    "def __init__(self,value):\n",
    "self.value = value\n",
    "def get_value(self):\n",
    "return self.value"
   ]
  },
  {
   "cell_type": "code",
   "execution_count": 4,
   "id": "bb06e84a",
   "metadata": {},
   "outputs": [
    {
     "name": "stdout",
     "output_type": "stream",
     "text": [
      "[1, 4, 9, 16, 25]\n"
     ]
    }
   ],
   "source": [
    "numbers = [1, 2, 3, 4, 5]\n",
    "result = map(lambda x: x**2, numbers)\n",
    "print(list(result))"
   ]
  },
  {
   "cell_type": "code",
   "execution_count": null,
   "id": "fae88f74",
   "metadata": {},
   "outputs": [],
   "source": [
    "return 2 * (self.width + self.height)\n",
    "def perimeter(self):\n",
    "return self.width * self.height\n",
    "class Rectangle:\n",
    "def __init__(self, width, height):\n",
    "self.width = width\n",
    "self.height = height\n",
    "def area(self):\n",
    "\n",
    "rect = Rectangle(3, 4)\n",
    "print(\"Area:\", rect.area(), \"Perimeter:\", rect.perimeter())"
   ]
  },
  {
   "cell_type": "code",
   "execution_count": 5,
   "id": "b15a0105",
   "metadata": {},
   "outputs": [
    {
     "name": "stdout",
     "output_type": "stream",
     "text": [
      "Area: 12 Perimeter: 14\n"
     ]
    }
   ],
   "source": [
    "class Rectangle:\n",
    "    def __init__(self, width, height):\n",
    "        self.width = width\n",
    "        self.height = height\n",
    "    def perimeter(self):\n",
    "        return 2 * (self.width + self.height)\n",
    "    def area(self):\n",
    "        return self.width * self.height\n",
    "\n",
    "rect = Rectangle(3, 4)\n",
    "print(\"Area:\", rect.area(), \"Perimeter:\", rect.perimeter())        "
   ]
  },
  {
   "cell_type": "code",
   "execution_count": null,
   "id": "8690ec9a",
   "metadata": {},
   "outputs": [],
   "source": [
    "def __init__(self, radius):\n",
    "self.radius = radius\n",
    "return 2 * 3.14159 * self.radius\n",
    "class Circle:\n",
    "def circumference(self):"
   ]
  },
  {
   "cell_type": "code",
   "execution_count": 6,
   "id": "2295c86b",
   "metadata": {},
   "outputs": [
    {
     "data": {
      "text/plain": [
       "18.849539999999998"
      ]
     },
     "execution_count": 6,
     "metadata": {},
     "output_type": "execute_result"
    }
   ],
   "source": [
    "class Circle:\n",
    "    def __init__(self, radius):\n",
    "        self.radius = radius\n",
    "    def circumference(self):\n",
    "        return 2 * 3.14159 * self.radius\n",
    "Circle(3).circumference()"
   ]
  },
  {
   "cell_type": "code",
   "execution_count": 12,
   "id": "1837e133",
   "metadata": {},
   "outputs": [
    {
     "name": "stdout",
     "output_type": "stream",
     "text": [
      "[-2, -9, -1]\n"
     ]
    }
   ],
   "source": [
    "numbers = [-2, 5, -9, 8, -1, 10]\n",
    "result = filter(lambda x: x < 0, numbers)\n",
    "print(list(result))"
   ]
  },
  {
   "cell_type": "code",
   "execution_count": null,
   "id": "2fd9a42c",
   "metadata": {},
   "outputs": [],
   "source": [
    "if len(s) == 0:\n",
    "return s\n",
    "return r(s[1:]) + s[0]\n",
    "def r(s)"
   ]
  },
  {
   "cell_type": "code",
   "execution_count": 13,
   "id": "aa44b4ef",
   "metadata": {},
   "outputs": [],
   "source": [
    "def r(s):\n",
    "    if len(s) == 0:\n",
    "        return s\n",
    "    return r(s[1:]) + s[0]\n",
    "        \n"
   ]
  },
  {
   "cell_type": "code",
   "execution_count": null,
   "id": "8d50961c",
   "metadata": {},
   "outputs": [],
   "source": [
    "def deposit(self, amount):\n",
    " self.balance += amount\n",
    "class BankAccount:\n",
    " def __init__(self, balance):\n",
    " self.balance = balance"
   ]
  },
  {
   "cell_type": "code",
   "execution_count": 18,
   "id": "e0b409a6",
   "metadata": {},
   "outputs": [],
   "source": [
    "class BankAccount:\n",
    "    def __init__(self, balance):\n",
    "        self.balance = balance\n",
    "        \n",
    "    def deposit(self, amount):\n",
    "        self.balance += amount"
   ]
  },
  {
   "cell_type": "code",
   "execution_count": 22,
   "id": "18aef467",
   "metadata": {},
   "outputs": [
    {
     "name": "stdout",
     "output_type": "stream",
     "text": [
      "150\n"
     ]
    }
   ],
   "source": [
    "account = BankAccount(100); account.deposit(50); print(account.balance)"
   ]
  },
  {
   "cell_type": "code",
   "execution_count": null,
   "id": "bbcfd7a2",
   "metadata": {},
   "outputs": [],
   "source": [
    "def bubble_sort(items):\n",
    "return items\n",
    "for j in range(len(items)-1-i):\n",
    "if items[j] > items[j+1]:\n",
    "\"\"\" Implementation of bubble sort.\"\"\"\n",
    "items[j], items[j+1] = items[j+1], items[j]\n",
    "for i in range(len(items)):"
   ]
  },
  {
   "cell_type": "code",
   "execution_count": 28,
   "id": "8f138605",
   "metadata": {},
   "outputs": [],
   "source": [
    "def bubble_sort(items):\n",
    "    \"\"\" Implementation of bubble sort.\"\"\"\n",
    "    for i in range(len(items)):\n",
    "        for j in range(len(items)-1-i):\n",
    "            if items[j] > items[j+1]:\n",
    "                items[j], items[j+1] = items[j+1], items[j]\n",
    "    return items "
   ]
  },
  {
   "cell_type": "code",
   "execution_count": 29,
   "id": "3ea7c63c",
   "metadata": {},
   "outputs": [
    {
     "data": {
      "text/plain": [
       "[11, 12, 22, 25, 34, 64, 90]"
      ]
     },
     "execution_count": 29,
     "metadata": {},
     "output_type": "execute_result"
    }
   ],
   "source": [
    "bubble_sort([64, 34, 25, 12, 22, 11, 90])"
   ]
  },
  {
   "cell_type": "code",
   "execution_count": 30,
   "id": "d2c5f420",
   "metadata": {},
   "outputs": [
    {
     "data": {
      "text/plain": [
       "True"
      ]
     },
     "execution_count": 30,
     "metadata": {},
     "output_type": "execute_result"
    }
   ],
   "source": [
    "def find_element(arr, x):\n",
    "    for element in arr:\n",
    "        if element == x:\n",
    "            return True\n",
    "    return False\n",
    "animal_list = [\"Lion\", \"Elephant\", \"Tiger\", \"Giraffe\", \"Zebra\", \"Panda\", \"Kangaroo\", \"Penguin\"]\n",
    "\n",
    "find_element(animal_list , \"Penguin\")"
   ]
  },
  {
   "cell_type": "code",
   "execution_count": null,
   "id": "a92d38c2",
   "metadata": {},
   "outputs": [],
   "source": []
  }
 ],
 "metadata": {
  "kernelspec": {
   "display_name": "Python 3 (ipykernel)",
   "language": "python",
   "name": "python3"
  },
  "language_info": {
   "codemirror_mode": {
    "name": "ipython",
    "version": 3
   },
   "file_extension": ".py",
   "mimetype": "text/x-python",
   "name": "python",
   "nbconvert_exporter": "python",
   "pygments_lexer": "ipython3",
   "version": "3.11.5"
  }
 },
 "nbformat": 4,
 "nbformat_minor": 5
}
