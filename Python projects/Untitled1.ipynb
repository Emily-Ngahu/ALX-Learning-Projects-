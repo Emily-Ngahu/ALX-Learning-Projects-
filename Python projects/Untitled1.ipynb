{
 "cells": [
  {
   "cell_type": "code",
   "execution_count": 2,
   "id": "bb87d73b",
   "metadata": {},
   "outputs": [],
   "source": [
    "import numpy as np\n",
    "import scipy.stats as st #Read this documentation and refer to documentation on the super stats package\n",
    "import matplotlib.pyplot as plt"
   ]
  },
  {
   "cell_type": "code",
   "execution_count": 7,
   "id": "1f7e0e06",
   "metadata": {},
   "outputs": [
    {
     "name": "stdout",
     "output_type": "stream",
     "text": [
      "0.2962962962962963\n"
     ]
    }
   ],
   "source": [
    "pop_mean = 50\n",
    "sigma= 16\n",
    "n=64\n",
    "sample_sigma = sigma/(n-10)\n",
    "print(sample_sigma)"
   ]
  },
  {
   "cell_type": "code",
   "execution_count": 8,
   "id": "ab3a0112",
   "metadata": {},
   "outputs": [
    {
     "name": "stdout",
     "output_type": "stream",
     "text": [
      "Standard deviation of sample mean (σ_X̄): 2.0\n"
     ]
    }
   ],
   "source": [
    "import math\n",
    "\n",
    "# Given data\n",
    "population_mean = 50\n",
    "population_std_dev = 16\n",
    "sample_size = 64\n",
    "\n",
    "# Calculate standard deviation of sample mean\n",
    "sample_mean_std_dev = population_std_dev / math.sqrt(sample_size)\n",
    "\n",
    "print(\"Standard deviation of sample mean (σ_X̄):\", sample_mean_std_dev)\n"
   ]
  },
  {
   "cell_type": "code",
   "execution_count": 10,
   "id": "ff6a18e9",
   "metadata": {},
   "outputs": [
    {
     "ename": "IndentationError",
     "evalue": "unexpected indent (3666043716.py, line 12)",
     "output_type": "error",
     "traceback": [
      "\u001b[1;36m  Cell \u001b[1;32mIn[10], line 12\u001b[1;36m\u001b[0m\n\u001b[1;33m    p_value*=2\u001b[0m\n\u001b[1;37m    ^\u001b[0m\n\u001b[1;31mIndentationError\u001b[0m\u001b[1;31m:\u001b[0m unexpected indent\n"
     ]
    }
   ],
   "source": [
    "import numpy as np\n",
    "from scipy import stats\n",
    "\n",
    "student_scores = np.array([55, 62, 67, 58, 63, 59, 61, 68, 60, 64])\n",
    "mu = 60\n",
    "x_bar = np.mean(student_scores)\n",
    "s = np.std(student_scores, ddof=1)\n",
    "n = len(student_scores)\n",
    "alpha = 0.05\n",
    "t_stat = (x_bar - mu) / (s / np.sqrt(n))\n",
    "p_value = stats.t.cdf(t_stat, df=n-1) if t_stat < 0 else (1 - stats.t.cdf(t_stat, df=n-1))\n",
    " p_value*=2\n",
    "print(\"T statistic:\", t_stat)\n",
    "print(\"P-value:\", p_value)"
   ]
  },
  {
   "cell_type": "code",
   "execution_count": 11,
   "id": "c1ff68ea",
   "metadata": {},
   "outputs": [
    {
     "name": "stdout",
     "output_type": "stream",
     "text": [
      "T statistic: 1.343501592923275\n",
      "P-value: 0.21200020507950157\n"
     ]
    }
   ],
   "source": [
    "import numpy as np\n",
    "from scipy import stats\n",
    "\n",
    "student_scores = np.array([55, 62, 67, 58, 63, 59, 61, 68, 60, 64])\n",
    "mu = 60\n",
    "x_bar = np.mean(student_scores)\n",
    "s = np.std(student_scores, ddof=1)\n",
    "n = len(student_scores)\n",
    "alpha = 0.05\n",
    "t_stat = (x_bar - mu) / (s / np.sqrt(n))\n",
    "p_value = stats.t.cdf(t_stat, df=n-1) if t_stat < 0 else (1 - stats.t.cdf(t_stat, df=n-1))\n",
    "p_value *= 2\n",
    "print(\"T statistic:\", t_stat)\n",
    "print(\"P-value:\", p_value)\n"
   ]
  },
  {
   "cell_type": "markdown",
   "id": "bc3e39f5",
   "metadata": {},
   "source": [
    "Foodland shoppers have a mean grocery bill of R370 with a standard deviation of R100. What is the probability that a sample of 40 Foodland shoppers will have a mean grocery bill of over R400?"
   ]
  },
  {
   "cell_type": "code",
   "execution_count": 12,
   "id": "19b45ebf",
   "metadata": {},
   "outputs": [
    {
     "name": "stdout",
     "output_type": "stream",
     "text": [
      "Probability that a sample of 40 Foodland shoppers will have a mean grocery bill of over R400: 0.028889785561798664\n"
     ]
    }
   ],
   "source": [
    "import numpy as np\n",
    "from scipy import stats\n",
    "\n",
    "mu = 370\n",
    "sigma = 100\n",
    "n = 40\n",
    "sample_mu = mu\n",
    "sample_sigma = sigma / np.sqrt(n)\n",
    "\n",
    "# Standardize the value\n",
    "Z = (400 - sample_mu) / sample_sigma\n",
    "\n",
    "# Find the probability using the standard normal distribution\n",
    "probability = 1 - stats.norm.cdf(Z)\n",
    "\n",
    "print(\"Probability that a sample of 40 Foodland shoppers will have a mean grocery bill of over R400:\", probability)\n",
    "\n"
   ]
  },
  {
   "cell_type": "markdown",
   "id": "30a14727",
   "metadata": {},
   "source": [
    "Assuming the number of customers arriving at a cafe per hour follows a Poisson distribution with a mean (λ) of 8, what is the probability of serving exactly 6 customers in an hour? Use Python's scipy.stats.poisson module for the calculation.\n"
   ]
  },
  {
   "cell_type": "code",
   "execution_count": 15,
   "id": "f11d1a06",
   "metadata": {},
   "outputs": [
    {
     "name": "stdout",
     "output_type": "stream",
     "text": [
      "Probability of serving exactly 6 customers in an hour: 0.12213821545677205\n"
     ]
    }
   ],
   "source": [
    "from scipy.stats import poisson\n",
    "\n",
    "# Mean (λ) of the Poisson distribution\n",
    "lambda_ = 8\n",
    "\n",
    "# Number of customers we want to find the probability for\n",
    "k = 6\n",
    "\n",
    "# Calculate the probability of serving exactly k customers in an hour\n",
    "probability = poisson.pmf(k, lambda_)\n",
    "\n",
    "print(\"Probability of serving exactly 6 customers in an hour:\", probability)\n"
   ]
  },
  {
   "cell_type": "markdown",
   "id": "904f6327",
   "metadata": {},
   "source": [
    "Given a population with a mean of 100 and a standard deviation of 15, you sample 30 items. What is the probability that the sample mean will be less than 95? Use Python's scipy.stats.norm module to calculate the probability.\n"
   ]
  },
  {
   "cell_type": "code",
   "execution_count": 18,
   "id": "6cdb49cc",
   "metadata": {},
   "outputs": [
    {
     "name": "stdout",
     "output_type": "stream",
     "text": [
      "Probability that the sample mean will be less than 95: 0.033944577430914495\n"
     ]
    }
   ],
   "source": [
    "from scipy.stats import norm\n",
    "\n",
    "# Population parameters\n",
    "population_mean = 100\n",
    "population_stddev = 15\n",
    "\n",
    "# Sample size\n",
    "n = 30\n",
    "\n",
    "# Standard error of the sample mean\n",
    "std_error = population_stddev / (n ** 0.5)\n",
    "\n",
    "# Z-score for the sample mean of 95\n",
    "z_score = (95 - population_mean) / std_error\n",
    "\n",
    "# Calculate the probability using the cumulative distribution function (CDF)\n",
    "probability = norm.cdf(z_score)\n",
    "\n",
    "print(\"Probability that the sample mean will be less than 95:\", probability)\n"
   ]
  },
  {
   "cell_type": "code",
   "execution_count": null,
   "id": "642d0f52",
   "metadata": {},
   "outputs": [],
   "source": []
  },
  {
   "cell_type": "code",
   "execution_count": null,
   "id": "e768d61e",
   "metadata": {},
   "outputs": [],
   "source": []
  }
 ],
 "metadata": {
  "kernelspec": {
   "display_name": "Python 3 (ipykernel)",
   "language": "python",
   "name": "python3"
  },
  "language_info": {
   "codemirror_mode": {
    "name": "ipython",
    "version": 3
   },
   "file_extension": ".py",
   "mimetype": "text/x-python",
   "name": "python",
   "nbconvert_exporter": "python",
   "pygments_lexer": "ipython3",
   "version": "3.11.5"
  }
 },
 "nbformat": 4,
 "nbformat_minor": 5
}
