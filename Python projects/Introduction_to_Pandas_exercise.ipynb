{
 "cells": [
  {
   "cell_type": "markdown",
   "metadata": {
    "id": "Ee-v8I_P8rfp"
   },
   "source": [
    "<div align=\"center\" style=\" font-size: 80%; text-align: center; margin: 0 auto\">\n",
    "<img src=\"https://raw.githubusercontent.com/Explore-AI/Pictures/master/Python-Notebook-Banners/Exercise.png\"  style=\"display: block; margin-left: auto; margin-right: auto;\";/>\n",
    "</div>\n",
    "\n",
    "# Exercise: Introduction to Pandas \n",
    "© ExploreAI Academy\n",
    "\n",
    "In this exercise, we test our understanding of basic Pandas functions.\n"
   ]
  },
  {
   "cell_type": "markdown",
   "metadata": {
    "id": "ITqrvAqq8xSC"
   },
   "source": [
    "## Learning objectives\n",
    "\n",
    "By the end of this train, you should be able to:\n",
    "* Create and display the data stored in a DataFrame.\n"
   ]
  },
  {
   "cell_type": "markdown",
   "metadata": {},
   "source": [
    "## Exercises"
   ]
  },
  {
   "cell_type": "markdown",
   "metadata": {},
   "source": [
    "### Import libraries"
   ]
  },
  {
   "cell_type": "code",
   "execution_count": 1,
   "metadata": {},
   "outputs": [
    {
     "name": "stderr",
     "output_type": "stream",
     "text": [
      "C:\\Users\\ADMIN\\AppData\\Local\\Temp\\ipykernel_21268\\2162656668.py:1: DeprecationWarning: \n",
      "Pyarrow will become a required dependency of pandas in the next major release of pandas (pandas 3.0),\n",
      "(to allow more performant data types, such as the Arrow string type, and better interoperability with other libraries)\n",
      "but was not found to be installed on your system.\n",
      "If this would cause problems for you,\n",
      "please provide us feedback at https://github.com/pandas-dev/pandas/issues/54466\n",
      "        \n",
      "  import pandas as pd\n"
     ]
    }
   ],
   "source": [
    "import pandas as pd\n",
    "import numpy as np"
   ]
  },
  {
   "cell_type": "markdown",
   "metadata": {},
   "source": [
    "### Exercise 1\n",
    "\n",
    "Create a Pandas DataFrame from a dictionary. The dictionary keys should be `Crop`, `Yield_per_Acre`, and `Country`, and the values should be lists, as shown in the data below:\n",
    "\n",
    "- Crop: `['Wheat', 'Corn', 'Rice', 'Soybean']`\n",
    "- Yields per Acre (in tons): `[3, 4.5, 5, 2.8]`\n",
    "- Country: `['USA', 'China', 'India', 'Brazil']`"
   ]
  },
  {
   "cell_type": "code",
   "execution_count": 9,
   "metadata": {},
   "outputs": [
    {
     "name": "stdout",
     "output_type": "stream",
     "text": [
      "      Crop  Yields per Acre (in tons) Country\n",
      "0    Wheat                        3.0     USA\n",
      "1     Corn                        4.5   China\n",
      "2     Rice                        5.0   India\n",
      "3  Soybean                        2.8  Brazil\n"
     ]
    }
   ],
   "source": [
    "crops_data = {\n",
    "    'Crop':['Wheat', 'Corn', 'Rice', 'Soybean'], \n",
    "    'Yields per Acre (in tons)': [3, 4.5, 5, 2.8],\n",
    "    'Country': ['USA', 'China', 'India', 'Brazil']}   \n",
    "df_crops_data = pd.DataFrame(crops_data)\n",
    "print(df_crops_data)"
   ]
  },
  {
   "cell_type": "markdown",
   "metadata": {},
   "source": [
    "### Exercise 2\n",
    "\n",
    "Using the DataFrame we created in **Exercise 1**, return only observations for index values 1 and 2 from the dataset."
   ]
  },
  {
   "cell_type": "code",
   "execution_count": 10,
   "metadata": {},
   "outputs": [
    {
     "data": {
      "text/html": [
       "<div>\n",
       "<style scoped>\n",
       "    .dataframe tbody tr th:only-of-type {\n",
       "        vertical-align: middle;\n",
       "    }\n",
       "\n",
       "    .dataframe tbody tr th {\n",
       "        vertical-align: top;\n",
       "    }\n",
       "\n",
       "    .dataframe thead th {\n",
       "        text-align: right;\n",
       "    }\n",
       "</style>\n",
       "<table border=\"1\" class=\"dataframe\">\n",
       "  <thead>\n",
       "    <tr style=\"text-align: right;\">\n",
       "      <th></th>\n",
       "      <th>Crop</th>\n",
       "      <th>Yields per Acre (in tons)</th>\n",
       "      <th>Country</th>\n",
       "    </tr>\n",
       "  </thead>\n",
       "  <tbody>\n",
       "    <tr>\n",
       "      <th>1</th>\n",
       "      <td>Corn</td>\n",
       "      <td>4.5</td>\n",
       "      <td>China</td>\n",
       "    </tr>\n",
       "    <tr>\n",
       "      <th>2</th>\n",
       "      <td>Rice</td>\n",
       "      <td>5.0</td>\n",
       "      <td>India</td>\n",
       "    </tr>\n",
       "  </tbody>\n",
       "</table>\n",
       "</div>"
      ],
      "text/plain": [
       "   Crop  Yields per Acre (in tons) Country\n",
       "1  Corn                        4.5   China\n",
       "2  Rice                        5.0   India"
      ]
     },
     "execution_count": 10,
     "metadata": {},
     "output_type": "execute_result"
    }
   ],
   "source": [
    "df_crops_data.iloc[1:3]"
   ]
  },
  {
   "cell_type": "markdown",
   "metadata": {},
   "source": [
    "### Exercise 3\n",
    "\n",
    "- Using the NumPy library, create a 3x2 array named `tree_array` to store information for different tree species as follows: \n",
    "\n",
    "`[[30, 25], [60, 30], [25, 20]]`\n",
    "\n",
    "- Use the array to create a DataFrame with the following columns: `Max_Height_m`, and `Growth_Rate_cm_per_year`, and the following index: `Maple`, `Pine` and `Birch`. "
   ]
  },
  {
   "cell_type": "code",
   "execution_count": 12,
   "metadata": {},
   "outputs": [
    {
     "name": "stdout",
     "output_type": "stream",
     "text": [
      "[[30 25]\n",
      " [60 30]\n",
      " [25 20]]\n",
      "       Max_Height_m  Growth_Rate_cm_per_year\n",
      "Maple            30                       25\n",
      "Pine             60                       30\n",
      "Birch            25                       20\n"
     ]
    }
   ],
   "source": [
    "tree_array = np.array([[30, 25], [60, 30], [25, 20]])\n",
    "print(tree_array)\n",
    "columns= ['Max_Height_m','Growth_Rate_cm_per_year']\n",
    "index = ['Maple','Pine','Birch']\n",
    "df = pd.DataFrame(data=tree_array,index=index,columns=columns)\n",
    "print(df)"
   ]
  },
  {
   "cell_type": "markdown",
   "metadata": {},
   "source": [
    "### Exercise 4\n",
    "\n",
    "Using the DataFrame we created in **Exercise 3**, display the `Max_Height_m` and `Growth_Rate_cm_per_year` columns for the `Pine` tree."
   ]
  },
  {
   "cell_type": "code",
   "execution_count": 13,
   "metadata": {},
   "outputs": [
    {
     "data": {
      "text/plain": [
       "Max_Height_m               60\n",
       "Growth_Rate_cm_per_year    30\n",
       "Name: Pine, dtype: int32"
      ]
     },
     "execution_count": 13,
     "metadata": {},
     "output_type": "execute_result"
    }
   ],
   "source": [
    "df.iloc[1][['Max_Height_m','Growth_Rate_cm_per_year']]"
   ]
  },
  {
   "cell_type": "code",
   "execution_count": 14,
   "metadata": {},
   "outputs": [
    {
     "data": {
      "text/plain": [
       "Max_Height_m               60\n",
       "Growth_Rate_cm_per_year    30\n",
       "Name: Pine, dtype: int32"
      ]
     },
     "execution_count": 14,
     "metadata": {},
     "output_type": "execute_result"
    }
   ],
   "source": [
    "df[['Max_Height_m','Growth_Rate_cm_per_year']].iloc[1]"
   ]
  },
  {
   "cell_type": "code",
   "execution_count": 15,
   "metadata": {},
   "outputs": [
    {
     "data": {
      "text/plain": [
       "Max_Height_m               60\n",
       "Growth_Rate_cm_per_year    30\n",
       "Name: Pine, dtype: int32"
      ]
     },
     "execution_count": 15,
     "metadata": {},
     "output_type": "execute_result"
    }
   ],
   "source": [
    "df[['Max_Height_m','Growth_Rate_cm_per_year']].loc['Pine']"
   ]
  },
  {
   "cell_type": "code",
   "execution_count": 16,
   "metadata": {},
   "outputs": [
    {
     "data": {
      "text/plain": [
       "Max_Height_m               60\n",
       "Growth_Rate_cm_per_year    30\n",
       "Name: Pine, dtype: int32"
      ]
     },
     "execution_count": 16,
     "metadata": {},
     "output_type": "execute_result"
    }
   ],
   "source": [
    "df.loc['Pine'][['Max_Height_m','Growth_Rate_cm_per_year']]"
   ]
  },
  {
   "cell_type": "markdown",
   "metadata": {},
   "source": [
    "### Exercise 5\n",
    "\n",
    "- We have a dataset named `Animals.csv` that stores information about a variety of animal species. Use Pandas to load the CSV file into a DataFrame called `animals_df`. \n",
    "\n",
    "- Display the first 5 rows of the DataFrame.\n",
    "\n",
    "**NB:** Use this link to access the dataset: https://raw.githubusercontent.com/Explore-AI/Public-Data/master/Data/Python/Animals.csv"
   ]
  },
  {
   "cell_type": "code",
   "execution_count": 21,
   "metadata": {},
   "outputs": [
    {
     "data": {
      "text/html": [
       "<div>\n",
       "<style scoped>\n",
       "    .dataframe tbody tr th:only-of-type {\n",
       "        vertical-align: middle;\n",
       "    }\n",
       "\n",
       "    .dataframe tbody tr th {\n",
       "        vertical-align: top;\n",
       "    }\n",
       "\n",
       "    .dataframe thead th {\n",
       "        text-align: right;\n",
       "    }\n",
       "</style>\n",
       "<table border=\"1\" class=\"dataframe\">\n",
       "  <thead>\n",
       "    <tr style=\"text-align: right;\">\n",
       "      <th></th>\n",
       "      <th>Average Lifespan (Years)</th>\n",
       "      <th>Habitat</th>\n",
       "      <th>Conservation Status</th>\n",
       "    </tr>\n",
       "    <tr>\n",
       "      <th>Species</th>\n",
       "      <th></th>\n",
       "      <th></th>\n",
       "      <th></th>\n",
       "    </tr>\n",
       "  </thead>\n",
       "  <tbody>\n",
       "    <tr>\n",
       "      <th>African Elephant</th>\n",
       "      <td>60</td>\n",
       "      <td>Grasslands</td>\n",
       "      <td>Vulnerable</td>\n",
       "    </tr>\n",
       "    <tr>\n",
       "      <th>Bengal Tiger</th>\n",
       "      <td>15</td>\n",
       "      <td>Forests</td>\n",
       "      <td>Endangered</td>\n",
       "    </tr>\n",
       "    <tr>\n",
       "      <th>Blue Whale</th>\n",
       "      <td>80</td>\n",
       "      <td>Ocean</td>\n",
       "      <td>Endangered</td>\n",
       "    </tr>\n",
       "    <tr>\n",
       "      <th>Giant Panda</th>\n",
       "      <td>20</td>\n",
       "      <td>Temperate Forest</td>\n",
       "      <td>Vulnerable</td>\n",
       "    </tr>\n",
       "    <tr>\n",
       "      <th>Komodo Dragon</th>\n",
       "      <td>30</td>\n",
       "      <td>Islands</td>\n",
       "      <td>Vulnerable</td>\n",
       "    </tr>\n",
       "  </tbody>\n",
       "</table>\n",
       "</div>"
      ],
      "text/plain": [
       "                  Average Lifespan (Years)           Habitat  \\\n",
       "Species                                                        \n",
       "African Elephant                        60        Grasslands   \n",
       "Bengal Tiger                            15           Forests   \n",
       "Blue Whale                              80             Ocean   \n",
       "Giant Panda                             20  Temperate Forest   \n",
       "Komodo Dragon                           30           Islands   \n",
       "\n",
       "                 Conservation Status  \n",
       "Species                               \n",
       "African Elephant          Vulnerable  \n",
       "Bengal Tiger              Endangered  \n",
       "Blue Whale                Endangered  \n",
       "Giant Panda               Vulnerable  \n",
       "Komodo Dragon             Vulnerable  "
      ]
     },
     "execution_count": 21,
     "metadata": {},
     "output_type": "execute_result"
    }
   ],
   "source": [
    "animal_data = pd.read_csv('https://raw.githubusercontent.com/Explore-AI/Public-Data/master/Data/Python/Animals.csv',index_col='Species')\n",
    "animals_df = pd.DataFrame(animal_data)\n",
    "animals_df.head()"
   ]
  },
  {
   "cell_type": "markdown",
   "metadata": {},
   "source": [
    "### Exercise 6\n",
    "\n",
    "Using the DataFrame we have created in **Exercise 5**, access and display information on animals that are listed as `Critically Endangered` in the `Conservation Status` column."
   ]
  },
  {
   "cell_type": "code",
   "execution_count": 27,
   "metadata": {},
   "outputs": [
    {
     "data": {
      "text/html": [
       "<div>\n",
       "<style scoped>\n",
       "    .dataframe tbody tr th:only-of-type {\n",
       "        vertical-align: middle;\n",
       "    }\n",
       "\n",
       "    .dataframe tbody tr th {\n",
       "        vertical-align: top;\n",
       "    }\n",
       "\n",
       "    .dataframe thead th {\n",
       "        text-align: right;\n",
       "    }\n",
       "</style>\n",
       "<table border=\"1\" class=\"dataframe\">\n",
       "  <thead>\n",
       "    <tr style=\"text-align: right;\">\n",
       "      <th></th>\n",
       "      <th>Average Lifespan (Years)</th>\n",
       "      <th>Habitat</th>\n",
       "      <th>Conservation Status</th>\n",
       "    </tr>\n",
       "    <tr>\n",
       "      <th>Species</th>\n",
       "      <th></th>\n",
       "      <th></th>\n",
       "      <th></th>\n",
       "    </tr>\n",
       "  </thead>\n",
       "  <tbody>\n",
       "    <tr>\n",
       "      <th>Orangutan</th>\n",
       "      <td>35</td>\n",
       "      <td>Rainforests</td>\n",
       "      <td>Critically Endangered</td>\n",
       "    </tr>\n",
       "  </tbody>\n",
       "</table>\n",
       "</div>"
      ],
      "text/plain": [
       "           Average Lifespan (Years)      Habitat    Conservation Status\n",
       "Species                                                                \n",
       "Orangutan                        35  Rainforests  Critically Endangered"
      ]
     },
     "execution_count": 27,
     "metadata": {},
     "output_type": "execute_result"
    }
   ],
   "source": [
    "Critically_endangered = animals_df[animals_df['Conservation Status'] == 'Critically Endangered']\n",
    "\n",
    "Critically_endangered"
   ]
  },
  {
   "cell_type": "markdown",
   "metadata": {},
   "source": [
    "## Solutions"
   ]
  },
  {
   "cell_type": "markdown",
   "metadata": {},
   "source": [
    "### Exercise 1"
   ]
  },
  {
   "cell_type": "code",
   "execution_count": 7,
   "metadata": {},
   "outputs": [
    {
     "name": "stdout",
     "output_type": "stream",
     "text": [
      "      Crop  Yield_per_Acre Country\n",
      "0    Wheat             3.0     USA\n",
      "1     Corn             4.5   China\n",
      "2     Rice             5.0   India\n",
      "3  Soybean             2.8  Brazil\n"
     ]
    }
   ],
   "source": [
    "# Creating a dictionary to hold agriculture data\n",
    "agri_data = {\n",
    "    'Crop': ['Wheat', 'Corn', 'Rice', 'Soybean'],\n",
    "    'Yield_per_Acre': [3, 4.5, 5, 2.8],\n",
    "    'Country': ['USA', 'China', 'India', 'Brazil']\n",
    "}\n",
    "\n",
    "# Creating a DataFrame from the agriculture data dictionary\n",
    "agri_df = pd.DataFrame(agri_data)\n",
    "\n",
    "# Printing the created DataFrame\n",
    "print(agri_df)"
   ]
  },
  {
   "cell_type": "markdown",
   "metadata": {},
   "source": [
    "### Exercise 2"
   ]
  },
  {
   "cell_type": "code",
   "execution_count": null,
   "metadata": {},
   "outputs": [],
   "source": [
    "agri_df.iloc[1:3]"
   ]
  },
  {
   "cell_type": "markdown",
   "metadata": {},
   "source": [
    "In the solution above, we use `.iloc` for **position-based indexing** where we select rows based on their integer index.\n",
    "\n",
    "We use the range 1 to 3 (not included). This returns the 2nd and the 3rd rows of data which correspond to `Corn` and `Rice` observations."
   ]
  },
  {
   "cell_type": "markdown",
   "metadata": {},
   "source": [
    "### Exercise 3"
   ]
  },
  {
   "cell_type": "code",
   "execution_count": null,
   "metadata": {},
   "outputs": [],
   "source": [
    "# Creating a NumPy array to represent data for different tree species\n",
    "tree_array = np.array([[30, 25], [60, 30], [25, 20]])\n",
    "\n",
    "# Defining the column names for the DataFrame\n",
    "columns = ['Max_Height_m', 'Growth_Rate_cm_per_year']\n",
    "\n",
    "# Defining the index for the DataFrame which represents the names of the tree species\n",
    "index = ['Maple', 'Pine', 'Birch']\n",
    "\n",
    "# Creating a DataFrame from the NumPy array above\n",
    "tree_df = pd.DataFrame(data=tree_array, index=index, columns=columns)\n",
    "\n",
    "# Printing the created DataFrame\n",
    "print(tree_df)"
   ]
  },
  {
   "cell_type": "markdown",
   "metadata": {},
   "source": [
    "### Exercise 4"
   ]
  },
  {
   "cell_type": "code",
   "execution_count": null,
   "metadata": {},
   "outputs": [],
   "source": [
    "tree_df.loc['Pine'][['Max_Height_m', 'Growth_Rate_cm_per_year']]"
   ]
  },
  {
   "cell_type": "markdown",
   "metadata": {},
   "source": [
    "In the above solution, we have used the `.loc` method for **label-based indexing.**\n",
    "\n",
    "The label `Pine` is used to select the row corresponding to the Pine tree. From this row, only the specified columns (`Max_Height_m` and `Growth_Rate_cm_per_year`) are selected and displayed. "
   ]
  },
  {
   "cell_type": "markdown",
   "metadata": {},
   "source": [
    "### Exercise 5"
   ]
  },
  {
   "cell_type": "code",
   "execution_count": null,
   "metadata": {},
   "outputs": [],
   "source": [
    "# Loading data from a CSV file named 'Animals.csv' into a DataFrame\n",
    "animals_df = pd.read_csv('https://raw.githubusercontent.com/Explore-AI/Public-Data/master/Data/Python/Animals.csv')\n",
    "\n",
    "# Displaying the first 5 rows of the DataFrame\n",
    "animals_df.head()"
   ]
  },
  {
   "cell_type": "markdown",
   "metadata": {},
   "source": [
    "The `.head(n)` function returns the first n rows, with the default being 5. This is useful for getting a quick view of the dataset."
   ]
  },
  {
   "cell_type": "markdown",
   "metadata": {},
   "source": [
    "### Exercise 6"
   ]
  },
  {
   "cell_type": "code",
   "execution_count": null,
   "metadata": {},
   "outputs": [],
   "source": [
    "# Create a new DataFrame based on a condition\n",
    "Critically_endangered = animals_df[animals_df['Conservation Status'] == 'Critically Endangered']\n",
    "\n",
    "# Displaying the newly created DataFrame\n",
    "Critically_endangered"
   ]
  },
  {
   "cell_type": "markdown",
   "metadata": {},
   "source": [
    "**Conditional selection** is performed on the `animals_df` DataFrame. The condition `(animals_df['Conservation Status'] == 'Critically Endangered')` checks each row to see if the `Conservation Status` column's value is `Critically Endangered`. The rows that meet this condition are then used to create a new DataFrame named `Critically_endangered`."
   ]
  },
  {
   "cell_type": "markdown",
   "metadata": {},
   "source": [
    "<div align=\"center\" style=\" font-size: 80%; text-align: center; margin: 0 auto\">\n",
    "<img src=\"https://raw.githubusercontent.com/Explore-AI/Pictures/master/ExploreAI_logos/EAI_Blue_Dark.png\"  style=\"width:200px\";/>\n",
    "</div>"
   ]
  }
 ],
 "metadata": {
  "colab": {
   "authorship_tag": "ABX9TyPZFCZhaikX+N2/Bg7W6SY+",
   "collapsed_sections": [],
   "name": "Search_algorithms.ipynb",
   "provenance": [],
   "toc_visible": true
  },
  "interpreter": {
   "hash": "6b5ebbc2c6bde2831bc6c0426f75aca8137ccfc69d329557556ed73faee126ae"
  },
  "kernelspec": {
   "display_name": "Python 3 (ipykernel)",
   "language": "python",
   "name": "python3"
  },
  "language_info": {
   "codemirror_mode": {
    "name": "ipython",
    "version": 3
   },
   "file_extension": ".py",
   "mimetype": "text/x-python",
   "name": "python",
   "nbconvert_exporter": "python",
   "pygments_lexer": "ipython3",
   "version": "3.11.5"
  }
 },
 "nbformat": 4,
 "nbformat_minor": 2
}
