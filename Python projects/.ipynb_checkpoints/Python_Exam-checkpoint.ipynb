{
 "cells": [
  {
   "cell_type": "code",
   "execution_count": 7,
   "id": "bc265615",
   "metadata": {},
   "outputs": [],
   "source": [
    "import pandas as pd\n",
    "import numpy as np"
   ]
  },
  {
   "cell_type": "code",
   "execution_count": 19,
   "id": "b759dedb",
   "metadata": {},
   "outputs": [
    {
     "data": {
      "text/html": [
       "<div>\n",
       "<style scoped>\n",
       "    .dataframe tbody tr th:only-of-type {\n",
       "        vertical-align: middle;\n",
       "    }\n",
       "\n",
       "    .dataframe tbody tr th {\n",
       "        vertical-align: top;\n",
       "    }\n",
       "\n",
       "    .dataframe thead th {\n",
       "        text-align: right;\n",
       "    }\n",
       "</style>\n",
       "<table border=\"1\" class=\"dataframe\">\n",
       "  <thead>\n",
       "    <tr style=\"text-align: right;\">\n",
       "      <th></th>\n",
       "      <th>Field_ID</th>\n",
       "      <th>Elevation</th>\n",
       "      <th>Rainfall</th>\n",
       "      <th>Min_temperature_C</th>\n",
       "      <th>Max_temperature_C</th>\n",
       "      <th>pH</th>\n",
       "      <th>Pollution_level</th>\n",
       "      <th>Plot_size</th>\n",
       "      <th>Annual_yield</th>\n",
       "      <th>Crop_type</th>\n",
       "    </tr>\n",
       "  </thead>\n",
       "  <tbody>\n",
       "    <tr>\n",
       "      <th>0</th>\n",
       "      <td>1162</td>\n",
       "      <td>494.95615</td>\n",
       "      <td>1507.6</td>\n",
       "      <td>-5.4</td>\n",
       "      <td>31.0</td>\n",
       "      <td>6.859436</td>\n",
       "      <td>0.007034</td>\n",
       "      <td>3.6</td>\n",
       "      <td>1.617421</td>\n",
       "      <td>coffee</td>\n",
       "    </tr>\n",
       "    <tr>\n",
       "      <th>1</th>\n",
       "      <td>5108</td>\n",
       "      <td>663.73390</td>\n",
       "      <td>581.0</td>\n",
       "      <td>-4.7</td>\n",
       "      <td>30.9</td>\n",
       "      <td>5.603219</td>\n",
       "      <td>0.289643</td>\n",
       "      <td>4.2</td>\n",
       "      <td>2.532497</td>\n",
       "      <td>potato</td>\n",
       "    </tr>\n",
       "    <tr>\n",
       "      <th>2</th>\n",
       "      <td>3504</td>\n",
       "      <td>396.87990</td>\n",
       "      <td>1715.1</td>\n",
       "      <td>-6.1</td>\n",
       "      <td>31.7</td>\n",
       "      <td>5.774116</td>\n",
       "      <td>0.000409</td>\n",
       "      <td>2.6</td>\n",
       "      <td>1.262207</td>\n",
       "      <td>banana</td>\n",
       "    </tr>\n",
       "    <tr>\n",
       "      <th>3</th>\n",
       "      <td>5351</td>\n",
       "      <td>594.80370</td>\n",
       "      <td>1748.0</td>\n",
       "      <td>-4.3</td>\n",
       "      <td>33.6</td>\n",
       "      <td>6.477415</td>\n",
       "      <td>0.088777</td>\n",
       "      <td>7.9</td>\n",
       "      <td>4.351564</td>\n",
       "      <td>wheat</td>\n",
       "    </tr>\n",
       "    <tr>\n",
       "      <th>4</th>\n",
       "      <td>905</td>\n",
       "      <td>609.49800</td>\n",
       "      <td>1395.8</td>\n",
       "      <td>-4.5</td>\n",
       "      <td>31.3</td>\n",
       "      <td>5.419586</td>\n",
       "      <td>0.050023</td>\n",
       "      <td>10.8</td>\n",
       "      <td>5.034791</td>\n",
       "      <td>cassava</td>\n",
       "    </tr>\n",
       "    <tr>\n",
       "      <th>...</th>\n",
       "      <td>...</td>\n",
       "      <td>...</td>\n",
       "      <td>...</td>\n",
       "      <td>...</td>\n",
       "      <td>...</td>\n",
       "      <td>...</td>\n",
       "      <td>...</td>\n",
       "      <td>...</td>\n",
       "      <td>...</td>\n",
       "      <td>...</td>\n",
       "    </tr>\n",
       "    <tr>\n",
       "      <th>995</th>\n",
       "      <td>2202</td>\n",
       "      <td>572.95935</td>\n",
       "      <td>625.6</td>\n",
       "      <td>-5.5</td>\n",
       "      <td>31.0</td>\n",
       "      <td>5.258964</td>\n",
       "      <td>0.086330</td>\n",
       "      <td>1.2</td>\n",
       "      <td>0.750675</td>\n",
       "      <td>wheat</td>\n",
       "    </tr>\n",
       "    <tr>\n",
       "      <th>996</th>\n",
       "      <td>2531</td>\n",
       "      <td>552.80945</td>\n",
       "      <td>398.1</td>\n",
       "      <td>-5.9</td>\n",
       "      <td>33.4</td>\n",
       "      <td>4.607136</td>\n",
       "      <td>0.130178</td>\n",
       "      <td>0.8</td>\n",
       "      <td>0.449790</td>\n",
       "      <td>wheat</td>\n",
       "    </tr>\n",
       "    <tr>\n",
       "      <th>997</th>\n",
       "      <td>1040</td>\n",
       "      <td>678.22504</td>\n",
       "      <td>564.4</td>\n",
       "      <td>-4.6</td>\n",
       "      <td>31.7</td>\n",
       "      <td>5.567556</td>\n",
       "      <td>0.448149</td>\n",
       "      <td>1.2</td>\n",
       "      <td>0.492988</td>\n",
       "      <td>maize</td>\n",
       "    </tr>\n",
       "    <tr>\n",
       "      <th>998</th>\n",
       "      <td>58</td>\n",
       "      <td>792.65370</td>\n",
       "      <td>928.5</td>\n",
       "      <td>-3.3</td>\n",
       "      <td>31.2</td>\n",
       "      <td>5.102048</td>\n",
       "      <td>0.387350</td>\n",
       "      <td>1.1</td>\n",
       "      <td>0.597557</td>\n",
       "      <td>potato</td>\n",
       "    </tr>\n",
       "    <tr>\n",
       "      <th>999</th>\n",
       "      <td>3334</td>\n",
       "      <td>747.69850</td>\n",
       "      <td>981.5</td>\n",
       "      <td>-3.7</td>\n",
       "      <td>31.0</td>\n",
       "      <td>6.715882</td>\n",
       "      <td>0.541706</td>\n",
       "      <td>11.1</td>\n",
       "      <td>2.867815</td>\n",
       "      <td>coffee</td>\n",
       "    </tr>\n",
       "  </tbody>\n",
       "</table>\n",
       "<p>1000 rows × 10 columns</p>\n",
       "</div>"
      ],
      "text/plain": [
       "     Field_ID  Elevation  Rainfall  Min_temperature_C  Max_temperature_C  \\\n",
       "0        1162  494.95615    1507.6               -5.4               31.0   \n",
       "1        5108  663.73390     581.0               -4.7               30.9   \n",
       "2        3504  396.87990    1715.1               -6.1               31.7   \n",
       "3        5351  594.80370    1748.0               -4.3               33.6   \n",
       "4         905  609.49800    1395.8               -4.5               31.3   \n",
       "..        ...        ...       ...                ...                ...   \n",
       "995      2202  572.95935     625.6               -5.5               31.0   \n",
       "996      2531  552.80945     398.1               -5.9               33.4   \n",
       "997      1040  678.22504     564.4               -4.6               31.7   \n",
       "998        58  792.65370     928.5               -3.3               31.2   \n",
       "999      3334  747.69850     981.5               -3.7               31.0   \n",
       "\n",
       "           pH  Pollution_level  Plot_size  Annual_yield Crop_type  \n",
       "0    6.859436         0.007034        3.6      1.617421    coffee  \n",
       "1    5.603219         0.289643        4.2      2.532497    potato  \n",
       "2    5.774116         0.000409        2.6      1.262207    banana  \n",
       "3    6.477415         0.088777        7.9      4.351564     wheat  \n",
       "4    5.419586         0.050023       10.8      5.034791   cassava  \n",
       "..        ...              ...        ...           ...       ...  \n",
       "995  5.258964         0.086330        1.2      0.750675     wheat  \n",
       "996  4.607136         0.130178        0.8      0.449790     wheat  \n",
       "997  5.567556         0.448149        1.2      0.492988     maize  \n",
       "998  5.102048         0.387350        1.1      0.597557    potato  \n",
       "999  6.715882         0.541706       11.1      2.867815    coffee  \n",
       "\n",
       "[1000 rows x 10 columns]"
      ]
     },
     "execution_count": 19,
     "metadata": {},
     "output_type": "execute_result"
    }
   ],
   "source": [
    "MD_agric = pd.read_csv(\"C:/Users/ADMIN/Documents/ALX Learning projects/Python projects/MD_agric_exam-4313.csv\")\n",
    "MD_agric"
   ]
  },
  {
   "cell_type": "code",
   "execution_count": 20,
   "id": "a3637f60",
   "metadata": {},
   "outputs": [
    {
     "data": {
      "text/html": [
       "<div>\n",
       "<style scoped>\n",
       "    .dataframe tbody tr th:only-of-type {\n",
       "        vertical-align: middle;\n",
       "    }\n",
       "\n",
       "    .dataframe tbody tr th {\n",
       "        vertical-align: top;\n",
       "    }\n",
       "\n",
       "    .dataframe thead th {\n",
       "        text-align: right;\n",
       "    }\n",
       "</style>\n",
       "<table border=\"1\" class=\"dataframe\">\n",
       "  <thead>\n",
       "    <tr style=\"text-align: right;\">\n",
       "      <th></th>\n",
       "      <th>Field_ID</th>\n",
       "      <th>Elevation</th>\n",
       "      <th>Rainfall</th>\n",
       "      <th>Min_temperature_C</th>\n",
       "      <th>Max_temperature_C</th>\n",
       "      <th>pH</th>\n",
       "      <th>Pollution_level</th>\n",
       "      <th>Plot_size</th>\n",
       "      <th>Annual_yield</th>\n",
       "      <th>Crop_type</th>\n",
       "    </tr>\n",
       "  </thead>\n",
       "  <tbody>\n",
       "    <tr>\n",
       "      <th>0</th>\n",
       "      <td>1162</td>\n",
       "      <td>494.95615</td>\n",
       "      <td>1507.6</td>\n",
       "      <td>-5.4</td>\n",
       "      <td>31.0</td>\n",
       "      <td>6.859436</td>\n",
       "      <td>0.007034</td>\n",
       "      <td>3.6</td>\n",
       "      <td>1.617421</td>\n",
       "      <td>coffee</td>\n",
       "    </tr>\n",
       "    <tr>\n",
       "      <th>1</th>\n",
       "      <td>5108</td>\n",
       "      <td>663.73390</td>\n",
       "      <td>581.0</td>\n",
       "      <td>-4.7</td>\n",
       "      <td>30.9</td>\n",
       "      <td>5.603219</td>\n",
       "      <td>0.289643</td>\n",
       "      <td>4.2</td>\n",
       "      <td>2.532497</td>\n",
       "      <td>potato</td>\n",
       "    </tr>\n",
       "    <tr>\n",
       "      <th>2</th>\n",
       "      <td>3504</td>\n",
       "      <td>396.87990</td>\n",
       "      <td>1715.1</td>\n",
       "      <td>-6.1</td>\n",
       "      <td>31.7</td>\n",
       "      <td>5.774116</td>\n",
       "      <td>0.000409</td>\n",
       "      <td>2.6</td>\n",
       "      <td>1.262207</td>\n",
       "      <td>banana</td>\n",
       "    </tr>\n",
       "    <tr>\n",
       "      <th>3</th>\n",
       "      <td>5351</td>\n",
       "      <td>594.80370</td>\n",
       "      <td>1748.0</td>\n",
       "      <td>-4.3</td>\n",
       "      <td>33.6</td>\n",
       "      <td>6.477415</td>\n",
       "      <td>0.088777</td>\n",
       "      <td>7.9</td>\n",
       "      <td>4.351564</td>\n",
       "      <td>wheat</td>\n",
       "    </tr>\n",
       "    <tr>\n",
       "      <th>4</th>\n",
       "      <td>905</td>\n",
       "      <td>609.49800</td>\n",
       "      <td>1395.8</td>\n",
       "      <td>-4.5</td>\n",
       "      <td>31.3</td>\n",
       "      <td>5.419586</td>\n",
       "      <td>0.050023</td>\n",
       "      <td>10.8</td>\n",
       "      <td>5.034791</td>\n",
       "      <td>cassava</td>\n",
       "    </tr>\n",
       "  </tbody>\n",
       "</table>\n",
       "</div>"
      ],
      "text/plain": [
       "   Field_ID  Elevation  Rainfall  Min_temperature_C  Max_temperature_C  \\\n",
       "0      1162  494.95615    1507.6               -5.4               31.0   \n",
       "1      5108  663.73390     581.0               -4.7               30.9   \n",
       "2      3504  396.87990    1715.1               -6.1               31.7   \n",
       "3      5351  594.80370    1748.0               -4.3               33.6   \n",
       "4       905  609.49800    1395.8               -4.5               31.3   \n",
       "\n",
       "         pH  Pollution_level  Plot_size  Annual_yield Crop_type  \n",
       "0  6.859436         0.007034        3.6      1.617421    coffee  \n",
       "1  5.603219         0.289643        4.2      2.532497    potato  \n",
       "2  5.774116         0.000409        2.6      1.262207    banana  \n",
       "3  6.477415         0.088777        7.9      4.351564     wheat  \n",
       "4  5.419586         0.050023       10.8      5.034791   cassava  "
      ]
     },
     "execution_count": 20,
     "metadata": {},
     "output_type": "execute_result"
    }
   ],
   "source": [
    "MD_agric.head()"
   ]
  },
  {
   "cell_type": "code",
   "execution_count": 21,
   "id": "66165426",
   "metadata": {},
   "outputs": [
    {
     "data": {
      "text/html": [
       "<div>\n",
       "<style scoped>\n",
       "    .dataframe tbody tr th:only-of-type {\n",
       "        vertical-align: middle;\n",
       "    }\n",
       "\n",
       "    .dataframe tbody tr th {\n",
       "        vertical-align: top;\n",
       "    }\n",
       "\n",
       "    .dataframe thead th {\n",
       "        text-align: right;\n",
       "    }\n",
       "</style>\n",
       "<table border=\"1\" class=\"dataframe\">\n",
       "  <thead>\n",
       "    <tr style=\"text-align: right;\">\n",
       "      <th></th>\n",
       "      <th>Field_ID</th>\n",
       "      <th>Elevation</th>\n",
       "      <th>Rainfall</th>\n",
       "      <th>Min_temperature_C</th>\n",
       "      <th>Max_temperature_C</th>\n",
       "      <th>pH</th>\n",
       "      <th>Pollution_level</th>\n",
       "      <th>Plot_size</th>\n",
       "      <th>Annual_yield</th>\n",
       "      <th>Crop_type</th>\n",
       "    </tr>\n",
       "  </thead>\n",
       "  <tbody>\n",
       "    <tr>\n",
       "      <th>0</th>\n",
       "      <td>1162</td>\n",
       "      <td>494.95615</td>\n",
       "      <td>1507.6</td>\n",
       "      <td>-5.4</td>\n",
       "      <td>31.0</td>\n",
       "      <td>6.859436</td>\n",
       "      <td>0.007034</td>\n",
       "      <td>3.6</td>\n",
       "      <td>1.617421</td>\n",
       "      <td>coffee</td>\n",
       "    </tr>\n",
       "    <tr>\n",
       "      <th>1</th>\n",
       "      <td>5108</td>\n",
       "      <td>663.73390</td>\n",
       "      <td>581.0</td>\n",
       "      <td>-4.7</td>\n",
       "      <td>30.9</td>\n",
       "      <td>5.603219</td>\n",
       "      <td>0.289643</td>\n",
       "      <td>4.2</td>\n",
       "      <td>2.532497</td>\n",
       "      <td>potato</td>\n",
       "    </tr>\n",
       "    <tr>\n",
       "      <th>2</th>\n",
       "      <td>3504</td>\n",
       "      <td>396.87990</td>\n",
       "      <td>1715.1</td>\n",
       "      <td>-6.1</td>\n",
       "      <td>31.7</td>\n",
       "      <td>5.774116</td>\n",
       "      <td>0.000409</td>\n",
       "      <td>2.6</td>\n",
       "      <td>1.262207</td>\n",
       "      <td>banana</td>\n",
       "    </tr>\n",
       "    <tr>\n",
       "      <th>3</th>\n",
       "      <td>5351</td>\n",
       "      <td>594.80370</td>\n",
       "      <td>1748.0</td>\n",
       "      <td>-4.3</td>\n",
       "      <td>33.6</td>\n",
       "      <td>6.477415</td>\n",
       "      <td>0.088777</td>\n",
       "      <td>7.9</td>\n",
       "      <td>4.351564</td>\n",
       "      <td>wheat</td>\n",
       "    </tr>\n",
       "    <tr>\n",
       "      <th>4</th>\n",
       "      <td>905</td>\n",
       "      <td>609.49800</td>\n",
       "      <td>1395.8</td>\n",
       "      <td>-4.5</td>\n",
       "      <td>31.3</td>\n",
       "      <td>5.419586</td>\n",
       "      <td>0.050023</td>\n",
       "      <td>10.8</td>\n",
       "      <td>5.034791</td>\n",
       "      <td>cassava</td>\n",
       "    </tr>\n",
       "  </tbody>\n",
       "</table>\n",
       "</div>"
      ],
      "text/plain": [
       "   Field_ID  Elevation  Rainfall  Min_temperature_C  Max_temperature_C  \\\n",
       "0      1162  494.95615    1507.6               -5.4               31.0   \n",
       "1      5108  663.73390     581.0               -4.7               30.9   \n",
       "2      3504  396.87990    1715.1               -6.1               31.7   \n",
       "3      5351  594.80370    1748.0               -4.3               33.6   \n",
       "4       905  609.49800    1395.8               -4.5               31.3   \n",
       "\n",
       "         pH  Pollution_level  Plot_size  Annual_yield Crop_type  \n",
       "0  6.859436         0.007034        3.6      1.617421    coffee  \n",
       "1  5.603219         0.289643        4.2      2.532497    potato  \n",
       "2  5.774116         0.000409        2.6      1.262207    banana  \n",
       "3  6.477415         0.088777        7.9      4.351564     wheat  \n",
       "4  5.419586         0.050023       10.8      5.034791   cassava  "
      ]
     },
     "execution_count": 21,
     "metadata": {},
     "output_type": "execute_result"
    }
   ],
   "source": [
    "df = pd.DataFrame(MD_agric)\n",
    "df.head()"
   ]
  },
  {
   "cell_type": "markdown",
   "id": "786ad82d",
   "metadata": {},
   "source": [
    "Questions to answer\n",
    "1. Write code to determine the number of unique crop types in the dataset?\n",
    "ANS : 8 "
   ]
  },
  {
   "cell_type": "code",
   "execution_count": 22,
   "id": "e001573b",
   "metadata": {},
   "outputs": [
    {
     "data": {
      "text/plain": [
       "array(['coffee', 'potato', 'banana', 'wheat', 'cassava', 'maize', 'tea',\n",
       "       'rice'], dtype=object)"
      ]
     },
     "execution_count": 22,
     "metadata": {},
     "output_type": "execute_result"
    }
   ],
   "source": [
    "df['Crop_type'].unique()"
   ]
  },
  {
   "cell_type": "code",
   "execution_count": 23,
   "id": "18f39389",
   "metadata": {},
   "outputs": [
    {
     "data": {
      "text/plain": [
       "8"
      ]
     },
     "execution_count": 23,
     "metadata": {},
     "output_type": "execute_result"
    }
   ],
   "source": [
    "len(df['Crop_type'].unique())"
   ]
  },
  {
   "cell_type": "markdown",
   "id": "96a32ef1",
   "metadata": {},
   "source": [
    "Question 2 \n",
    "Identify the maximum annual yield for \"wheat\" crop type in the dataset (rounded to 2 decimal places)\n",
    "ANS:8.99"
   ]
  },
  {
   "cell_type": "code",
   "execution_count": 16,
   "id": "87500c81",
   "metadata": {},
   "outputs": [
    {
     "data": {
      "text/plain": [
       "12.695223852226984"
      ]
     },
     "execution_count": 16,
     "metadata": {},
     "output_type": "execute_result"
    }
   ],
   "source": [
    "df['Annual_yield'].max()"
   ]
  },
  {
   "cell_type": "code",
   "execution_count": 27,
   "id": "2b15f919",
   "metadata": {},
   "outputs": [],
   "source": [
    "def maximum_annual_yield(df,crop_filter):\n",
    "    filtered_df = df[df['Crop_type'] == crop_filter]\n",
    "    maximum_yield = filtered_df['Annual_yield'].max()\n",
    "    return (round(maximum_yield,2))"
   ]
  },
  {
   "cell_type": "code",
   "execution_count": 28,
   "id": "5ae06960",
   "metadata": {},
   "outputs": [
    {
     "data": {
      "text/plain": [
       "8.99"
      ]
     },
     "execution_count": 28,
     "metadata": {},
     "output_type": "execute_result"
    }
   ],
   "source": [
    "maximum_annual_yield(df,'wheat')"
   ]
  },
  {
   "cell_type": "markdown",
   "id": "955ac518",
   "metadata": {},
   "source": [
    "Question 3 \n",
    "Find the total rainfall for crop types where the average pollution level is above 0.2.\n",
    "ANS:941959.7"
   ]
  },
  {
   "cell_type": "code",
   "execution_count": 30,
   "id": "62f9393f",
   "metadata": {},
   "outputs": [
    {
     "data": {
      "text/plain": [
       "1197734.7000000002"
      ]
     },
     "execution_count": 30,
     "metadata": {},
     "output_type": "execute_result"
    }
   ],
   "source": [
    "df['Rainfall'].sum()"
   ]
  },
  {
   "cell_type": "code",
   "execution_count": 41,
   "id": "6ed63b4f",
   "metadata": {},
   "outputs": [
    {
     "data": {
      "text/plain": [
       "Crop_type\n",
       "banana     0.093806\n",
       "cassava    0.327714\n",
       "coffee     0.220615\n",
       "maize      0.265101\n",
       "potato     0.252135\n",
       "rice       0.065531\n",
       "tea        0.214799\n",
       "wheat      0.223527\n",
       "Name: Pollution_level, dtype: float64"
      ]
     },
     "execution_count": 41,
     "metadata": {},
     "output_type": "execute_result"
    }
   ],
   "source": [
    "df.groupby('Crop_type')['Pollution_level'].mean() "
   ]
  },
  {
   "cell_type": "code",
   "execution_count": 45,
   "id": "546dd161",
   "metadata": {},
   "outputs": [],
   "source": [
    "def total_rainfall(df):\n",
    "    # Filter the DataFrame based on the condition of mean pollution level > 0.2\n",
    "    filtered_df = df[df.groupby('Crop_type')['Pollution_level'].transform('mean') > 0.2]\n",
    "    \n",
    "    # Calculate the total rainfall for the filtered crops\n",
    "    total_rainfall_all = filtered_df['Rainfall'].sum()\n",
    "    \n",
    "    return total_rainfall_all"
   ]
  },
  {
   "cell_type": "code",
   "execution_count": 46,
   "id": "fedcb654",
   "metadata": {},
   "outputs": [
    {
     "data": {
      "text/plain": [
       "941959.7"
      ]
     },
     "execution_count": 46,
     "metadata": {},
     "output_type": "execute_result"
    }
   ],
   "source": [
    "total_rainfall(df)"
   ]
  },
  {
   "cell_type": "markdown",
   "id": "ff55055e",
   "metadata": {},
   "source": [
    "Question 4 \n",
    "Write a function to calculate the temperature range (Max_temperature_C - Min_temperature_C) for each farmer's field. Then, call the function with the following `Field_ID`: `1458`, `1895`, and `5443`. What are the results of these 3 calls?\n",
    "[40.7,35.7,33.4]"
   ]
  },
  {
   "cell_type": "code",
   "execution_count": 73,
   "id": "25f92ac2",
   "metadata": {},
   "outputs": [],
   "source": [
    "def calculate_temp_range(df,field_filter):\n",
    "    filtered_df = df[df['Field_ID'] == field_filter]\n",
    "    temp_range = filtered_df['Max_temperature_C'] - filtered_df['Min_temperature_C'] \n",
    "    return(temp_range)"
   ]
  },
  {
   "cell_type": "code",
   "execution_count": 74,
   "id": "3a45bffd",
   "metadata": {},
   "outputs": [
    {
     "name": "stdout",
     "output_type": "stream",
     "text": [
      "135    40.7\n",
      "dtype: float64 644    35.7\n",
      "dtype: float64 892    33.4\n",
      "dtype: float64\n"
     ]
    }
   ],
   "source": [
    "a=calculate_temp_range(df = df,field_filter=1458)\n",
    "b=calculate_temp_range(df = df,field_filter=1895)\n",
    "c=calculate_temp_range(df = df,field_filter=5443)\n",
    "print(a,b,c)"
   ]
  },
  {
   "cell_type": "markdown",
   "id": "3037f45b",
   "metadata": {},
   "source": [
    "Question 5\n",
    "What does the following code achieve?\n",
    "\n",
    "a = data['Crop_type'].unique()\n",
    "\n",
    "b = float('inf')\n",
    "\n",
    "c = ''\n",
    "\n",
    "for crop in a:\n",
    "\n",
    "    d = data[data['Crop_type'] == crop]['Min_temperature_C'].mean()\n",
    "\n",
    "    if d < b:\n",
    "\n",
    "        b = d\n",
    "\n",
    "        c = crop\n",
    "\n",
    "print(c)\n",
    "\n",
    "ANS: crop type with the lowest average minimum temperature"
   ]
  },
  {
   "cell_type": "code",
   "execution_count": 79,
   "id": "6649994b",
   "metadata": {},
   "outputs": [
    {
     "name": "stdout",
     "output_type": "stream",
     "text": [
      "rice\n"
     ]
    }
   ],
   "source": [
    "a = df['Crop_type'].unique()\n",
    "b = float('inf')\n",
    "\n",
    "c = ''\n",
    "\n",
    "for crop in a:\n",
    "\n",
    "    d = df[df['Crop_type'] == crop]['Min_temperature_C'].mean()\n",
    "\n",
    "    if d < b:\n",
    "\n",
    "        b = d\n",
    "\n",
    "        c = crop\n",
    "\n",
    "print(c)"
   ]
  },
  {
   "cell_type": "markdown",
   "id": "91c7f917",
   "metadata": {},
   "source": [
    "Question 6\n",
    "Write code to calculate the total plot size for plots where the pH is less than 5.5.\n",
    "ANS: 1731.8999999999999"
   ]
  },
  {
   "cell_type": "code",
   "execution_count": 81,
   "id": "afca2ee4",
   "metadata": {},
   "outputs": [
    {
     "data": {
      "text/plain": [
       "1731.8999999999999"
      ]
     },
     "execution_count": 81,
     "metadata": {},
     "output_type": "execute_result"
    }
   ],
   "source": [
    "df[df['pH'] < 5.5]['Plot_size'].sum()"
   ]
  },
  {
   "cell_type": "markdown",
   "id": "4113edd4",
   "metadata": {},
   "source": [
    "Question 7 \n",
    "Using Pandas, create a dataframe that includes entries with a 'Min_temperature_C’< -5 and a 'Max_temperature_C' > 30. How many rows are in the filtered dataset?\n",
    "ANS :319"
   ]
  },
  {
   "cell_type": "code",
   "execution_count": 85,
   "id": "6301cb66",
   "metadata": {},
   "outputs": [
    {
     "data": {
      "text/html": [
       "<div>\n",
       "<style scoped>\n",
       "    .dataframe tbody tr th:only-of-type {\n",
       "        vertical-align: middle;\n",
       "    }\n",
       "\n",
       "    .dataframe tbody tr th {\n",
       "        vertical-align: top;\n",
       "    }\n",
       "\n",
       "    .dataframe thead th {\n",
       "        text-align: right;\n",
       "    }\n",
       "</style>\n",
       "<table border=\"1\" class=\"dataframe\">\n",
       "  <thead>\n",
       "    <tr style=\"text-align: right;\">\n",
       "      <th></th>\n",
       "      <th>Field_ID</th>\n",
       "      <th>Elevation</th>\n",
       "      <th>Rainfall</th>\n",
       "      <th>Min_temperature_C</th>\n",
       "      <th>Max_temperature_C</th>\n",
       "      <th>pH</th>\n",
       "      <th>Pollution_level</th>\n",
       "      <th>Plot_size</th>\n",
       "      <th>Annual_yield</th>\n",
       "      <th>Crop_type</th>\n",
       "    </tr>\n",
       "  </thead>\n",
       "  <tbody>\n",
       "    <tr>\n",
       "      <th>0</th>\n",
       "      <td>1162</td>\n",
       "      <td>494.95615</td>\n",
       "      <td>1507.6</td>\n",
       "      <td>-5.4</td>\n",
       "      <td>31.0</td>\n",
       "      <td>6.859436</td>\n",
       "      <td>0.007034</td>\n",
       "      <td>3.6</td>\n",
       "      <td>1.617421</td>\n",
       "      <td>coffee</td>\n",
       "    </tr>\n",
       "    <tr>\n",
       "      <th>2</th>\n",
       "      <td>3504</td>\n",
       "      <td>396.87990</td>\n",
       "      <td>1715.1</td>\n",
       "      <td>-6.1</td>\n",
       "      <td>31.7</td>\n",
       "      <td>5.774116</td>\n",
       "      <td>0.000409</td>\n",
       "      <td>2.6</td>\n",
       "      <td>1.262207</td>\n",
       "      <td>banana</td>\n",
       "    </tr>\n",
       "    <tr>\n",
       "      <th>5</th>\n",
       "      <td>2274</td>\n",
       "      <td>270.45100</td>\n",
       "      <td>1665.2</td>\n",
       "      <td>-7.2</td>\n",
       "      <td>34.3</td>\n",
       "      <td>5.873082</td>\n",
       "      <td>0.001545</td>\n",
       "      <td>3.9</td>\n",
       "      <td>1.743458</td>\n",
       "      <td>banana</td>\n",
       "    </tr>\n",
       "    <tr>\n",
       "      <th>13</th>\n",
       "      <td>4807</td>\n",
       "      <td>520.29770</td>\n",
       "      <td>292.3</td>\n",
       "      <td>-6.3</td>\n",
       "      <td>32.9</td>\n",
       "      <td>5.379286</td>\n",
       "      <td>0.196589</td>\n",
       "      <td>1.4</td>\n",
       "      <td>0.881568</td>\n",
       "      <td>potato</td>\n",
       "    </tr>\n",
       "    <tr>\n",
       "      <th>14</th>\n",
       "      <td>973</td>\n",
       "      <td>432.03570</td>\n",
       "      <td>1464.4</td>\n",
       "      <td>-6.0</td>\n",
       "      <td>30.2</td>\n",
       "      <td>7.482802</td>\n",
       "      <td>0.019800</td>\n",
       "      <td>3.0</td>\n",
       "      <td>1.377434</td>\n",
       "      <td>wheat</td>\n",
       "    </tr>\n",
       "    <tr>\n",
       "      <th>...</th>\n",
       "      <td>...</td>\n",
       "      <td>...</td>\n",
       "      <td>...</td>\n",
       "      <td>...</td>\n",
       "      <td>...</td>\n",
       "      <td>...</td>\n",
       "      <td>...</td>\n",
       "      <td>...</td>\n",
       "      <td>...</td>\n",
       "      <td>...</td>\n",
       "    </tr>\n",
       "    <tr>\n",
       "      <th>990</th>\n",
       "      <td>1637</td>\n",
       "      <td>504.66306</td>\n",
       "      <td>1144.5</td>\n",
       "      <td>-5.7</td>\n",
       "      <td>32.1</td>\n",
       "      <td>5.666609</td>\n",
       "      <td>0.431891</td>\n",
       "      <td>4.8</td>\n",
       "      <td>2.486276</td>\n",
       "      <td>wheat</td>\n",
       "    </tr>\n",
       "    <tr>\n",
       "      <th>991</th>\n",
       "      <td>756</td>\n",
       "      <td>578.91270</td>\n",
       "      <td>889.4</td>\n",
       "      <td>-5.2</td>\n",
       "      <td>31.0</td>\n",
       "      <td>5.062155</td>\n",
       "      <td>0.442495</td>\n",
       "      <td>2.2</td>\n",
       "      <td>1.209928</td>\n",
       "      <td>cassava</td>\n",
       "    </tr>\n",
       "    <tr>\n",
       "      <th>992</th>\n",
       "      <td>1332</td>\n",
       "      <td>359.76013</td>\n",
       "      <td>1816.0</td>\n",
       "      <td>-6.4</td>\n",
       "      <td>32.9</td>\n",
       "      <td>7.350705</td>\n",
       "      <td>0.133453</td>\n",
       "      <td>2.9</td>\n",
       "      <td>1.225715</td>\n",
       "      <td>wheat</td>\n",
       "    </tr>\n",
       "    <tr>\n",
       "      <th>995</th>\n",
       "      <td>2202</td>\n",
       "      <td>572.95935</td>\n",
       "      <td>625.6</td>\n",
       "      <td>-5.5</td>\n",
       "      <td>31.0</td>\n",
       "      <td>5.258964</td>\n",
       "      <td>0.086330</td>\n",
       "      <td>1.2</td>\n",
       "      <td>0.750675</td>\n",
       "      <td>wheat</td>\n",
       "    </tr>\n",
       "    <tr>\n",
       "      <th>996</th>\n",
       "      <td>2531</td>\n",
       "      <td>552.80945</td>\n",
       "      <td>398.1</td>\n",
       "      <td>-5.9</td>\n",
       "      <td>33.4</td>\n",
       "      <td>4.607136</td>\n",
       "      <td>0.130178</td>\n",
       "      <td>0.8</td>\n",
       "      <td>0.449790</td>\n",
       "      <td>wheat</td>\n",
       "    </tr>\n",
       "  </tbody>\n",
       "</table>\n",
       "<p>319 rows × 10 columns</p>\n",
       "</div>"
      ],
      "text/plain": [
       "     Field_ID  Elevation  Rainfall  Min_temperature_C  Max_temperature_C  \\\n",
       "0        1162  494.95615    1507.6               -5.4               31.0   \n",
       "2        3504  396.87990    1715.1               -6.1               31.7   \n",
       "5        2274  270.45100    1665.2               -7.2               34.3   \n",
       "13       4807  520.29770     292.3               -6.3               32.9   \n",
       "14        973  432.03570    1464.4               -6.0               30.2   \n",
       "..        ...        ...       ...                ...                ...   \n",
       "990      1637  504.66306    1144.5               -5.7               32.1   \n",
       "991       756  578.91270     889.4               -5.2               31.0   \n",
       "992      1332  359.76013    1816.0               -6.4               32.9   \n",
       "995      2202  572.95935     625.6               -5.5               31.0   \n",
       "996      2531  552.80945     398.1               -5.9               33.4   \n",
       "\n",
       "           pH  Pollution_level  Plot_size  Annual_yield Crop_type  \n",
       "0    6.859436         0.007034        3.6      1.617421    coffee  \n",
       "2    5.774116         0.000409        2.6      1.262207    banana  \n",
       "5    5.873082         0.001545        3.9      1.743458    banana  \n",
       "13   5.379286         0.196589        1.4      0.881568    potato  \n",
       "14   7.482802         0.019800        3.0      1.377434     wheat  \n",
       "..        ...              ...        ...           ...       ...  \n",
       "990  5.666609         0.431891        4.8      2.486276     wheat  \n",
       "991  5.062155         0.442495        2.2      1.209928   cassava  \n",
       "992  7.350705         0.133453        2.9      1.225715     wheat  \n",
       "995  5.258964         0.086330        1.2      0.750675     wheat  \n",
       "996  4.607136         0.130178        0.8      0.449790     wheat  \n",
       "\n",
       "[319 rows x 10 columns]"
      ]
     },
     "execution_count": 85,
     "metadata": {},
     "output_type": "execute_result"
    }
   ],
   "source": [
    "df[(df['Min_temperature_C'] < -5) & (df['Max_temperature_C'] > 30)]"
   ]
  },
  {
   "cell_type": "markdown",
   "id": "e900b607",
   "metadata": {},
   "source": [
    "Question 8\n",
    "Using Numpy, calculate the standard deviation of the 'Rainfall' for plots where the 'Plot_size' is larger than the median plot size of the dataset (round to 2 decimal places).\n",
    "ANS: 469.62"
   ]
  },
  {
   "cell_type": "code",
   "execution_count": 93,
   "id": "c1de38db",
   "metadata": {},
   "outputs": [
    {
     "name": "stdout",
     "output_type": "stream",
     "text": [
      "469.62\n"
     ]
    }
   ],
   "source": [
    "# Calculate the median plot size\n",
    "median_plot = df['Plot_size'].median()\n",
    "\n",
    "# Filter the DataFrame for rows where Plot_size is greater than the median\n",
    "filtered_df = df[df['Plot_size'] > median_plot]\n",
    "\n",
    "# Calculate the standard deviation of rainfall in the filtered DataFrame\n",
    "rainfall_std = np.std(filtered_df['Rainfall'])\n",
    "print(round(rainfall_std,2))\n"
   ]
  },
  {
   "cell_type": "markdown",
   "id": "a19d6314",
   "metadata": {},
   "source": [
    "Question 9 \n",
    "if you concatenate the first three digits of the most common ‘Max_temperature_C’ with the last three letters of the least common 'Crop_type', what string do you get?\n",
    "Note: Use the first mode if there are multiple modes\n",
    "ANS: 30.ice"
   ]
  },
  {
   "cell_type": "code",
   "execution_count": 106,
   "id": "b618da88",
   "metadata": {},
   "outputs": [
    {
     "name": "stdout",
     "output_type": "stream",
     "text": [
      "30.ice\n"
     ]
    }
   ],
   "source": [
    "\n",
    "# Find the most common Max_temperature_C\n",
    "most_common_temp = df['Max_temperature_C'].mode()[0]\n",
    "\n",
    "# Find the least common Crop_type\n",
    "least_common_crop = df['Crop_type'].value_counts().idxmin()\n",
    "result = str(most_common_temp)[:3] + least_common_crop[-3:]\n",
    "print(result)\n"
   ]
  },
  {
   "cell_type": "markdown",
   "id": "236fd76a",
   "metadata": {},
   "source": [
    "Question 10\n",
    "Write Python code to create a violin plot visualising the distribution of 'Annual_yield' across different 'Elevation' ranges. Use the provided elevation range categories (Low: < 300m, Medium: 300m - 600m, High: > 600m) to categorise the data before plotting.  Examine the violin plot displaying the distribution of 'Annual Yield' across three elevation categories (Low, Medium, High). What insight does the violin plot provide regarding the relationship between elevation ranges and annual yield distribution?\n",
    "ANS: \n",
    "The low elevation category shows a more consistent yield distribution with less variability compared to the medium and high categories.This could indicate that lower elevations provide stable conditions for consistent agricultural output"
   ]
  },
  {
   "cell_type": "code",
   "execution_count": 121,
   "id": "14a42b6d",
   "metadata": {},
   "outputs": [],
   "source": [
    "def categorize_elevation(elevation):\n",
    "    if elevation < 300:\n",
    "        return 'Low'\n",
    "    elif elevation >=300 and elevation <= 600:\n",
    "        return 'Medium'\n",
    "    else:\n",
    "        return 'High'\n",
    "\n",
    "# Categorize the data based on elevation range\n",
    "df['Elevation_Category'] = df['Elevation'].apply(categorize_elevation)\n"
   ]
  },
  {
   "cell_type": "code",
   "execution_count": 123,
   "id": "2fab971b",
   "metadata": {},
   "outputs": [
    {
     "data": {
      "image/png": "[encoded data removed]",
      "text/plain": [
       "<Figure size 1000x600 with 1 Axes>"
      ]
     },
     "metadata": {},
     "output_type": "display_data"
    }
   ],
   "source": [
    "import seaborn as sns\n",
    "import matplotlib.pyplot as plt\n",
    "\n",
    "# Create the violin plot\n",
    "plt.figure(figsize=(10, 6))\n",
    "sns.violinplot(x='Elevation_Category', y='Annual_yield', data=df)\n",
    "plt.title('Distribution of Annual Yield across Elevation Categories')\n",
    "plt.xlabel('Elevation Category')\n",
    "plt.ylabel('Annual Yield')\n",
    "plt.show()\n"
   ]
  },
  {
   "cell_type": "markdown",
   "id": "e12cf745",
   "metadata": {},
   "source": [
    "Question 11\n",
    "Assuming each 'Crop_type' contributes an integer value equal to its length (e.g., 'wheat' contributes 5), write a recursive function to sum the integer values for each unique crop type in the dataset. What is the sum?\n",
    "ANS;42"
   ]
  },
  {
   "cell_type": "code",
   "execution_count": 133,
   "id": "91762adf",
   "metadata": {},
   "outputs": [
    {
     "name": "stdout",
     "output_type": "stream",
     "text": [
      "The sum of integer values contributed by each unique crop type: 42\n"
     ]
    }
   ],
   "source": [
    "def sum_crop_types(crop_types):\n",
    "    # Base case: if there are no crop types left, return 0\n",
    "    if not crop_types:\n",
    "        return 0\n",
    "    \n",
    "    # Extract the first crop type\n",
    "    crop_type = crop_types[0]\n",
    "    \n",
    "    # Calculate the contribution of the current crop type (length of crop type)\n",
    "    contribution = len(crop_type)\n",
    "    \n",
    "    # Recursive call to sum_crop_types with remaining crop types\n",
    "    remaining_sum = sum_crop_types(crop_types[1:])\n",
    "    \n",
    "    # Add the contribution of the current crop type to the total sum\n",
    "    return contribution + remaining_sum\n",
    "\n",
    "# Sample data\n",
    "crop_types = df['Crop_type'].unique().tolist()\n",
    "\n",
    "# Calculate the sum using the recursive function\n",
    "total_sum = sum_crop_types(crop_types)\n",
    "\n",
    "print(\"The sum of integer values contributed by each unique crop type:\", total_sum)\n"
   ]
  },
  {
   "cell_type": "code",
   "execution_count": 131,
   "id": "91fd909a",
   "metadata": {},
   "outputs": [
    {
     "data": {
      "text/plain": [
       "array(['coffee', 'potato', 'banana', 'wheat', 'cassava', 'maize', 'tea',\n",
       "       'rice'], dtype=object)"
      ]
     },
     "execution_count": 131,
     "metadata": {},
     "output_type": "execute_result"
    }
   ],
   "source": [
    "crop_types = df['Crop_type'].unique()\n",
    "crop_types"
   ]
  },
  {
   "cell_type": "code",
   "execution_count": null,
   "id": "451d05a8",
   "metadata": {},
   "outputs": [],
   "source": []
  },
  {
   "cell_type": "markdown",
   "id": "9a04dafe",
   "metadata": {},
   "source": [
    "Question 12\n",
    "Write Python code to perform a t-test comparing the average 'Annual_yield' between 'coffee' and 'banana' crop types using scipy.stats. What is the p-value, rounded to three decimal places?\n",
    "ANS:  0.598"
   ]
  },
  {
   "cell_type": "code",
   "execution_count": 126,
   "id": "9da0a248",
   "metadata": {},
   "outputs": [
    {
     "name": "stdout",
     "output_type": "stream",
     "text": [
      "p-value: 0.598\n"
     ]
    }
   ],
   "source": [
    "from scipy import stats\n",
    "# Separate data for coffee and banana crops\n",
    "coffee_yield = df[df['Crop_type'] == 'coffee']['Annual_yield']\n",
    "banana_yield = df[df['Crop_type'] == 'banana']['Annual_yield']\n",
    "\n",
    "# Perform t-test\n",
    "t_statistic, p_value = stats.ttest_ind(coffee_yield, banana_yield)\n",
    "\n",
    "# Print p-value rounded to three decimal places\n",
    "print(\"p-value:\", round(p_value, 3))\n"
   ]
  },
  {
   "cell_type": "code",
   "execution_count": null,
   "id": "6b576217",
   "metadata": {},
   "outputs": [],
   "source": []
  },
  {
   "cell_type": "code",
   "execution_count": null,
   "id": "8828516b",
   "metadata": {},
   "outputs": [],
   "source": []
  }
 ],
 "metadata": {
  "kernelspec": {
   "display_name": "Python 3 (ipykernel)",
   "language": "python",
   "name": "python3"
  },
  "language_info": {
   "codemirror_mode": {
    "name": "ipython",
    "version": 3
   },
   "file_extension": ".py",
   "mimetype": "text/x-python",
   "name": "python",
   "nbconvert_exporter": "python",
   "pygments_lexer": "ipython3",
   "version": "3.11.5"
  }
 },
 "nbformat": 4,
 "nbformat_minor": 5
}
