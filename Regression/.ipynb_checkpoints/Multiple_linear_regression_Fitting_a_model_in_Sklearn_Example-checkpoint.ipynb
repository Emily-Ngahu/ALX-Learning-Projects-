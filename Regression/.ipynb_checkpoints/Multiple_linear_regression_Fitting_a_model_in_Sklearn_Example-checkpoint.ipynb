{
 "cells": [
  {
   "cell_type": "markdown",
   "metadata": {},
   "source": [
    "<div align=\"center\" style=\" font-size: 80%; text-align: center; margin: 0 auto\">\n",
    "<img src=\"https://raw.githubusercontent.com/Explore-AI/Pictures/master/Python-Notebook-Banners/Examples.png\"  style=\"display: block; margin-left: auto; margin-right: auto;\";/>\n",
    "</div>"
   ]
  },
  {
   "cell_type": "markdown",
   "metadata": {},
   "source": [
    "# Examples: Multiple linear regression: Fitting a model in sklearn\n",
    "\n",
    "© ExploreAI Academy"
   ]
  },
  {
   "cell_type": "markdown",
   "metadata": {},
   "source": [
    "In this notebook, we delve into the intricacies of multiple linear regression, building upon the foundational understanding of simple linear regression. We explore how to fit a model using sklearn, taking into account multiple predictor variables to predict a response variable. Additionally, we introduce the mtcars dataset, a classic dataset in statistics, to illustrate the concepts in a practical context. \n",
    "\n",
    "## Learning Objectives\n",
    "\n",
    "By the end of this video, you should be able to:\n",
    "\n",
    "* Understand the principles of multiple linear regression and its extension from simple linear regression.\n",
    "* Load and preprocess data for multiple linear regression analysis.\n",
    "* Fit a multiple linear regression model using sklearn.\n",
    "* Interpret the coefficients of the fitted model to understand their influence on the response variable.\n",
    "* Evaluate model accuracy using mean squared error (MSE) and root mean squared error (RMSE).\n"
   ]
  },
  {
   "cell_type": "markdown",
   "metadata": {},
   "source": [
    "## Introduction"
   ]
  },
  {
   "cell_type": "markdown",
   "metadata": {},
   "source": [
    "Recall that the simple linear regression equation is as follows:\n",
    "\n",
    "$$Y = \\beta_{0} + \\beta_{1}X_1$$\n",
    "\n",
    "where:\n",
    "- $\\beta_{0}$ is the intercept, interpreted as the value of $Y$ when $X_1 = 0$;\n",
    "- $\\beta_{1}$ is the coefficient, interpreted as the effect on $Y$ for a one unit increase in $X_1$; and\n",
    "- $X_1$ is the single predictor variable.\n",
    "\n",
    "Extending that idea to multiple linear regression is as simple as adding an **$X_{j}$** and corresponding **$\\beta_{j}$** for each of the **$p$** predictor variables, where **$j$** is an element of the set **$[1,p]$**.\n",
    "   \n",
    "Hence in multiple linear regression, our regression equation becomes:   \n",
    "\n",
    "**$$Y = \\beta_0 + \\beta_1X_1 + \\beta_2X_2 + ... + \\beta_pX_p$$**\n",
    "\n",
    "where:\n",
    "\n",
    "- **$Y$** is the reponse variable which depends on the **$p$ predictor variables**;\n",
    "- **$\\beta_0$** is the intercept, interpreted as the value of **$Y$** when _all_ predictor variables are equal to zero;\n",
    "- **$\\beta_j$** is the average effect on **$Y$** of a one unit increase in **$X_j$**, assuming all other predictors are held fixed."
   ]
  },
  {
   "cell_type": "markdown",
   "metadata": {},
   "source": [
    "## The dataset: `mtcars` \n",
    "\n",
    "As usual, we need to import a few Python libraries."
   ]
  },
  {
   "cell_type": "code",
   "execution_count": null,
   "metadata": {},
   "outputs": [],
   "source": [
    "%matplotlib notebook\n",
    "import numpy as np\n",
    "import pandas as pd\n",
    "import matplotlib.pyplot as plt\n",
    "import seaborn as sns\n",
    "from mpl_toolkits.mplot3d import Axes3D"
   ]
  },
  {
   "cell_type": "markdown",
   "metadata": {},
   "source": [
    "Next we will load our data as a pandas DataFrame. For this train, we'll be using the famous `mtcars` dataset, an extract from the 1974 US Motor Trend magazine, which comprises fuel consumption and 10 aspects of automobile design and performance for 32 automobiles."
   ]
  },
  {
   "cell_type": "code",
   "execution_count": null,
   "metadata": {},
   "outputs": [],
   "source": [
    "#read the dataset\n",
    "df = pd.read_csv('https://raw.githubusercontent.com/Explore-AI/Public-Data/master/Data/regression_sprint/mtcars.csv', index_col=0)\n",
    "df.head()"
   ]
  },
  {
   "cell_type": "code",
   "execution_count": null,
   "metadata": {},
   "outputs": [],
   "source": [
    "#Explore the shape of the dataset\n",
    "df.shape"
   ]
  },
  {
   "cell_type": "markdown",
   "metadata": {},
   "source": [
    "As we can see, the DataFrame contains multiple columns - 11 in total. \n",
    "\n",
    "Simple linear regression models make use of a single predictor variable when fitting a model. While that seems easy to understand, the world is seldom as simple as that. Real problems contain multiple variables and we need to take into account as many as necessary."
   ]
  },
  {
   "cell_type": "markdown",
   "metadata": {},
   "source": [
    "## Modelling miles per gallon\n",
    "\n",
    "Let's attempt to model the miles per gallon (_mpg_) rating of a car using its other characteristics. `mpg` is an intuitive response variable and we would expect it to be negatively impacted by things like a heavier car (_wt_), higher horsepower (_hp_),and bigger engine displacement (_disp_), among other things.\n",
    "\n",
    "To start with, we'll carry out this multiple linear regression in `sklearn`.\n",
    "\n",
    "To get a better idea of what a multi-dimensional dataset looks like, we'll generate a 3D scatter plot showing the `mpg` on the _z_-axis, with two predictor variables, `cyl` and `disp` on the _x_- and _y_-axes."
   ]
  },
  {
   "cell_type": "code",
   "execution_count": null,
   "metadata": {},
   "outputs": [],
   "source": [
    "# create figure and 3d axes\n",
    "fig = plt.figure(figsize=(8,7))\n",
    "ax = fig.add_subplot(111, projection='3d')\n",
    "\n",
    "# set axis labels\n",
    "ax.set_zlabel('MPG')\n",
    "ax.set_xlabel('No. of Cylinders')\n",
    "ax.set_ylabel('Weight (1000 lbs)')\n",
    "\n",
    "# scatter plot with response variable and 2 predictors\n",
    "ax.scatter(df['cyl'], df['wt'], df['mpg'])"
   ]
  },
  {
   "cell_type": "markdown",
   "metadata": {},
   "source": [
    "The above scatter plot will not display correctly in VSCode, therefore you are advised to run the cell in Jupyter."
   ]
  },
  {
   "cell_type": "markdown",
   "metadata": {},
   "source": [
    "We know that in simple two dimensional linear regression, any model that we fit to the data manifests in the form of a straight line. Extending this idea to 3D, the line becomes a plane - a flat surface which is chosen to minimise the squared vertical distances between each observation (red dots), and the plane, as shown in the figure below."
   ]
  },
  {
   "cell_type": "markdown",
   "metadata": {},
   "source": [
    "<div align=\"center\" style=\" font-size: 80%; text-align: center; margin: 0 auto\">\n",
    "<img src=\"https://github.com/Explore-AI/Public-Data/raw/master/3D%20regression%20ISLR.jpg\"  style=\"width:70%\";/>\n",
    "<br>\n",
    "<br>\n",
    "    <em>Figure 1: 3D plane</em>\n",
    "</div>"
   ]
  },
  {
   "cell_type": "markdown",
   "metadata": {},
   "source": [
    "The result of a multivariate linear regression in higher dimensionality is known as a **_hyperplane_** - similar to the flat surface in the figure above, but in a **_p_-dimensional space**, where $p>3$. Unfortunately, humans lack the ability to visualise any number of dimensions greater than three - so we have to be content with the idea that a hyperplane in a _p_-dimensional space is effectively like a flat surface in a 3-dimensional space."
   ]
  },
  {
   "cell_type": "markdown",
   "metadata": {},
   "source": [
    "## Fitting a multivariate regression model\n",
    "\n",
    "In `sklearn`, fitting a multiple linear regression model is similar to fitting a simple linear regression. This time, of course, our $X$ contains multiple columns, where it only contained one before. "
   ]
  },
  {
   "cell_type": "code",
   "execution_count": null,
   "metadata": {},
   "outputs": [],
   "source": [
    "# import regression module\n",
    "from sklearn.linear_model import LinearRegression\n",
    "\n",
    "# split predictors and response\n",
    "X = df.drop(['mpg'], axis=1)\n",
    "y = df['mpg']"
   ]
  },
  {
   "cell_type": "code",
   "execution_count": null,
   "metadata": {},
   "outputs": [],
   "source": [
    "# create model object\n",
    "lm = LinearRegression()"
   ]
  },
  {
   "cell_type": "code",
   "execution_count": null,
   "metadata": {},
   "outputs": [],
   "source": [
    "# import train/test split module\n",
    "from sklearn.model_selection import train_test_split"
   ]
  },
  {
   "cell_type": "code",
   "execution_count": null,
   "metadata": {},
   "outputs": [],
   "source": [
    "# split into train and test\n",
    "X_train, X_test, y_train, y_test = train_test_split(X, \n",
    "                                                    y, \n",
    "                                                    test_size=0.20, \n",
    "                                                    random_state=1)"
   ]
  },
  {
   "cell_type": "code",
   "execution_count": null,
   "metadata": {},
   "outputs": [],
   "source": [
    "# train model\n",
    "lm.fit(X_train, y_train)"
   ]
  },
  {
   "cell_type": "markdown",
   "metadata": {},
   "source": [
    "Having fit our model to the provided training data, we can now inspect its coefficients to get a better understanding of their influence on the predictions the model will provide."
   ]
  },
  {
   "cell_type": "code",
   "execution_count": null,
   "metadata": {},
   "outputs": [],
   "source": [
    "# extract model intercept\n",
    "beta_0 = float(lm.intercept_)"
   ]
  },
  {
   "cell_type": "code",
   "execution_count": null,
   "metadata": {},
   "outputs": [],
   "source": [
    "# extract model coefficients\n",
    "beta_js = pd.DataFrame(lm.coef_, X.columns, columns=['Coefficient'])"
   ]
  },
  {
   "cell_type": "code",
   "execution_count": null,
   "metadata": {},
   "outputs": [],
   "source": [
    "print(\"Intercept:\", beta_0)"
   ]
  },
  {
   "cell_type": "code",
   "execution_count": null,
   "metadata": {},
   "outputs": [],
   "source": [
    "beta_js"
   ]
  },
  {
   "cell_type": "markdown",
   "metadata": {},
   "source": [
    "The results show the coefficients of the features in the model. These coefficients indicate the change in the response variable for a one-unit change in the corresponding feature, holding all other features constant. Positive coefficients indicate a positive relationship with the response variable, while negative coefficients indicate a negative relationship."
   ]
  },
  {
   "cell_type": "markdown",
   "metadata": {},
   "source": [
    "Let's see what our model looks like in a few 2-dimensional plots by plotting `wt`, `disp`, `cyl`, and `hp` vs. `mpg`, respectively (top-left to bottom-right)."
   ]
  },
  {
   "cell_type": "code",
   "execution_count": null,
   "metadata": {},
   "outputs": [],
   "source": [
    "fig, axs = plt.subplots(2, 2, figsize=(9,7))\n",
    "\n",
    "axs[0,0].scatter(df['wt'], df['mpg'])\n",
    "axs[0,0].plot(df['wt'], lm.intercept_ + lm.coef_[4]*df['wt'], color='red')\n",
    "axs[0,0].title.set_text('Weight (wt) vs. mpg')\n",
    "\n",
    "axs[0,1].scatter(df['disp'], df['mpg'])\n",
    "axs[0,1].plot(df['disp'], lm.intercept_ + lm.coef_[1]*df['disp'], color='red')\n",
    "axs[0,1].title.set_text('Engine displacement (disp) vs. mpg')\n",
    "\n",
    "axs[1,0].scatter(df['cyl'], df['mpg'])\n",
    "axs[1,0].plot(df['cyl'], lm.intercept_ + lm.coef_[0]*df['cyl'], color='red')\n",
    "axs[1,0].title.set_text('Number of cylinders (cyl) vs. mpg')\n",
    "\n",
    "axs[1,1].scatter(df['hp'], df['mpg'])\n",
    "axs[1,1].plot(df['hp'], lm.intercept_ + lm.coef_[2]*df['hp'], color='red')\n",
    "axs[1,1].title.set_text('Horsepower (hp) vs. mpg')\n",
    "\n",
    "fig.tight_layout(pad=3.0)\n",
    "\n",
    "plt.show()"
   ]
  },
  {
   "cell_type": "markdown",
   "metadata": {},
   "source": [
    "It looks as if some of the predictors have been somewhat correctly modelled by the regression. Others, like `disp` in the top-right, are nowhere near."
   ]
  },
  {
   "cell_type": "markdown",
   "metadata": {},
   "source": [
    "## Assessing model accuracy"
   ]
  },
  {
   "cell_type": "markdown",
   "metadata": {},
   "source": [
    "Let's assess the fit of our multivariate model. For a rudimentary comparison, let's measure model accuracy against a simple linear regression model that uses only `disp` as a predictor variable for `mpg`."
   ]
  },
  {
   "cell_type": "code",
   "execution_count": null,
   "metadata": {},
   "outputs": [],
   "source": [
    "# comparison linear model\n",
    "slr = LinearRegression()\n",
    "\n",
    "slr.fit(X_train[['disp']], y_train)"
   ]
  },
  {
   "cell_type": "code",
   "execution_count": null,
   "metadata": {},
   "outputs": [],
   "source": [
    "from sklearn import metrics\n",
    "import math"
   ]
  },
  {
   "cell_type": "markdown",
   "metadata": {},
   "source": [
    "Let's calculate the training Mean Squared Error (MSE), test MSE, and test Root Mean Squared Error (RMSE) for both our Simple Linear Regression (SLR) and Multiple Linear Regression (MLR) models."
   ]
  },
  {
   "cell_type": "code",
   "execution_count": null,
   "metadata": {},
   "outputs": [],
   "source": [
    "# dictionary of results\n",
    "results_dict = {'Training MSE':\n",
    "                    {\n",
    "                        \"SLR\": metrics.mean_squared_error(y_train, slr.predict(X_train[['disp']])),\n",
    "                        \"MLR\": metrics.mean_squared_error(y_train, lm.predict(X_train))\n",
    "                    },\n",
    "                'Test MSE':\n",
    "                    {\n",
    "                        \"SLR\": metrics.mean_squared_error(y_test, slr.predict(X_test[['disp']])),\n",
    "                        \"MLR\": metrics.mean_squared_error(y_test, lm.predict(X_test))\n",
    "                    },\n",
    "                'Test RMSE':\n",
    "                    {\n",
    "                        \"SLR\": math.sqrt(metrics.mean_squared_error(y_test, slr.predict(X_test[['disp']]))),\n",
    "                        \"MLR\": math.sqrt(metrics.mean_squared_error(y_test, lm.predict(X_test)))\n",
    "                    }\n",
    "                }"
   ]
  },
  {
   "cell_type": "markdown",
   "metadata": {},
   "source": [
    "We have included a column, *test RMSE*, which is simply the square root of the *test MSE*.\n",
    "\n",
    "\n",
    "\\begin{align}\n",
    "RMSE & = \\sqrt{MSE} \\\\\n",
    "     & = \\sqrt{\\frac{1}{N}\\sum^{N} (\\hat{y_i} - y_i)^{2}}\n",
    "\\end{align}\n",
    "\n",
    "Where $y_i$ are the actual target values for a dataset with $N$ datapoints, and $\\hat{y_i}$ represent our corresponding predictions. RMSE is a more intuitive metric to use than MSE because it is in the same units as the underlying variable being predicted.\n",
    "\n",
    "For instance, MSE would be measured in units of $mpg^2$, whereas RMSE is measured in the same units as $mpg$."
   ]
  },
  {
   "cell_type": "code",
   "execution_count": null,
   "metadata": {},
   "outputs": [],
   "source": [
    "# create dataframe from dictionary\n",
    "results_df = pd.DataFrame(data=results_dict)"
   ]
  },
  {
   "cell_type": "code",
   "execution_count": null,
   "metadata": {},
   "outputs": [],
   "source": [
    "results_df"
   ]
  },
  {
   "cell_type": "markdown",
   "metadata": {},
   "source": [
    " Clearly the multiple linear regression performed a lot better than using just `disp` to try and predict `mpg`, underpinning that the relationship between the dependent variable (mpg) and the independent variables is **not adequately captured by a single predictor**. \n",
    " \n",
    " By incorporating multiple predictors simultaneously, the multiple linear regression model can **account for the combined influence of these factors** on the dependent variable, resulting in **improved predictive performance** and a **more accurate representation** of the underlying relationship in the data."
   ]
  },
  {
   "cell_type": "markdown",
   "metadata": {},
   "source": [
    "#  \n",
    "\n",
    "<div align=\"center\" style=\" font-size: 80%; text-align: center; margin: 0 auto\">\n",
    "<img src=\"https://raw.githubusercontent.com/Explore-AI/Pictures/master/ExploreAI_logos/EAI_Blue_Dark.png\"  style=\"width:200px\";/>\n",
    "</div>"
   ]
  }
 ],
 "metadata": {
  "kernelspec": {
   "display_name": "Python 3 (ipykernel)",
   "language": "python",
   "name": "python3"
  },
  "language_info": {
   "codemirror_mode": {
    "name": "ipython",
    "version": 3
   },
   "file_extension": ".py",
   "mimetype": "text/x-python",
   "name": "python",
   "nbconvert_exporter": "python",
   "pygments_lexer": "ipython3",
   "version": "3.11.5"
  }
 },
 "nbformat": 4,
 "nbformat_minor": 4
}
