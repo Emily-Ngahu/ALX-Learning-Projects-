{
 "cells": [
  {
   "cell_type": "markdown",
   "metadata": {},
   "source": [
    "<div align=\"center\" style=\" font-size: 80%; text-align: center; margin: 0 auto\">\n",
    "<img src=\"https://raw.githubusercontent.com/Explore-AI/Pictures/master/Python-Notebook-Banners/Examples.png\"  style=\"display: block; margin-left: auto; margin-right: auto;\";/>\n",
    "</div>"
   ]
  },
  {
   "cell_type": "markdown",
   "metadata": {},
   "source": [
    "# Examples: Least squares regression\n",
    "© ExploreAI Academy"
   ]
  },
  {
   "cell_type": "markdown",
   "metadata": {},
   "source": [
    "## Learning objectives\n",
    "\n",
    "By the end of this train we will:\n",
    "- Understand what least squares regression is and how we use it to calculate the line of best fit.\n",
    "- Understand the mathematical techniques used in least squares regression.\n",
    "- Know how least squares regression is implemented using sci-kit learn."
   ]
  },
  {
   "cell_type": "markdown",
   "metadata": {},
   "source": [
    "## Least squares regression\n",
    "\n",
    "Least Squares is a method used in regression analysis to find the best-fitting straight line through a set of data points. It does this by minimising the sum of the squares of the residuals between the observed values and those predicted by the line, i.e., \n",
    "$$Q = \\sum_{i=1}^n(y_i-\\hat{y}_i)^2$$\n",
    "\n",
    "The formulae for the slope, \\(m\\), and the intercept, \\(c\\), are determined by minimising the equation for the sum of the squared prediction errors:   \n",
    "$$Q = \\sum_{i=1}^n(y_i-(m x_i+c))^2$$\n",
    "\n",
    "Optimal values for \\(m\\) and \\(c\\) are found by differentiating \\(Q\\) with respect to \\(m\\) and \\(c\\), setting both equal to 0, and then solving for \\(m\\) and \\(c\\).   \n",
    "   \n",
    "The equations for \\(m\\) and \\(c\\) are:   \n",
    "   \n",
    "$$m = \\frac{\\sum_{i=1}^n(x_i-\\bar{x})(y_i-\\bar{y})}{\\sum_{i=1}^n(x_i-\\bar{x})^2}$$   \n",
    "   \n",
    "and:   \n",
    "   \n",
    "$$c = \\bar{y} - m \\bar{x}$$\n",
    "\n",
    "where $\\bar{y}$ and $\\bar{x}$ are the mean values of \\(y\\) and \\(x\\) in our dataset, respectively.\n",
    "\n",
    "## Examples\n",
    "\n",
    "### Example 1\n",
    "   \n",
    "Let's calculate these values in Python, where \\(c\\) is the intercept and \\(m\\) is the slope.\n"
   ]
  },
  {
   "cell_type": "code",
   "execution_count": null,
   "metadata": {},
   "outputs": [],
   "source": [
    "# Import necessary libraries\n",
    "import numpy as np\n",
    "import pandas as pd\n",
    "import matplotlib.pyplot as plt\n",
    "from matplotlib import rc\n",
    "\n",
    "# Load dataset and set the first column as the index\n",
    "df = pd.read_csv('https://github.com/Explore-AI/Public-Data/blob/master/exports%20ZAR-USD-data.csv?raw=true', index_col=0)\n",
    "\n",
    "# Rename columns to 'Y' for the dependent variable and 'X' for the independent variable\n",
    "df.columns = ['Y', 'X'] # Rename the columns of the dataframe to 'Y' and 'X'"
   ]
  },
  {
   "cell_type": "code",
   "execution_count": null,
   "metadata": {
    "colab": {
     "base_uri": "https://localhost:8080/",
     "height": 51
    },
    "colab_type": "code",
    "id": "lEW5FT63wGg5",
    "outputId": "6ee90048-a03b-4f80-cb8b-61bd90c30689"
   },
   "outputs": [],
   "source": [
    "# Extract values of X and Y as numpy arrays for mathematical operations\n",
    "X = df.X.values\n",
    "Y = df.Y.values\n",
    "\n",
    "# Calculate mean of X and Y\n",
    "x_bar = np.mean(X)\n",
    "y_bar = np.mean(Y)\n",
    "\n",
    "# Calculate the slope (m) of the regression line using the least squares method\n",
    "m = sum((X - x_bar) * (Y - y_bar)) / sum((X - x_bar) ** 2)\n",
    "\n",
    "# Calculate the intercept (c) of the regression line\n",
    "c = y_bar - m * x_bar\n",
    "\n",
    "# Output the calculated slope and intercept\n",
    "print(\"Slope = \", m)\n",
    "print(\"Intercept = \", c)"
   ]
  },
  {
   "cell_type": "markdown",
   "metadata": {
    "colab_type": "text",
    "id": "iDf2j-BEHcFO"
   },
   "source": [
    "Now we'll plot the line we've just calculated the coefficients for."
   ]
  },
  {
   "cell_type": "code",
   "execution_count": null,
   "metadata": {
    "colab": {
     "base_uri": "https://localhost:8080/",
     "height": 347
    },
    "colab_type": "code",
    "id": "zKulmV2YwGg-",
    "outputId": "8c15db9d-5547-4707-8262-2532d63d41b0"
   },
   "outputs": [],
   "source": [
    "# use the function we created earlier to generate y-values for a given list of x-values, using the calculated slope and intercept\n",
    "def gen_y(x_list, m, c):\n",
    "    y_gen = []\n",
    "    for x_i in x_list:  \n",
    "        y_i = m*x_i + c \n",
    "        y_gen.append(y_i) \n",
    "    \n",
    "    return(y_gen) \n",
    "\n",
    "# Generate y-values for the given x-values in the dataset based on the calculated slope and intercept\n",
    "y_gen = m * df.X + c\n",
    "\n",
    "# Plot the original data points as a scatter plot\n",
    "plt.scatter(df.X, df.Y)\n",
    "\n",
    "# Plot the regression line using the generated y-values\n",
    "plt.plot(df.X, y_gen, color='red')\n",
    "\n",
    "plt.show()"
   ]
  },
  {
   "cell_type": "markdown",
   "metadata": {
    "colab_type": "text",
    "id": "2_4lAouVHcFU"
   },
   "source": [
    "In a list called ```errors2```, we'll store the new error values."
   ]
  },
  {
   "cell_type": "code",
   "execution_count": null,
   "metadata": {
    "colab": {
     "base_uri": "https://localhost:8080/",
     "height": 187
    },
    "colab_type": "code",
    "id": "BccHzCykwGhB",
    "outputId": "5798343b-6233-4c64-a168-1be90a05df82"
   },
   "outputs": [],
   "source": [
    "errors2 = np.array(y_gen - df.Y) # Calculate the residuals by subtracting the observed Y values from the generated Y values\n",
    "print(np.round(errors2, 2)) # Print the residuals, rounded to 2 decimal places"
   ]
  },
  {
   "cell_type": "markdown",
   "metadata": {
    "colab_type": "text",
    "id": "v84_RPboHcFg"
   },
   "source": [
    "Finally, let's plot the errors on a histogram again."
   ]
  },
  {
   "cell_type": "code",
   "execution_count": null,
   "metadata": {
    "colab": {
     "base_uri": "https://localhost:8080/",
     "height": 347
    },
    "colab_type": "code",
    "id": "kTsBNqTxwGhF",
    "outputId": "bb2f17b8-ef3d-49d3-d453-4ed0456a7082"
   },
   "outputs": [],
   "source": [
    "plt.hist(errors2)\n",
    "plt.show()"
   ]
  },
  {
   "cell_type": "code",
   "execution_count": null,
   "metadata": {
    "colab": {
     "base_uri": "https://localhost:8080/",
     "height": 34
    },
    "colab_type": "code",
    "id": "SVChl7XuwGhJ",
    "outputId": "bcc8168d-fcb6-4068-98b4-651faa691646"
   },
   "outputs": [],
   "source": [
    "# Calculate the Residual Sum of Squares (RSS) by squaring the residuals and summing them up\n",
    "print(\"Residual sum of squares:\", (errors2 ** 2).sum())"
   ]
  },
  {
   "cell_type": "markdown",
   "metadata": {
    "colab_type": "text",
    "id": "QONiUhl0wGhN"
   },
   "source": [
    "Here we can see our RSS has improved from ~867, in our previous example, down to ~321.  \n",
    "Furthermore, if we calculate the sum of the errors we find that the value is close to 0."
   ]
  },
  {
   "cell_type": "code",
   "execution_count": null,
   "metadata": {
    "colab": {
     "base_uri": "https://localhost:8080/",
     "height": 34
    },
    "colab_type": "code",
    "id": "x5GfJNuswGhO",
    "outputId": "41687523-6b29-4e94-bc7f-aca5b0931aea"
   },
   "outputs": [],
   "source": [
    "# Round off the sum of residuals to 11 decimal places to check for numerical stability or precision issues\n",
    "np.round(errors2.sum(),11)"
   ]
  },
  {
   "cell_type": "markdown",
   "metadata": {
    "colab_type": "text",
    "id": "6kIFmZK5wGhR"
   },
   "source": [
    "----\n",
    "Intuitively, this should make sense as it is an indication that the sum of the positive errors is equal to the sum of the negative errors. The line fits in the 'middle' of the data."
   ]
  },
  {
   "cell_type": "markdown",
   "metadata": {
    "colab_type": "text",
    "id": "-wk8Z3dTu8LR"
   },
   "source": [
    "## Linear regression in sci-kit learn\n",
    "   \n",
    "Now that you understand how least squares linear regression works, let's implement it using sci-kit learn.   \n",
    "\n",
    "We'll start by loading the LinearRegression library."
   ]
  },
  {
   "cell_type": "code",
   "execution_count": null,
   "metadata": {
    "colab": {},
    "colab_type": "code",
    "id": "9YY-Sw9du8LS"
   },
   "outputs": [],
   "source": [
    "# Import the LinearRegression class from scikit-learn's linear_model module\n",
    "from sklearn.linear_model import LinearRegression"
   ]
  },
  {
   "cell_type": "markdown",
   "metadata": {
    "colab_type": "text",
    "id": "i2erUrQMu8LW"
   },
   "source": [
    "We can take a peak under the hood by using the Python help (`?`) function. This returns the documentation of the required parameters and the attributes of any function or object.   \n",
    "\n",
    "We're going to need to create a `LinearRegression()` object, so let's first take a look at the documentation for that object:"
   ]
  },
  {
   "cell_type": "code",
   "execution_count": null,
   "metadata": {
    "colab": {},
    "colab_type": "code",
    "id": "iLGo2jV4u8LW"
   },
   "outputs": [],
   "source": [
    "LinearRegression?"
   ]
  },
  {
   "cell_type": "markdown",
   "metadata": {
    "colab_type": "text",
    "id": "Q6t6n75Pu8Lb"
   },
   "source": [
    "Let's create a `LinearRegression()` object with all the default parameters."
   ]
  },
  {
   "cell_type": "code",
   "execution_count": null,
   "metadata": {
    "colab": {},
    "colab_type": "code",
    "id": "Tq8qgFBIu8Lc"
   },
   "outputs": [],
   "source": [
    "# Initialise the LinearRegression model\n",
    "lm = LinearRegression()"
   ]
  },
  {
   "cell_type": "markdown",
   "metadata": {},
   "source": [
    "At this stage, all we have done is initialise a model of the form: $y = mx+c$ \n",
    "\n",
    "But we haven't _fitted the model_ i.e. used the data to calculate the model parameters $a$ and $b$."
   ]
  },
  {
   "cell_type": "markdown",
   "metadata": {
    "colab_type": "text",
    "id": "YkxS7fQpu8Lg"
   },
   "source": [
    "### Fitting the linear model\n",
    "\n",
    "With the object created, we will then need to fit the model to our data. This is done using the `.fit()` function."
   ]
  },
  {
   "cell_type": "code",
   "execution_count": null,
   "metadata": {
    "colab": {},
    "colab_type": "code",
    "id": "oXtcYcqMu8Lg"
   },
   "outputs": [],
   "source": [
    "lm.fit?"
   ]
  },
  {
   "cell_type": "markdown",
   "metadata": {
    "colab_type": "text",
    "id": "DoLCs9Nau8Lk"
   },
   "source": [
    "We can see that the `.fit()` function requires two parameters (`X` and `y`), with an optional third parameter, `sample_weight`.   \n",
    "\n",
    "The `sample_weight` parameter would be useful in situations where the observations in our data have unequal errors - think weight vs height of university students where some students were weighed with an older analogue scale and others were weighed with a new digital scale.   \n",
    "\n",
    "We have no reason to believe that any of our data is any more, or any less trustworthy so we'll leave out the optional weights parameter."
   ]
  },
  {
   "cell_type": "code",
   "execution_count": null,
   "metadata": {},
   "outputs": [],
   "source": [
    "# Reshape the X array to a 2D array as required by scikit-learn, converting from pandas Series to numpy array if necessary\n",
    "X = df.X.values[:, np.newaxis]"
   ]
  },
  {
   "cell_type": "code",
   "execution_count": null,
   "metadata": {
    "colab": {
     "base_uri": "https://localhost:8080/",
     "height": 34
    },
    "colab_type": "code",
    "executionInfo": {
     "elapsed": 982,
     "status": "ok",
     "timestamp": 1543231222258,
     "user": {
      "displayName": "James Leslie",
      "photoUrl": "",
      "userId": "09685684001979352480"
     },
     "user_tz": -120
    },
    "id": "NWSWzCjau8Ll",
    "outputId": "0d785e24-488b-4c0c-fd77-12b42e50c798"
   },
   "outputs": [],
   "source": [
    "# Fit the linear model to the data\n",
    "lm.fit(X, df.Y)"
   ]
  },
  {
   "cell_type": "markdown",
   "metadata": {},
   "source": [
    "If needed, the model parameters found by the `.fit()` function can be obtained as follows: "
   ]
  },
  {
   "cell_type": "code",
   "execution_count": null,
   "metadata": {
    "colab": {},
    "colab_type": "code",
    "id": "s0MyKq7Au8Lq"
   },
   "outputs": [],
   "source": [
    "# Extract the slope (coefficient) and intercept from the fitted model\n",
    "m = lm.coef_[0]\n",
    "c = lm.intercept_"
   ]
  },
  {
   "cell_type": "code",
   "execution_count": null,
   "metadata": {
    "colab": {
     "base_uri": "https://localhost:8080/",
     "height": 51
    },
    "colab_type": "code",
    "executionInfo": {
     "elapsed": 706,
     "status": "ok",
     "timestamp": 1543231224361,
     "user": {
      "displayName": "James Leslie",
      "photoUrl": "",
      "userId": "09685684001979352480"
     },
     "user_tz": -120
    },
    "id": "UA8B1Fqhu8Lw",
    "outputId": "eef4af08-67f2-4b30-8058-7980dbe538e4"
   },
   "outputs": [],
   "source": [
    "# Print the slope and intercept\n",
    "print(\"Slope:\\t\\t\", m)\n",
    "print(\"Intercept:\\t\", c)"
   ]
  },
  {
   "cell_type": "markdown",
   "metadata": {},
   "source": [
    "### Getting model predictions"
   ]
  },
  {
   "cell_type": "markdown",
   "metadata": {},
   "source": [
    "To obtain $y$ values from our linear regression model we use the `.predict()` function. Given an array of $x$ values, this function evaluates the fitted model at those $x$ values and returns the corresponding $y$ values. Note that in this case, the `.predict()` function does exactly what the `gen_y()` function we created earlier does. We will explore the concept of prediction in depth in later tutorials."
   ]
  },
  {
   "cell_type": "code",
   "execution_count": null,
   "metadata": {},
   "outputs": [],
   "source": [
    "# Use the fitted model to generate Y values from the X values\n",
    "gen_y = lm.predict(X)"
   ]
  },
  {
   "cell_type": "code",
   "execution_count": null,
   "metadata": {
    "colab": {
     "base_uri": "https://localhost:8080/",
     "height": 347
    },
    "colab_type": "code",
    "executionInfo": {
     "elapsed": 1163,
     "status": "ok",
     "timestamp": 1543231226121,
     "user": {
      "displayName": "James Leslie",
      "photoUrl": "",
      "userId": "09685684001979352480"
     },
     "user_tz": -120
    },
    "id": "cv-sH4e9u8L3",
    "outputId": "db5ee1b0-6eb6-4336-cf4c-a97c7ded76e9"
   },
   "outputs": [],
   "source": [
    "# plot the results\n",
    "plt.scatter(X, df.Y)  # Plot the original data\n",
    "plt.plot(X, gen_y, color='red')  # Plot the line connecting the generated y-values\n",
    "\n",
    "# Label the axes\n",
    "plt.ylabel(\"ZAR/USD\")\n",
    "plt.xlabel(\"Value of Exports (ZAR, millions)\")\n",
    "\n",
    "plt.show()"
   ]
  },
  {
   "cell_type": "markdown",
   "metadata": {
    "colab_type": "text",
    "id": "O20Xnle5u8L8"
   },
   "source": [
    "## Assessing the model accuracy\n",
    "We can measure the overall error of the fit by calculating the **Residual Sum of Squares**:\n",
    "   \n",
    "$$RSS = \\sum_{i=1}^n(y_i-\\hat{y}_i)^2$$"
   ]
  },
  {
   "cell_type": "code",
   "execution_count": null,
   "metadata": {
    "colab": {
     "base_uri": "https://localhost:8080/",
     "height": 34
    },
    "colab_type": "code",
    "executionInfo": {
     "elapsed": 1164,
     "status": "ok",
     "timestamp": 1543231228752,
     "user": {
      "displayName": "James Leslie",
      "photoUrl": "",
      "userId": "09685684001979352480"
     },
     "user_tz": -120
    },
    "id": "GS5syqQyu8L_",
    "outputId": "6325eaad-b004-4538-ca99-4235c91e2c0b"
   },
   "outputs": [],
   "source": [
    "# Calculate and print the Residual Sum of Squares (RSS) for the fitted model\n",
    "print(\"Residual sum of squares:\", ((gen_y - df.Y) ** 2).sum())"
   ]
  },
  {
   "cell_type": "markdown",
   "metadata": {
    "colab_type": "text",
    "id": "x_tRXHCEu8ME"
   },
   "source": [
    "### Sci-kit learn error metrics\n",
    "Sci-kit learn also has implementations of common error metrics which will make things easier for us to assess the fit of our model.   \n",
    "\n",
    "In addition to RSS, there are some other metrics we can use:\n",
    "\n",
    "**Mean Squared Error (MSE)** measures the average of the squares of the errors between actual and predicted values in a linear regression model. It assesses the fit of the model by quantifying the variance between predicted and observed values, with lower values indicating a better fit.\n",
    "$$MSE = \\frac{RSS}{n}$$   \n",
    "$$MSE = \\frac{1}{n}\\sum_{i=1}^n(y_i-\\hat{y}_i)^2$$   \n",
    "   \n",
    "**R squared ($R^2$)** quantifies the proportion of the variance in the dependent variable that is predictable from the independent variable(s) in a linear regression. It assesses the strength of the relationship between the model's predictions and the actual data, with values closer to 1 indicating a stronger relationship.\n",
    "$$R^2 = 1 - \\frac{RSS}{TSS}$$   \n",
    "$$R^2 = 1 - \\frac{\\sum(y_i-\\hat{y}_i)^2}{\\sum(y_i-\\bar{y})^2}$$\n",
    "\n",
    "We can compute these metrics using sci-kit learn as follows:"
   ]
  },
  {
   "cell_type": "code",
   "execution_count": null,
   "metadata": {
    "colab": {},
    "colab_type": "code",
    "id": "f7r527xgu8MF"
   },
   "outputs": [],
   "source": [
    "# Import metrics from scikit-learn\n",
    "from sklearn import metrics"
   ]
  },
  {
   "cell_type": "code",
   "execution_count": null,
   "metadata": {
    "colab": {
     "base_uri": "https://localhost:8080/",
     "height": 34
    },
    "colab_type": "code",
    "executionInfo": {
     "elapsed": 691,
     "status": "ok",
     "timestamp": 1543231232530,
     "user": {
      "displayName": "James Leslie",
      "photoUrl": "",
      "userId": "09685684001979352480"
     },
     "user_tz": -120
    },
    "id": "Ubm9yflgu8MJ",
    "outputId": "c5006429-fd25-4b4c-d603-c587b3a3111f"
   },
   "outputs": [],
   "source": [
    "# Calculate and print the Mean Squared Error (MSE) between the observed and predicted Y values\n",
    "print('MSE:', metrics.mean_squared_error(df.Y, gen_y))"
   ]
  },
  {
   "cell_type": "code",
   "execution_count": null,
   "metadata": {},
   "outputs": [],
   "source": [
    "# Calculate and print the RSS by multiplying the MSE by the number of observations\n",
    "print(\"Residual sum of squares:\", metrics.mean_squared_error(df.Y, gen_y)*len(X)) "
   ]
  },
  {
   "cell_type": "code",
   "execution_count": null,
   "metadata": {
    "colab": {
     "base_uri": "https://localhost:8080/",
     "height": 34
    },
    "colab_type": "code",
    "executionInfo": {
     "elapsed": 724,
     "status": "ok",
     "timestamp": 1543231233821,
     "user": {
      "displayName": "James Leslie",
      "photoUrl": "",
      "userId": "09685684001979352480"
     },
     "user_tz": -120
    },
    "id": "pmRFGikKu8MN",
    "outputId": "1247ee5c-e85f-475a-95ce-1fb5a19eff2c"
   },
   "outputs": [],
   "source": [
    "# Calculate and print the R-squared value, a measure of how well the observed values are replicated by the model\n",
    "print('R_squared:', metrics.r2_score(df.Y, gen_y))"
   ]
  },
  {
   "cell_type": "markdown",
   "metadata": {},
   "source": [
    "#  \n",
    "\n",
    "<div align=\"center\" style=\" font-size: 80%; text-align: center; margin: 0 auto\">\n",
    "<img src=\"https://raw.githubusercontent.com/Explore-AI/Pictures/master/ExploreAI_logos/EAI_Blue_Dark.png\"  style=\"width:200px\";/>\n",
    "</div>"
   ]
  }
 ],
 "metadata": {
  "colab": {
   "collapsed_sections": [],
   "name": "1.1_least_squares.ipynb",
   "provenance": [],
   "toc_visible": true
  },
  "kernelspec": {
   "display_name": "Python 3 (ipykernel)",
   "language": "python",
   "name": "python3"
  },
  "language_info": {
   "codemirror_mode": {
    "name": "ipython",
    "version": 3
   },
   "file_extension": ".py",
   "mimetype": "text/x-python",
   "name": "python",
   "nbconvert_exporter": "python",
   "pygments_lexer": "ipython3",
   "version": "3.11.5"
  }
 },
 "nbformat": 4,
 "nbformat_minor": 4
}
