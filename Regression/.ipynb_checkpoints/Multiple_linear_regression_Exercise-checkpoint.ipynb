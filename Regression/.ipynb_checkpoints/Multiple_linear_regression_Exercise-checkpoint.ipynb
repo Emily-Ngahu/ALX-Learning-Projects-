{
 "cells": [
  {
   "cell_type": "markdown",
   "id": "1c9e3389",
   "metadata": {},
   "source": [
    "<div align=\"center\" style=\" font-size: 80%; text-align: center; margin: 0 auto\">\n",
    "<img src=\"https://raw.githubusercontent.com/Explore-AI/Pictures/master/Python-Notebook-Banners/Exercise.png\"  style=\"display: block; margin-left: auto; margin-right: auto;\";/>\n",
    "</div>"
   ]
  },
  {
   "cell_type": "markdown",
   "id": "f662d169",
   "metadata": {},
   "source": [
    "# Exercise: Multiple linear regression\n",
    "© ExploreAI Academy"
   ]
  },
  {
   "cell_type": "markdown",
   "id": "26af890c",
   "metadata": {},
   "source": [
    "In this exercise, we will reinforce our knowledge of the fundamental concepts of multiple linear regression by implementing  an MLR model and assessing its accuracy. "
   ]
  },
  {
   "cell_type": "markdown",
   "id": "2d230d14",
   "metadata": {
    "tags": []
   },
   "source": [
    "## Learning objectives\n",
    "\n",
    "By the end of this train, you should be able to:\n",
    "* Implement multiple linear regression in Python\n",
    "* Assess model accuracy by interpreting outputs\n",
    "* Understand what is meant by linearity and multicollinearity of predictors\n",
    "* Understand what is meant by independence, homoscedasticity and normality of residuals and how we can check these in our model output\n"
   ]
  },
  {
   "cell_type": "markdown",
   "id": "1f9d715c",
   "metadata": {},
   "source": [
    "## The dataset\n",
    "\n",
    "For this exerecise, we make use of the `enviro_indicators` dataset. The dataset comprises socio-economic and environmental data collected from various countries, focusing on factors related to sustainable development. It includes information such as forest coverage, biodiversity index, protected areas, rural population, and deforestation rates, aimed at understanding the relationship between human activities and land degradation.\n",
    "\n",
    "The following are the descriptions of the columns in our dataset: \n",
    "\n",
    "* `country`: Name of the country.\n",
    "* `forest_coverage`: Percentage of land covered by forests. This indicator represents the extent of forested areas within the total land area of each country.\n",
    "* `biodiversity_index`: Index representing the biodiversity level in each country. This indicator provides a measure of the variety and variability of organisms within each country's ecosystem.\n",
    "* `protected_areas`: Percentage of land designated as protected areas. This indicator reflects the proportion of land that is legally protected and managed for conservation purposes.\n",
    "* `deforestation_rate`: Annual rate of deforestation (%). This indicator quantifies the percentage of forested land that is lost each year due to deforestation activities.\n",
    "* `carbon_sequestration`: Amount of carbon sequestered by forests (metric tons per hectare). This indicator measures the capacity of forests to absorb and store carbon dioxide from the atmosphere, thus helping mitigate climate change.\n",
    "* `soil_erosion`: Rate of soil erosion (tons per hectare per year). This indicator indicates the amount of soil that is lost or displaced annually due to erosion, which can have detrimental effects on land productivity and ecosystem health.\n",
    "* `land_degradation`: Percentage of land classified as degraded. This indicator represents the proportion of land that has suffered a decline in its ecological condition, often resulting from unsustainable land use practices.\n",
    "* `rural_population`: Percentage of population living in rural areas. This indicator reflects the proportion of a country's population residing in rural areas rather than urban centers.\n",
    "* `population_density`: Population density (people per square kilometer). This indicator quantifies the average number of people living within a unit area of land, providing insights into the distribution of human populations across different countries.\n",
    "\n",
    "\n",
    "We begin by importing some libraries which will help us load and explore our data. "
   ]
  },
  {
   "cell_type": "code",
   "execution_count": null,
   "id": "bf061db6",
   "metadata": {},
   "outputs": [],
   "source": [
    "import pandas as pd\n",
    "import numpy as np\n",
    "import statsmodels.formula.api as smf\n",
    "import matplotlib.pyplot as plt\n",
    "import statsmodels.graphics.correlation as sgc\n",
    "from statsmodels.graphics.gofplots import qqplot\n",
    "import statsmodels.stats.api as sms\n",
    "from statsmodels.stats.outliers_influence import OLSInfluence"
   ]
  },
  {
   "cell_type": "code",
   "execution_count": null,
   "id": "bc2130f2",
   "metadata": {},
   "outputs": [],
   "source": [
    "# Read the data\n",
    "environmental_indicators = pd.read_csv('https://raw.githubusercontent.com/Explore-AI/Public-Data/master/Data/regression_sprint/enviro_indicators.csv', index_col=0)\n",
    "environmental_indicators.head(10)"
   ]
  },
  {
   "cell_type": "markdown",
   "id": "661bad04",
   "metadata": {},
   "source": [
    "## Exercises\n",
    "\n",
    "As part of a conservation effort, we are tasked with building a predictive model to understand the factors influencing the biodiversity index across different countries. \n",
    "\n",
    "Use the flow of these exercises as a guide to build a **multiple linear regression model**. "
   ]
  },
  {
   "cell_type": "markdown",
   "id": "b2ca9fd0",
   "metadata": {},
   "source": [
    "### Exercise 1\n",
    "\n",
    "Print the first few rows of the dataset, the summary statistics, and check for missing values. Doing this provides an overview of the structure of the data, and highlights whether there are any issues with missing data. "
   ]
  },
  {
   "cell_type": "code",
   "execution_count": null,
   "id": "7b4c4879",
   "metadata": {},
   "outputs": [],
   "source": [
    "# insert code here\n"
   ]
  },
  {
   "cell_type": "markdown",
   "id": "98efc31e",
   "metadata": {},
   "source": [
    "### Exercise 2\n",
    "\n",
    "Create a correlation matrix using the columns in the data. We do this to see whether there are potentially strong relationships between the independant variables and the dependant variable, but it can also be used to investigate potential multicollinearity between the independent variables.\n"
   ]
  },
  {
   "cell_type": "code",
   "execution_count": null,
   "id": "8d4da463",
   "metadata": {},
   "outputs": [],
   "source": [
    "# insert code here\n"
   ]
  },
  {
   "cell_type": "markdown",
   "id": "84632575",
   "metadata": {},
   "source": [
    "Looking at the matrix result, which variables appear to be related? \n",
    "\n",
    "It is, however, difficult to view the data well in table format. It might be more useful to display it as a heatmap.\n",
    "\n",
    "1) Use the `statsmodels.graphics.correlation` package to show the correlation heatmap for the variables. \n",
    "2) What relationships exist?"
   ]
  },
  {
   "cell_type": "code",
   "execution_count": null,
   "id": "35d92134",
   "metadata": {},
   "outputs": [],
   "source": [
    "# insert code here"
   ]
  },
  {
   "cell_type": "markdown",
   "id": "6f2c6b3d",
   "metadata": {},
   "source": [
    "### Exercise 3\n",
    "\n",
    "Knowing what we know about the relationships between the variables, it's time to build our regression model. To get started, include all the numeric variables in the model. Remember that `biodiversity_index` is the dependent variable.\n",
    "\n",
    "Print the summary of the fitted model."
   ]
  },
  {
   "cell_type": "code",
   "execution_count": null,
   "id": "1f25f3fc",
   "metadata": {},
   "outputs": [],
   "source": [
    "# Specifying the variables of interest\n",
    "independent_cols = ['forest_coverage',  'protected_areas',\n",
    "       'deforestation_rate', 'carbon_sequestration', 'soil_erosion',\n",
    "       'land_degradation', 'rural_population', 'population_density']\n",
    "\n",
    "dependent_var = 'biodiversity_index'\n",
    "\n"
   ]
  },
  {
   "cell_type": "code",
   "execution_count": null,
   "id": "109ae014",
   "metadata": {},
   "outputs": [],
   "source": [
    "# insert code here"
   ]
  },
  {
   "cell_type": "markdown",
   "id": "12e1236a",
   "metadata": {},
   "source": [
    "### Exercise 4\n",
    "\n",
    "The output from this model seems somewhat strange, with a comment warning of probable multicollinearity. Furthermore, some of the coefficient p-values are rather high (larger than expected). It may be worthwhile to consider which variables appear to be associated with the dependent variable, maintaining those, and possibly removing a few additional factors where there is potential for multicollinearity.\n",
    "\n",
    "Create another version of the model with fewer independent variables and see if the warning can be silenced. "
   ]
  },
  {
   "cell_type": "code",
   "execution_count": null,
   "id": "dc05991e",
   "metadata": {},
   "outputs": [],
   "source": [
    "# insert code here"
   ]
  },
  {
   "cell_type": "markdown",
   "id": "7973d4d7",
   "metadata": {},
   "source": [
    "### Exercise 5\n",
    "\n",
    "Evaluate the accuracy and reliability of the multiple linear regression model by conducting various diagnostic tests.\n",
    "\n",
    "Check for linearity by visually inspecting scatter plots between each independent variable and the biodiversity index. This will help in understanding whether the relationship between the independent variables and the biodiversity index is linear.\n",
    "\n",
    "What can we conclude from the charts? Are there any linear relationships visible? "
   ]
  },
  {
   "cell_type": "code",
   "execution_count": null,
   "id": "1b2da431",
   "metadata": {},
   "outputs": [],
   "source": [
    "# insert code here"
   ]
  },
  {
   "cell_type": "markdown",
   "id": "3dd845dd",
   "metadata": {},
   "source": [
    "### Exercise 6\n",
    "Visualise the relationship between predictor variables and model residuals to assess the independence of residuals using scatter plots. Do we see any obvious dependence of residuals? How would we know?"
   ]
  },
  {
   "cell_type": "code",
   "execution_count": null,
   "id": "a291fd80",
   "metadata": {},
   "outputs": [],
   "source": [
    "# insert code here\n"
   ]
  },
  {
   "cell_type": "markdown",
   "id": "6c66410e",
   "metadata": {},
   "source": [
    "### Exercise 7\n",
    "\n",
    "Check for homoscedasticity by conducting a `Breusch-Pagan` test on our model. Interpret the results to determine whether homoscedasticity could possibly be satisfied for our regression model."
   ]
  },
  {
   "cell_type": "code",
   "execution_count": null,
   "id": "82ed562f",
   "metadata": {},
   "outputs": [],
   "source": [
    "# insert code here"
   ]
  },
  {
   "cell_type": "markdown",
   "id": "6a1b5e12",
   "metadata": {},
   "source": [
    "### Exercise 8\n",
    "Check for the normality of residuals by creating a Q-Q plot of the normalised residuals to visually assess their normality."
   ]
  },
  {
   "cell_type": "code",
   "execution_count": null,
   "id": "019f8041",
   "metadata": {},
   "outputs": [],
   "source": [
    "# insert code here"
   ]
  },
  {
   "cell_type": "markdown",
   "id": "3d8842ca",
   "metadata": {},
   "source": [
    "### Question 9\n",
    "\n",
    "To ensure the accuracy of our regression model, it's crucial to check for outliers that might significantly affect the model's coefficients and predictions. Use Cook's distance to visually inspect a plot of residuals vs. fitted values by identifying potential outliers. \n",
    "\n",
    "Interpret the results."
   ]
  },
  {
   "cell_type": "code",
   "execution_count": null,
   "id": "26b1de3f",
   "metadata": {},
   "outputs": [],
   "source": [
    "# insert code here"
   ]
  },
  {
   "cell_type": "markdown",
   "id": "e9956efe",
   "metadata": {
    "tags": []
   },
   "source": [
    "## Solutions"
   ]
  },
  {
   "cell_type": "markdown",
   "id": "42dba616",
   "metadata": {},
   "source": [
    "### Exercise 1\n",
    "\n",
    "Print the first few rows of the dataset, summary statistics, and test for missing values. Doing this provides an overview of the structure of the data, and highlights whether there are any issues with missing data. \n"
   ]
  },
  {
   "cell_type": "code",
   "execution_count": null,
   "id": "62341cd8",
   "metadata": {},
   "outputs": [],
   "source": [
    "\n",
    "# Print the first few rows of the dataset\n",
    "print(\"First few rows of the dataset:\")\n",
    "print(environmental_indicators.head())\n",
    "\n",
    "# Print the summary statistics of the dataset\n",
    "print(\"\\nSummary statistics of the dataset:\")\n",
    "print(environmental_indicators.describe())\n",
    "\n",
    "# Check for missing values in the dataset\n",
    "print(\"\\nMissing values in the dataset:\")\n",
    "print(environmental_indicators.isnull().sum())\n",
    "\n",
    "# Exclude non-numeric columns before computing the correlation matrix\n",
    "numeric_columns = environmental_indicators.select_dtypes(include=[np.number])\n",
    "\n",
    "\n"
   ]
  },
  {
   "cell_type": "markdown",
   "id": "7d892fee",
   "metadata": {},
   "source": [
    "### Exercise 2\n",
    "\n",
    "Create a correlation matrix using the columns in the data. We do this to see whether there are potentially strong relationships between the independant variables and the dependant variable, but it can also be used to investigate potential multicollinearity between the independent variables.\n"
   ]
  },
  {
   "cell_type": "code",
   "execution_count": null,
   "id": "3d204bc8",
   "metadata": {},
   "outputs": [],
   "source": [
    "# Create the correlation_matrix\n",
    "correlation_matrix = numeric_columns.corr()\n",
    "\n",
    "print(\"\\nCorrelation matrix of the variables:\")\n",
    "correlation_matrix"
   ]
  },
  {
   "cell_type": "markdown",
   "id": "20c19329",
   "metadata": {},
   "source": [
    "Looking at the matrix result, which variables appear to be related? \n",
    "\n",
    "It is, however, difficult to view the data well in table format. It might be more useful to display it as a heatmap.\n",
    "\n",
    "1) Use the `statsmodels.graphics.correlation` package to show the correlation heatmap for the variables. \n",
    "2) What relationships exist?"
   ]
  },
  {
   "cell_type": "code",
   "execution_count": null,
   "id": "250d4a0d",
   "metadata": {},
   "outputs": [],
   "source": [
    "# Exclude non-numeric columns (like 'country') and the dependent variable from the correlation matrix\n",
    "numeric_dependent_variables = environmental_indicators\n",
    "# Compute the correlation matrix\n",
    "corr_matrix = numeric_dependent_variables.corr()\n",
    "\n",
    "# Generate the correlation heatmap\n",
    "plt.figure(figsize=(10, 8))\n",
    "sgc.plot_corr(corr_matrix, xnames=corr_matrix.columns)\n",
    "plt.title('Correlation Heatmap of Variables')\n",
    "plt.show()"
   ]
  },
  {
   "cell_type": "markdown",
   "id": "d08d28aa",
   "metadata": {},
   "source": [
    "Based on the heatmap, we can see that there is some form of correlation between the following variables:\n",
    "1) `deforestation_rate` and `forest_coverage`\n",
    "2) `soil_erosion` and `protected_areas`\n",
    "3) `soil_erosion` and `carbon_sequestration`\n",
    "4) `land_degradation` and `carbon_sequestration`\n",
    "5) `deforestation_rate` and `biodiversity_index`\n",
    "6) `biodiversity_index` and `forest_coverage`\n",
    "\n",
    "Realistically, we can see that `forest_coverage` is related to `deforestation_rate` in some way, as there needs to be a forest before it can be deforested. `deforestation_rate` also has a relatively strong relationship with `biodiversity_index`.  "
   ]
  },
  {
   "cell_type": "markdown",
   "id": "90481009",
   "metadata": {},
   "source": [
    "### Exercise 3\n",
    "\n",
    "Knowing what we know about the relationships between the variables, it's time to build our regression model. To get started, include all the numeric variables in the model. Remember that `biodiversity_index` is the dependent variable.\n",
    "\n",
    "Print the summary of the fitted model."
   ]
  },
  {
   "cell_type": "code",
   "execution_count": null,
   "id": "65d3401c",
   "metadata": {},
   "outputs": [],
   "source": [
    "independent_cols = ['forest_coverage',  'protected_areas',\n",
    "       'deforestation_rate', 'carbon_sequestration', 'soil_erosion',\n",
    "       'land_degradation', 'rural_population', 'population_density']\n",
    "\n",
    "dependent_var = 'biodiversity_index'"
   ]
  },
  {
   "cell_type": "code",
   "execution_count": null,
   "id": "6477dc99",
   "metadata": {},
   "outputs": [],
   "source": [
    "# Generating the regression string\n",
    "formula_str = dependent_var+ ' ~ ' + ' + '.join(independent_cols)\n",
    "formula_str\n",
    "# Construct and fit the model\n",
    "model = smf.ols(formula=formula_str, data=environmental_indicators)\n",
    "fitted = model.fit()\n",
    "\n",
    "# Print the summary of the fitted model\n",
    "print(fitted.summary())"
   ]
  },
  {
   "cell_type": "markdown",
   "id": "5cdb3a39",
   "metadata": {},
   "source": [
    "The output from this model seems somewhat strange, as there is a note warning of potential multicollinearity. In addition, some of the p-values on the coefficients are quite high (larger than we would like). It might be worth looking at which variables seem to be correlated with the dependent variable, keeping those, and maybe dropping a few other variables where there might be multicollinearity. The issue with this is that our model might be highly unstable. "
   ]
  },
  {
   "cell_type": "markdown",
   "id": "e4bb6ae2",
   "metadata": {},
   "source": [
    "### Exercise 4\n",
    "Create another version of the model with fewer independent variables and see if the warning can be silenced. "
   ]
  },
  {
   "cell_type": "code",
   "execution_count": null,
   "id": "855c8fbc",
   "metadata": {},
   "outputs": [],
   "source": [
    "# dropped population density, land_degradation, carbon sequestration\n",
    "independent_cols_reduced = ['forest_coverage',  'protected_areas',\n",
    "       'deforestation_rate', 'soil_erosion',\n",
    "        'rural_population']\n",
    "\n",
    "dependent_var = 'biodiversity_index'"
   ]
  },
  {
   "cell_type": "code",
   "execution_count": null,
   "id": "90b62622",
   "metadata": {},
   "outputs": [],
   "source": [
    "# Generating the regression string\n",
    "formula_str = dependent_var+ ' ~ ' + ' + '.join(independent_cols_reduced)\n",
    "formula_str\n",
    "# Construct and fit the model\n",
    "model = smf.ols(formula=formula_str, data=environmental_indicators)\n",
    "fitted = model.fit()\n",
    "\n",
    "# Print the summary of the fitted model\n",
    "print(fitted.summary())"
   ]
  },
  {
   "cell_type": "markdown",
   "id": "2f2d4fae",
   "metadata": {},
   "source": [
    "This time, we can see that the warning about multicollinearity has disappeared, which is good news. The real test of our model will however be in it's predictive accuracy. "
   ]
  },
  {
   "cell_type": "markdown",
   "id": "9080c93c",
   "metadata": {},
   "source": [
    "### Exercise 5\n",
    "\n",
    "Evaluate the accuracy and reliability of the multiple linear regression model by conducting various diagnostic tests.\n",
    "\n",
    "Check for linearity by visually inspecting scatter plots between each independent variable and the biodiversity index. This will help in understanding whether the relationship between the independent variables and the biodiversity index is linear.\n",
    "\n",
    "What can you see from the charts? Are there any linear relationships visible? "
   ]
  },
  {
   "cell_type": "code",
   "execution_count": null,
   "id": "93e5c679",
   "metadata": {},
   "outputs": [],
   "source": [
    "# Determine the number of rows and columns for subplots\n",
    "num_cols = 2\n",
    "num_rows = (len(independent_cols_reduced) + num_cols - 1) // num_cols\n",
    "\n",
    "# Create subplots\n",
    "fig, axs = plt.subplots(num_rows, num_cols, figsize=(12, 8))\n",
    "fig.subplots_adjust(hspace=0.5, wspace=0.3)\n",
    "axs = axs.ravel()\n",
    "\n",
    "# Iterate over each independent variable and create scatter plot against biodiversity index\n",
    "for index, column in enumerate(independent_cols_reduced):\n",
    "    axs[index].scatter(x=environmental_indicators[column], y=environmental_indicators['biodiversity_index'], color='blue', edgecolor='k')\n",
    "    axs[index].set_title(\"{} vs. Biodiversity_index\".format(column), fontsize=12)\n",
    "    axs[index].set_xlabel(column, fontsize=10)\n",
    "    axs[index].set_ylabel(\"Biodiversity_index\", fontsize=10)\n",
    "\n",
    "\n",
    "plt.tight_layout()\n",
    "plt.show()"
   ]
  },
  {
   "cell_type": "markdown",
   "id": "e8647390",
   "metadata": {},
   "source": [
    "The only variable that shows a relatively linear relationship with `biodiversity_index` is `deforestation_rate`. "
   ]
  },
  {
   "cell_type": "markdown",
   "id": "4d3508ef",
   "metadata": {},
   "source": [
    "### Exercise 6\n",
    "Visualise the relationship between predictor variables and model residuals to assess the independence of residuals using scatter plots. Do we see any obvious dependence of residuals? How would we know?"
   ]
  },
  {
   "cell_type": "code",
   "execution_count": null,
   "id": "c1369d6a",
   "metadata": {},
   "outputs": [],
   "source": [
    "reduced_matrix = environmental_indicators[independent_cols_reduced]"
   ]
  },
  {
   "cell_type": "code",
   "execution_count": null,
   "id": "008382f7",
   "metadata": {},
   "outputs": [],
   "source": [
    "# Plotting predictor variables vs. model residuals\n",
    "fig, axs = plt.subplots(2, 2, figsize=(14, 6), sharey=True)  # Adjusted to 2 rows and 4 columns\n",
    "fig.subplots_adjust(hspace=0.5, wspace=0.2)\n",
    "fig.suptitle('Predictor variables vs. model residuals', fontsize=16)\n",
    "axs = axs.ravel()\n",
    "\n",
    "for index, column in enumerate(reduced_matrix):\n",
    "    if index < len(axs):  # Ensure we don't exceed the number of subplots\n",
    "        axs[index].set_title(\"{}\".format(column), fontsize=12)\n",
    "        axs[index].scatter(x=environmental_indicators[column], y=fitted.resid, color='blue', edgecolor='k')\n",
    "        axs[index].grid(True)\n",
    "        xmin = min(environmental_indicators[column])\n",
    "        xmax = max(environmental_indicators[column])\n",
    "        axs[index].hlines(y=0, xmin=xmin*0.9, xmax=xmax*1.1, color='red', linestyle='--', lw=3)\n",
    "        if index == 0 or index == 4:\n",
    "            axs[index].set_ylabel('Residuals')"
   ]
  },
  {
   "cell_type": "markdown",
   "id": "11e62681",
   "metadata": {},
   "source": [
    "In the charts above, it is clear that there are residuals present, but we cannot actually see any specific groupings or patterns emerging, which would suggest that the errors are independent. The loose distribution of errors around zero is a clear indication that external influences on the residuals are unlikely. "
   ]
  },
  {
   "cell_type": "markdown",
   "id": "975ebaf3",
   "metadata": {},
   "source": [
    "### Exercise 7\n",
    "\n",
    "Check for homoscedasticity by conducting a `Breusch-Pagan` test on our model. Interpret the results to determine whether homoscedasticity could possibly be satisfied for our regression model."
   ]
  },
  {
   "cell_type": "code",
   "execution_count": null,
   "id": "2d73d971",
   "metadata": {},
   "outputs": [],
   "source": [
    "# 1. Calculate residuals\n",
    "residuals = fitted.resid\n",
    "\n",
    "# 2. Perform Breusch-Pagan Test\n",
    "bp_test_result = sms.het_breuschpagan(residuals, fitted.model.exog)\n",
    "print(\"Breusch-Pagan Test Results:\")\n",
    "print(\"LM Statistic:\", bp_test_result[0])\n",
    "print(\"LM-Test p-value:\", bp_test_result[1])\n",
    "print(\"F-Statistic:\", bp_test_result[2])\n",
    "print(\"F-Test p-value:\", bp_test_result[3])"
   ]
  },
  {
   "cell_type": "markdown",
   "id": "f82c275d",
   "metadata": {},
   "source": [
    "The p-values of both the LM test and the F-test are **larger than the typical significance level of 0.05**. This indicates that there isn't enough evidence to reject null hypothesis of homoscedasticity. This is good news for our model! \n",
    "\n",
    "In simpler terms, the variance of the residuals is constant across all values of the predictor variables, which means the model should be relatively reliable in predictions."
   ]
  },
  {
   "cell_type": "markdown",
   "id": "9b54a669",
   "metadata": {},
   "source": [
    "### Exercise 8\n",
    "Check for the normality of residuals by creating a Q-Q plot of the normalised residuals to visually assess their normality."
   ]
  },
  {
   "cell_type": "code",
   "execution_count": null,
   "id": "bd19232d",
   "metadata": {},
   "outputs": [],
   "source": [
    "# Q-Q plot of normalised residuals\n",
    "plt.figure(figsize=(8, 5))\n",
    "fig = qqplot(fitted.resid_pearson, line='45', fit=True)\n",
    "plt.xticks(fontsize=13)\n",
    "plt.yticks(fontsize=13)\n",
    "plt.xlabel(\"Theoretical quantiles\", fontsize=15)\n",
    "plt.ylabel(\"Sample quantiles\", fontsize=15)\n",
    "plt.title(\"Q-Q plot of normalised residuals\", fontsize=18)\n",
    "plt.grid(True)\n",
    "plt.show()"
   ]
  },
  {
   "cell_type": "markdown",
   "id": "2012af25",
   "metadata": {},
   "source": [
    "For the most part, our points lie close to the one-to-one line, which indicates that the residuals are normally distributed. There is however one rogue point on the plot that may warrant further investigation. "
   ]
  },
  {
   "cell_type": "markdown",
   "id": "e3760aa4",
   "metadata": {},
   "source": [
    "### Question 9\n",
    "\n",
    "To ensure the accuracy of our regression model, it's crucial to check for outliers that might significantly affect the model's coefficients and predictions. Use Cook's distance to visually inspect a plot of residuals vs. fitted values by identifying potential outliers. \n",
    "\n",
    "Interpret the results."
   ]
  },
  {
   "cell_type": "code",
   "execution_count": null,
   "id": "23159c00",
   "metadata": {},
   "outputs": [],
   "source": [
    "# Calculate Cook's distance\n",
    "influence = OLSInfluence(fitted)\n",
    "(c, p) = influence.cooks_distance\n",
    "\n",
    "# Plot Cook's distance\n",
    "plt.figure(figsize=(8, 5))\n",
    "plt.title(\"Cook's distance plot for the residuals\", fontsize=16)\n",
    "plt.plot(np.arange(len(c)), c, marker='o', linestyle='-')\n",
    "plt.xlabel('Observation index')\n",
    "plt.ylabel(\"Cook's Distance\")\n",
    "plt.grid(True)\n",
    "plt.show()"
   ]
  },
  {
   "cell_type": "code",
   "execution_count": null,
   "id": "58039a0c",
   "metadata": {},
   "outputs": [],
   "source": [
    "c"
   ]
  },
  {
   "cell_type": "markdown",
   "id": "32ffe005",
   "metadata": {},
   "source": [
    "A rule of thumb for determining whether a Cook's distance is too large is whether it exceeds 1, or is greater than or equal to the value of 4 divided by the number of observations in the dataset. \n",
    "\n",
    "In our scenario, none of the distances exceed 1, and when we calculate 4 divided by the number of observations (32), we get **0.125**. \n",
    "\n",
    "There are three points that may demand more examination and influence our model. The values 0.23, 0.14, and 0.14 are all larger than the rule of thumb that can be used to spot outliers.\n",
    "\n",
    "Ideally, we should train the model again without those observations to observe how they influence it. "
   ]
  },
  {
   "cell_type": "markdown",
   "id": "26fd094b-0fee-46f1-a4b8-73766813c42b",
   "metadata": {
    "tags": []
   },
   "source": [
    "#  \n",
    "\n",
    "<div align=\"center\" style=\" font-size: 80%; text-align: center; margin: 0 auto\">\n",
    "<img src=\"https://raw.githubusercontent.com/Explore-AI/Pictures/master/ExploreAI_logos/EAI_Blue_Dark.png\"  style=\"width:200px\";/>\n",
    "</div>"
   ]
  }
 ],
 "metadata": {
  "kernelspec": {
   "display_name": "Python 3 (ipykernel)",
   "language": "python",
   "name": "python3"
  },
  "language_info": {
   "codemirror_mode": {
    "name": "ipython",
    "version": 3
   },
   "file_extension": ".py",
   "mimetype": "text/x-python",
   "name": "python",
   "nbconvert_exporter": "python",
   "pygments_lexer": "ipython3",
   "version": "3.11.5"
  }
 },
 "nbformat": 4,
 "nbformat_minor": 5
}
