{
 "cells": [
  {
   "cell_type": "markdown",
   "id": "c291a85c",
   "metadata": {},
   "source": [
    "<div align=\"center\" style=\" font-size: 80%; text-align: center; margin: 0 auto\">\n",
    "<img src=\"https://raw.githubusercontent.com/Explore-AI/Pictures/master/Python-Notebook-Banners/Examples.png\"  style=\"display: block; margin-left: auto; margin-right: auto;\";/>\n",
    "</div>"
   ]
  },
  {
   "cell_type": "markdown",
   "id": "f662d169",
   "metadata": {},
   "source": [
    "# Examples: Regularisation - Data scaling\n",
    "© ExploreAI Academy"
   ]
  },
  {
   "cell_type": "markdown",
   "id": "26af890c",
   "metadata": {},
   "source": [
    "In this notebook, we'll gain a comprehensive understanding of scaling and how to implement it in your models."
   ]
  },
  {
   "cell_type": "markdown",
   "id": "2d230d14",
   "metadata": {
    "tags": []
   },
   "source": [
    "## Learning objectives\n",
    "\n",
    "By the end of this notebook, you should be able to:\n",
    "- Understand what scaling and standardisation are.\n",
    "- Understand the code required to implement data scaling."
   ]
  },
  {
   "cell_type": "markdown",
   "id": "1ce595e8",
   "metadata": {},
   "source": [
    "## Introducing Scaling\n",
    "\n",
    "Scaling data is crucial when preparing it for machine learning models, especially for those that involve regularisation. Regularisation techniques, such as L1 (Lasso) and L2 (Ridge) regularisation, adjust model complexity by applying penalties to the coefficients of predictors. The magnitude of these penalties is influenced by the scale of the predictors, making scaling an essential step to ensure fairness and effectiveness in regularisation. Essentially, if the features are on different scales, the model might unfairly penalise smaller scale features more than those on a larger scale. Therefore, to apply regularisation uniformly across all features, we must standardise their scales.\n",
    "\n",
    "There are two common scaling techniques:"
   ]
  },
  {
   "cell_type": "markdown",
   "id": "661bad04",
   "metadata": {},
   "source": [
    "### Normalisation\n",
    "\n",
    "One way to do this is with $[0,1]$-normalisation, otherwise known as min-max normalisation: squeezing your data into the range $[0,1]$. Through normalisation, the maximum value of a variable becomes one, the minimum becomes zero, and the values in-between become decimals between zero and one.\n",
    "\n",
    "We implement this transformation by applying the following operation to each of the values of a predictor variable:\n",
    "\n",
    "$$\\hat{x}_{ij} = \\frac{x_{ij}-min(x_j)}{max(x_j)-min(x_j)},$$\n",
    "\n",
    "where $\\hat{x}_{ij}$ is the value after normalisation, $x_{ij}$ is the $i^{th}$ item of $x_j$, and $min()$, $max()$ return the smallest and largest values of variable $x_j$ respectively. \n",
    "\n",
    "Normalisation is useful because it ensures all variables share the same range: $[0,1]$. One problem with normalisation, however, is that if there are outliers, the bulk of your data will all lie in a small range, so you would lose information."
   ]
  },
  {
   "cell_type": "markdown",
   "id": "42dba616",
   "metadata": {},
   "source": [
    "### Standardisation\n",
    "\n",
    "Z-score standardisation, or simply standardisation, on the other hand, does not suffer from this drawback as it handles outliers gracefully. \n",
    "\n",
    "We implement Z-score standardisation by applying the following operation to each of our variables: \n",
    "\n",
    "$$\\hat{x}_{ij} = \\frac{x_{ij} - \\mu_j}{\\sigma_j}.$$\n",
    "\n",
    "Here, $\\mu_j$ represents the mean of variable $x_j$, while $\\sigma_j$ is the variable's standard deviation. As can be seen from the above formula, instead of dividing by the full range of our variable, we instead divide by a more distribution-aware measure in the standard deviation. While this doesn't completely remove the effects of outliers, it does consider them in a more conservative manner. As a trade-off to using this transformation, our variable is no longer contained within the $[0,1]$ range as it was during normalisation (in fact, it can now take on a range which includes negative values). This means that all our variables won't be bound to the exact same range (i.e. they can have slightly different influence levels on the learnt regression coefficients during regularisation), but they are far closer to one another then they were before the use of standardisation."
   ]
  },
  {
   "cell_type": "markdown",
   "id": "4a8b41ef",
   "metadata": {},
   "source": [
    "## Getting started\n",
    "\n",
    "To begin, let's import a few Python libraries."
   ]
  },
  {
   "cell_type": "code",
   "execution_count": 1,
   "id": "92eea416",
   "metadata": {},
   "outputs": [],
   "source": [
    "import pandas as pd\n",
    "import matplotlib.pyplot as plt\n"
   ]
  },
  {
   "cell_type": "markdown",
   "id": "57fd052b",
   "metadata": {},
   "source": [
    "Now we'll load our data as a Pandas DataFrame after fetching it from the GitHub repo."
   ]
  },
  {
   "cell_type": "code",
   "execution_count": 2,
   "id": "cfc3ac24",
   "metadata": {},
   "outputs": [
    {
     "data": {
      "text/html": [
       "<div>\n",
       "<style scoped>\n",
       "    .dataframe tbody tr th:only-of-type {\n",
       "        vertical-align: middle;\n",
       "    }\n",
       "\n",
       "    .dataframe tbody tr th {\n",
       "        vertical-align: top;\n",
       "    }\n",
       "\n",
       "    .dataframe thead th {\n",
       "        text-align: right;\n",
       "    }\n",
       "</style>\n",
       "<table border=\"1\" class=\"dataframe\">\n",
       "  <thead>\n",
       "    <tr style=\"text-align: right;\">\n",
       "      <th></th>\n",
       "      <th>WaterQualityIndex</th>\n",
       "      <th>ClimateChangeImpactScore</th>\n",
       "      <th>LandUseChange</th>\n",
       "      <th>InvasiveSpeciesCount</th>\n",
       "      <th>ConservationFunding</th>\n",
       "      <th>EcoTourismImpact</th>\n",
       "      <th>ForestCoverChange</th>\n",
       "      <th>SoilQualityIndex</th>\n",
       "      <th>WaterUsage</th>\n",
       "      <th>RenewableEnergyUsage</th>\n",
       "      <th>CarbonEmissionLevels</th>\n",
       "      <th>AgriculturalIntensity</th>\n",
       "      <th>HabitatConnectivity</th>\n",
       "      <th>SpeciesReintroductionEfforts</th>\n",
       "      <th>PollinatorDiversity</th>\n",
       "      <th>BiodiversityHealthIndex</th>\n",
       "    </tr>\n",
       "    <tr>\n",
       "      <th>Year</th>\n",
       "      <th></th>\n",
       "      <th></th>\n",
       "      <th></th>\n",
       "      <th></th>\n",
       "      <th></th>\n",
       "      <th></th>\n",
       "      <th></th>\n",
       "      <th></th>\n",
       "      <th></th>\n",
       "      <th></th>\n",
       "      <th></th>\n",
       "      <th></th>\n",
       "      <th></th>\n",
       "      <th></th>\n",
       "      <th></th>\n",
       "      <th></th>\n",
       "    </tr>\n",
       "  </thead>\n",
       "  <tbody>\n",
       "    <tr>\n",
       "      <th>2010</th>\n",
       "      <td>35</td>\n",
       "      <td>7.542535</td>\n",
       "      <td>6.630073</td>\n",
       "      <td>39</td>\n",
       "      <td>46</td>\n",
       "      <td>1.193810</td>\n",
       "      <td>0.032204</td>\n",
       "      <td>70</td>\n",
       "      <td>33</td>\n",
       "      <td>13</td>\n",
       "      <td>22</td>\n",
       "      <td>1.419332</td>\n",
       "      <td>1.671324</td>\n",
       "      <td>9.311312</td>\n",
       "      <td>0.270434</td>\n",
       "      <td>0.194332</td>\n",
       "    </tr>\n",
       "    <tr>\n",
       "      <th>2010</th>\n",
       "      <td>13</td>\n",
       "      <td>1.617642</td>\n",
       "      <td>6.477132</td>\n",
       "      <td>45</td>\n",
       "      <td>18</td>\n",
       "      <td>8.484718</td>\n",
       "      <td>-4.803485</td>\n",
       "      <td>69</td>\n",
       "      <td>67</td>\n",
       "      <td>57</td>\n",
       "      <td>63</td>\n",
       "      <td>3.048794</td>\n",
       "      <td>5.815305</td>\n",
       "      <td>4.698086</td>\n",
       "      <td>0.729916</td>\n",
       "      <td>0.525779</td>\n",
       "    </tr>\n",
       "    <tr>\n",
       "      <th>2010</th>\n",
       "      <td>10</td>\n",
       "      <td>0.904817</td>\n",
       "      <td>9.069428</td>\n",
       "      <td>28</td>\n",
       "      <td>59</td>\n",
       "      <td>3.412444</td>\n",
       "      <td>-2.563852</td>\n",
       "      <td>72</td>\n",
       "      <td>85</td>\n",
       "      <td>37</td>\n",
       "      <td>46</td>\n",
       "      <td>7.863218</td>\n",
       "      <td>9.543694</td>\n",
       "      <td>2.080495</td>\n",
       "      <td>0.068508</td>\n",
       "      <td>0.684795</td>\n",
       "    </tr>\n",
       "    <tr>\n",
       "      <th>2010</th>\n",
       "      <td>36</td>\n",
       "      <td>7.060190</td>\n",
       "      <td>7.061932</td>\n",
       "      <td>37</td>\n",
       "      <td>88</td>\n",
       "      <td>9.718453</td>\n",
       "      <td>3.425382</td>\n",
       "      <td>64</td>\n",
       "      <td>85</td>\n",
       "      <td>96</td>\n",
       "      <td>60</td>\n",
       "      <td>1.065595</td>\n",
       "      <td>4.938359</td>\n",
       "      <td>2.192657</td>\n",
       "      <td>0.145065</td>\n",
       "      <td>0.926146</td>\n",
       "    </tr>\n",
       "    <tr>\n",
       "      <th>2010</th>\n",
       "      <td>24</td>\n",
       "      <td>8.439246</td>\n",
       "      <td>4.504786</td>\n",
       "      <td>41</td>\n",
       "      <td>88</td>\n",
       "      <td>9.118186</td>\n",
       "      <td>-1.295086</td>\n",
       "      <td>12</td>\n",
       "      <td>0</td>\n",
       "      <td>85</td>\n",
       "      <td>61</td>\n",
       "      <td>9.785784</td>\n",
       "      <td>2.114002</td>\n",
       "      <td>7.405189</td>\n",
       "      <td>0.809798</td>\n",
       "      <td>0.126345</td>\n",
       "    </tr>\n",
       "  </tbody>\n",
       "</table>\n",
       "</div>"
      ],
      "text/plain": [
       "      WaterQualityIndex  ClimateChangeImpactScore  LandUseChange  \\\n",
       "Year                                                               \n",
       "2010                 35                  7.542535       6.630073   \n",
       "2010                 13                  1.617642       6.477132   \n",
       "2010                 10                  0.904817       9.069428   \n",
       "2010                 36                  7.060190       7.061932   \n",
       "2010                 24                  8.439246       4.504786   \n",
       "\n",
       "      InvasiveSpeciesCount  ConservationFunding  EcoTourismImpact  \\\n",
       "Year                                                                \n",
       "2010                    39                   46          1.193810   \n",
       "2010                    45                   18          8.484718   \n",
       "2010                    28                   59          3.412444   \n",
       "2010                    37                   88          9.718453   \n",
       "2010                    41                   88          9.118186   \n",
       "\n",
       "      ForestCoverChange  SoilQualityIndex  WaterUsage  RenewableEnergyUsage  \\\n",
       "Year                                                                          \n",
       "2010           0.032204                70          33                    13   \n",
       "2010          -4.803485                69          67                    57   \n",
       "2010          -2.563852                72          85                    37   \n",
       "2010           3.425382                64          85                    96   \n",
       "2010          -1.295086                12           0                    85   \n",
       "\n",
       "      CarbonEmissionLevels  AgriculturalIntensity  HabitatConnectivity  \\\n",
       "Year                                                                     \n",
       "2010                    22               1.419332             1.671324   \n",
       "2010                    63               3.048794             5.815305   \n",
       "2010                    46               7.863218             9.543694   \n",
       "2010                    60               1.065595             4.938359   \n",
       "2010                    61               9.785784             2.114002   \n",
       "\n",
       "      SpeciesReintroductionEfforts  PollinatorDiversity  \\\n",
       "Year                                                      \n",
       "2010                      9.311312             0.270434   \n",
       "2010                      4.698086             0.729916   \n",
       "2010                      2.080495             0.068508   \n",
       "2010                      2.192657             0.145065   \n",
       "2010                      7.405189             0.809798   \n",
       "\n",
       "      BiodiversityHealthIndex  \n",
       "Year                           \n",
       "2010                 0.194332  \n",
       "2010                 0.525779  \n",
       "2010                 0.684795  \n",
       "2010                 0.926146  \n",
       "2010                 0.126345  "
      ]
     },
     "execution_count": 2,
     "metadata": {},
     "output_type": "execute_result"
    }
   ],
   "source": [
    "df = pd.read_csv('https://raw.githubusercontent.com/Explore-AI/Public-Data/master/SDG_15_Life_on_Land_Dataset.csv', index_col=0)\n",
    "df.head()"
   ]
  },
  {
   "cell_type": "markdown",
   "id": "b33df9b5",
   "metadata": {},
   "source": [
    "We can take a look at the dimensions of the dataframe to get an idea of the number of rows, _n_, and number of predictors, _p_, which is equal to one less than the number of columns."
   ]
  },
  {
   "cell_type": "code",
   "execution_count": null,
   "id": "6ac19046",
   "metadata": {},
   "outputs": [],
   "source": [
    "df.shape"
   ]
  },
  {
   "cell_type": "markdown",
   "id": "e506733d",
   "metadata": {},
   "source": [
    "Our dataset contains various environmental indicators related to SDG 15, such as deforestation rates, protected area coverage, biodiversity indices, and other relevant variables. Our objective is to model an environmental outcome for  the health of biodiversity using these indicators. \n",
    "\n",
    "The mathematical representation of our model can be described as follows:\n",
    "\n",
    "$$Y = \\beta_0 + \\beta_1X_1 + \\beta_2X_2 + ... + \\beta_pX_p$$\n",
    "\n",
    "In this formulation, $Y$ represents the response variable, which, in our case, is `BiodiversityHealthIndex`. This response variable is influenced by _p_ predictor variables ($X_1, X_2, ..., X_p$), each representing different environmental indicators relevant to SDG 15."
   ]
  },
  {
   "cell_type": "markdown",
   "id": "a8a40164",
   "metadata": {},
   "source": [
    "We can see in the data above that the variables have different scales. For example, variables such as `ConservationFunding` may involve financial values potentially reaching into high numerical ranges, whereas other variables like `ProtectedAreaCoverage` or `RenewableEnergyUsage` are expressed as percentages. So let's go ahead and implement scaling. "
   ]
  },
  {
   "cell_type": "markdown",
   "id": "b7e50774",
   "metadata": {},
   "source": [
    "## Implementing Scaling\n",
    "\n",
    "Let's see how we standardise the features. Sklearn makes rescaling easy. We'll import the `StandardScaler()` object from `sklearn.preprocessing`."
   ]
  },
  {
   "cell_type": "code",
   "execution_count": null,
   "id": "d5d494fb",
   "metadata": {},
   "outputs": [],
   "source": [
    "# split data into predictors and response\n",
    "X = df.drop('BiodiversityHealthIndex', axis=1)\n",
    "y = df['BiodiversityHealthIndex']"
   ]
  },
  {
   "cell_type": "code",
   "execution_count": null,
   "id": "c919600e",
   "metadata": {},
   "outputs": [],
   "source": [
    "# import scaler method from sklearn\n",
    "from sklearn.preprocessing import StandardScaler"
   ]
  },
  {
   "cell_type": "code",
   "execution_count": null,
   "id": "ec0a0853",
   "metadata": {},
   "outputs": [],
   "source": [
    "# create scaler object\n",
    "scaler = StandardScaler()"
   ]
  },
  {
   "cell_type": "code",
   "execution_count": null,
   "id": "6053469e",
   "metadata": {},
   "outputs": [],
   "source": [
    "# create scaled version of the predictors (there is no need to scale the response)\n",
    "X_scaled = scaler.fit_transform(X)"
   ]
  },
  {
   "cell_type": "code",
   "execution_count": null,
   "id": "cc8fb6d6",
   "metadata": {
    "scrolled": true
   },
   "outputs": [],
   "source": [
    "# convert the scaled predictor values into a dataframe\n",
    "X_standardise = pd.DataFrame(X_scaled,columns=X.columns)\n",
    "X_standardise.head()"
   ]
  },
  {
   "cell_type": "markdown",
   "id": "01942ade",
   "metadata": {},
   "source": [
    "Taking a look at one of the variables as an example (`SoilQualityIndex`), we can see that standardising the data has caused it to be centered around zero."
   ]
  },
  {
   "cell_type": "code",
   "execution_count": null,
   "id": "62341cd8",
   "metadata": {
    "scrolled": true
   },
   "outputs": [],
   "source": [
    "plt.hist(X_standardise['SoilQualityIndex'])\n",
    "plt.show()"
   ]
  },
  {
   "cell_type": "markdown",
   "id": "5f71ead2",
   "metadata": {},
   "source": [
    "Furthermore, the standard error within each variable in the data is now equal to one. "
   ]
  },
  {
   "cell_type": "code",
   "execution_count": null,
   "id": "5df4e5cd",
   "metadata": {},
   "outputs": [],
   "source": [
    "X_standardise.describe().loc['std']"
   ]
  },
  {
   "cell_type": "markdown",
   "id": "514b6070",
   "metadata": {},
   "source": [
    "## Implementing min-max normalisation\n",
    "\n",
    "Let's see how we normalise the features. Sklearn makes rescaling easy. We'll import the `MinMaxScaler()` object from `sklearn.preprocessing`."
   ]
  },
  {
   "cell_type": "code",
   "execution_count": null,
   "id": "9f24a4c9",
   "metadata": {},
   "outputs": [],
   "source": [
    "# import scaler method from sklearn\n",
    "from sklearn.preprocessing import MinMaxScaler"
   ]
  },
  {
   "cell_type": "code",
   "execution_count": null,
   "id": "e59ab718",
   "metadata": {},
   "outputs": [],
   "source": [
    "# create scaler object\n",
    "scaler = MinMaxScaler()"
   ]
  },
  {
   "cell_type": "code",
   "execution_count": null,
   "id": "7ee017bf",
   "metadata": {},
   "outputs": [],
   "source": [
    "# create scaled version of the predictors (there is no need to scale the response)\n",
    "X_scaled = scaler.fit_transform(X)"
   ]
  },
  {
   "cell_type": "code",
   "execution_count": null,
   "id": "4749fc7b",
   "metadata": {
    "scrolled": true
   },
   "outputs": [],
   "source": [
    "# convert the scaled predictor values into a dataframe\n",
    "X_standardise = pd.DataFrame(X_scaled,columns=X.columns)\n",
    "X_standardise.head()"
   ]
  },
  {
   "cell_type": "markdown",
   "id": "bb7a5a28",
   "metadata": {},
   "source": [
    "Taking a look at one of the variables as an example (`SoilQualityIndex`), we can see that normalising the data put it neatly between 0 and 1."
   ]
  },
  {
   "cell_type": "code",
   "execution_count": null,
   "id": "f3279492",
   "metadata": {
    "scrolled": true
   },
   "outputs": [],
   "source": [
    "plt.hist(X_standardise['SoilQualityIndex'])\n",
    "plt.show()"
   ]
  },
  {
   "cell_type": "markdown",
   "id": "770cf4e5",
   "metadata": {},
   "source": [
    "Furthermore, the standard error for these newly normalised variables is all relatively similar at +-0.28."
   ]
  },
  {
   "cell_type": "code",
   "execution_count": null,
   "id": "0f885d7d",
   "metadata": {},
   "outputs": [],
   "source": [
    "X_standardise.describe().loc['std']"
   ]
  },
  {
   "cell_type": "markdown",
   "id": "2f8682a0",
   "metadata": {},
   "source": [
    "## Conclusion\n",
    "\n",
    "In this train we have seen or been introduced to:\n",
    "\n",
    "- The difference between scaling and standardising the predictor variables in our dataset\n",
    "- The different scaling techniques and performed scaling on our data using Standardisation and Normalisation. "
   ]
  },
  {
   "cell_type": "markdown",
   "id": "1130eb39",
   "metadata": {},
   "source": [
    "## Appendix\n",
    "Links to additional resources to help with the understanding of concepts presented in the train.\n",
    "\n",
    "- [Article on standard min-max normalization vs z-score standardisation](https://www.codecademy.com/articles/normalization)"
   ]
  },
  {
   "cell_type": "markdown",
   "id": "26fd094b-0fee-46f1-a4b8-73766813c42b",
   "metadata": {
    "tags": []
   },
   "source": [
    "#  \n",
    "\n",
    "<div align=\"center\" style=\" font-size: 80%; text-align: center; margin: 0 auto\">\n",
    "<img src=\"https://raw.githubusercontent.com/Explore-AI/Pictures/master/ExploreAI_logos/EAI_Blue_Dark.png\"  style=\"width:200px\";/>\n",
    "</div>"
   ]
  }
 ],
 "metadata": {
  "kernelspec": {
   "display_name": "Python 3 (ipykernel)",
   "language": "python",
   "name": "python3"
  },
  "language_info": {
   "codemirror_mode": {
    "name": "ipython",
    "version": 3
   },
   "file_extension": ".py",
   "mimetype": "text/x-python",
   "name": "python",
   "nbconvert_exporter": "python",
   "pygments_lexer": "ipython3",
   "version": "3.11.5"
  }
 },
 "nbformat": 4,
 "nbformat_minor": 5
}
