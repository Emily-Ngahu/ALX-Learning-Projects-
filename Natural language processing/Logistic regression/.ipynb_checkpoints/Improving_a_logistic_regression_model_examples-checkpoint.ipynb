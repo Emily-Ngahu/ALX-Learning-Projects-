{
 "cells": [
  {
   "cell_type": "markdown",
   "id": "d091dce2",
   "metadata": {},
   "source": [
    "<div align=\"center\" style=\" font-size: 80%; text-align: center; margin: 0 auto\">\n",
    "<img src=\"https://raw.githubusercontent.com/Explore-AI/Pictures/master/Python-Notebook-Banners/Examples.png\"  style=\"display: block; margin-left: auto; margin-right: auto;\";/>\n",
    "</div>"
   ]
  },
  {
   "cell_type": "markdown",
   "id": "f662d169",
   "metadata": {},
   "source": [
    "# Examples: Improving a logistic regression model\n",
    "© ExploreAI Academy"
   ]
  },
  {
   "cell_type": "markdown",
   "id": "26af890c",
   "metadata": {},
   "source": [
    "In this train, we'll rebuild and evaluate logistic regression models through performance metrics to enhance prediction accuracy."
   ]
  },
  {
   "cell_type": "markdown",
   "id": "2d230d14",
   "metadata": {
    "tags": []
   },
   "source": [
    "## Learning objectives\n",
    "\n",
    "By the end of this train, you should be able to:\n",
    "- Rebuild a logistic regression model for improved accuracy.\n",
    "- Assess model performance accurately using the confusion matrix and classification report.\n",
    "- Understand the evaluation of binary classifiers, particularly in the context of class imbalance, and become familiar with metrics such as accuracy, precision, recall, and f1-score."
   ]
  },
  {
   "cell_type": "markdown",
   "id": "2099fd18",
   "metadata": {},
   "source": [
    "## Examples\n",
    "\n",
    "This train is structured as follows:\n",
    "\n",
    "1. Rebuild our Wisconsin Breast Cancer classifier.\n",
    "2. Use feature subset selection to create a sparse model.\n",
    "3. Tune the logistic regression model hyperparameter."
   ]
  },
  {
   "cell_type": "markdown",
   "id": "8570a727",
   "metadata": {},
   "source": [
    "### Example 1: Rebuilding the Breast Cancer classifier\n",
    "\n",
    "Let's explore the potential of logistic regression in diagnosing breast cancer, utilising the **Wisconsin Breast Cancer dataset**. This dataset includes 30 continuous features and a binary target indicating tumour malignancy. Our aim is to enhance model precision in distinguishing between benign (1) and malignant (0) cases."
   ]
  },
  {
   "cell_type": "markdown",
   "id": "513f953b",
   "metadata": {},
   "source": [
    "We'll start by making the necessary imports:\n",
    "\n",
    "* `numpy` for numerical operations.\n",
    "* `pandas` for data manipulation.\n",
    "* `matplotlib` for plotting graphs.  \n",
    "* `%matplotlib inline` to ensure that plots are displayed inline within the notebook. \n",
    "* `load_breast_cancer` function provides access to the Wisconsin Breast Cancer dataset.\n",
    "* `classification_report` function for assessing the performance of classification models by providing key metrics such as precision, recall, f1-score, and accuracy for each class. "
   ]
  },
  {
   "cell_type": "code",
   "execution_count": null,
   "id": "cab506c2",
   "metadata": {},
   "outputs": [],
   "source": [
    "import numpy as np\n",
    "import pandas as pd\n",
    "import matplotlib.pyplot as plt\n",
    "%matplotlib inline\n",
    "\n",
    "# Import dataset\n",
    "from sklearn.datasets import load_breast_cancer\n",
    "\n",
    "# For precision, recall, etc.\n",
    "from sklearn.metrics import classification_report"
   ]
  },
  {
   "cell_type": "markdown",
   "id": "9addd397",
   "metadata": {},
   "source": [
    "We'll then load the breast cancer dataset by calling the `load_breast_cancer` function with the parameter `return_X_y=True`. This instructs the function to return the dataset split into features and target variables, which are assigned to `X` and `y`, respectively. "
   ]
  },
  {
   "cell_type": "code",
   "execution_count": null,
   "id": "f002bad1",
   "metadata": {},
   "outputs": [],
   "source": [
    "X, y = load_breast_cancer(return_X_y=True)"
   ]
  },
  {
   "cell_type": "markdown",
   "id": "df5305ef",
   "metadata": {},
   "source": [
    "Remember to perform data scaling of the data during preprocessing for all machine learning tasks as _scaling_ puts all our features into the same range."
   ]
  },
  {
   "cell_type": "code",
   "execution_count": null,
   "id": "c71e2b4b",
   "metadata": {},
   "outputs": [],
   "source": [
    "# Import the scaler module\n",
    "from sklearn import preprocessing\n",
    "scaler = preprocessing.MinMaxScaler()\n",
    "\n",
    "# Scale data\n",
    "X_scaled = scaler.fit_transform(X)"
   ]
  },
  {
   "cell_type": "markdown",
   "id": "da647bde",
   "metadata": {},
   "source": [
    "We can now split the scaled features `X_scaled` and target `y` into training and testing sets. We'll reserve 20% of the data for testing (`test_size=0.2`) and ensures reproducibility by setting a `random_state`. "
   ]
  },
  {
   "cell_type": "code",
   "execution_count": null,
   "id": "2c90ebdc",
   "metadata": {},
   "outputs": [],
   "source": [
    "from sklearn.model_selection import train_test_split\n",
    "\n",
    "# Split into train and test\n",
    "X_train, X_test, y_train, y_test = train_test_split(X_scaled, y, test_size=0.2, random_state=10)"
   ]
  },
  {
   "cell_type": "code",
   "execution_count": null,
   "id": "fa65fb9e",
   "metadata": {},
   "outputs": [],
   "source": [
    "from sklearn.linear_model import LogisticRegression"
   ]
  },
  {
   "cell_type": "markdown",
   "id": "409adea9",
   "metadata": {},
   "source": [
    "### Example 2: Using feature subset selection to create a sparse model\n",
    "\n",
    "In general, given a particular model and a dataset, there are two categories of change we can make to try and improve the model once it has been trained with default parameters:\n",
    "\n",
    "1. We can change/reduce which features the model was trained on; and/or\n",
    "2. We can tweak what are known as model hyperparameters.\n",
    "\n",
    "For both methods, the benchmark performance metrics we will use (within classification tasks) are precision, recall, and f1-score. In other words, after making our changes, we will compare the results for each of those metrics to the default model to determine if an improvement has been made.\n",
    "\n",
    "We'll start with the first method, and change which features the model is trained on. Assuming the default model was trained using all the features, any change we undertake will invariably reduce the number of features we use. A model trained using some subset of all the available features is known as a _sparse model_.\n",
    "\n",
    "We'll create four models to compare. In so doing, we'll cover some of the feature subset selection methods available for classification that you may be able to use in the course and your career going forward:\n",
    "\n",
    "1. Full model - using all features (reference model);\n",
    "2. Variance thresholding;\n",
    "3. Select K-best features;\n",
    "4. Sequential forward selection."
   ]
  },
  {
   "cell_type": "markdown",
   "id": "7bd85b52",
   "metadata": {},
   "source": [
    "An important note here: always split your dataset into train/test folds _before_ performing feature selection. This prevents what is known as data leakage, where some of the 'unseen' data is exposed to the model during the training process, which would in turn inflate its test set accuracy later on. Take a quick read through the [tweet below](https://twitter.com/jmschreiber91/status/1137464236156702720?s=20) for some more context.\n",
    "\n",
    "<img src=\"https://raw.githubusercontent.com/Explore-AI/Pictures/master/split-tweet.jpg\" alt=\"train/test split ordering tweet\" width=\"400px;\">"
   ]
  },
  {
   "cell_type": "markdown",
   "id": "4b34a0f3",
   "metadata": {},
   "source": [
    "For each method, we'll perform the feature selection on both the train and test sets - ensuring the model is tested on data with the same features it was trained on."
   ]
  },
  {
   "cell_type": "markdown",
   "id": "05d500d9",
   "metadata": {},
   "source": [
    "#### 1. Full Model (No Selection)\n",
    "\n",
    "In order to have a reference model, we'll build a logistic regression classifier using all the features."
   ]
  },
  {
   "cell_type": "code",
   "execution_count": null,
   "id": "18e82a1a",
   "metadata": {},
   "outputs": [],
   "source": [
    "lm_full = LogisticRegression()"
   ]
  },
  {
   "cell_type": "markdown",
   "id": "6ab27c4a",
   "metadata": {},
   "source": [
    "We'll need to standardise our features here to ensure the model is able to converge."
   ]
  },
  {
   "cell_type": "code",
   "execution_count": null,
   "id": "db92c73d",
   "metadata": {},
   "outputs": [],
   "source": [
    "# No transformations necessary\n",
    "lm_full.fit(X_train, y_train)"
   ]
  },
  {
   "cell_type": "code",
   "execution_count": null,
   "id": "6193d1f9",
   "metadata": {},
   "outputs": [],
   "source": [
    "# Generate predictions from full model\n",
    "pred_lm_full = lm_full.predict(X_test)"
   ]
  },
  {
   "cell_type": "markdown",
   "id": "00d20b25",
   "metadata": {},
   "source": [
    "#### 2. Selection by variance thresholding\n",
    "\n",
    "As you may recall, variance thresholding is a process by which we remove features which don't meet some minimum level of variance."
   ]
  },
  {
   "cell_type": "markdown",
   "id": "1651784d",
   "metadata": {},
   "source": [
    "<img src=\"https://raw.githubusercontent.com/Explore-AI/Pictures/master/sketch-var-thresh.png\" alt=\"sketch-var-thresh\" width=\"500px;\"/>"
   ]
  },
  {
   "cell_type": "code",
   "execution_count": null,
   "id": "b30c02d7",
   "metadata": {},
   "outputs": [],
   "source": [
    "# lm instance for var thresh\n",
    "lm_vt = LogisticRegression()"
   ]
  },
  {
   "cell_type": "markdown",
   "id": "54333c42",
   "metadata": {},
   "source": [
    "When we apply the transformation (i.e., run feature selection) on the training set, we are fitting the transformation: `fit_transform(train_data)`. In order to apply the same transformation to the test set, we only need to transform it, not fit it: `transform(test_data)`."
   ]
  },
  {
   "cell_type": "code",
   "execution_count": null,
   "id": "cb56d23a",
   "metadata": {},
   "outputs": [],
   "source": [
    "# Import the var thresh model and choose a threshold\n",
    "from sklearn.feature_selection import VarianceThreshold\n",
    "selector = VarianceThreshold(threshold=0.02)\n",
    "\n",
    "# Transform (i.e.: run selection on) the training data\n",
    "X_train_vt = selector.fit_transform(X_train)"
   ]
  },
  {
   "cell_type": "code",
   "execution_count": null,
   "id": "97dcecfb",
   "metadata": {},
   "outputs": [],
   "source": [
    "X_train_vt.shape"
   ]
  },
  {
   "cell_type": "markdown",
   "id": "8a76ac1b",
   "metadata": {},
   "source": [
    "Using a variance threshold of 0.02, we have managed to trim the number of features in the training dataset from 30 down to 15."
   ]
  },
  {
   "cell_type": "code",
   "execution_count": null,
   "id": "4583ac27",
   "metadata": {},
   "outputs": [],
   "source": [
    "# Fit model to the transformed data\n",
    "lm_vt.fit(X_train_vt, y_train)"
   ]
  },
  {
   "cell_type": "code",
   "execution_count": null,
   "id": "95fc79de",
   "metadata": {},
   "outputs": [],
   "source": [
    "# Now we'll need to remove the same features we did in the thresholding process\n",
    "X_test_vt = selector.transform(X_test)\n",
    "\n",
    "# Generate predictions from var thresh model\n",
    "pred_lm_vt = lm_vt.predict(X_test_vt)"
   ]
  },
  {
   "cell_type": "markdown",
   "id": "858a19ae",
   "metadata": {},
   "source": [
    "#### 3. Selection by choosing k-best features\n",
    "\n",
    "`SelectKBest` is a feature selection module in `sklearn` which removes all but the _k_ highest scoring features according to some specified statistical test. In this case, we'll use `f_classif` as the test, which we specify in the `score_func` argument in the `SelectKBest` method.\n",
    "\n",
    "`f_classif` computes the ANOVA f-value between each label and feature - read up [more on it here](https://www.statisticshowto.com/probability-and-statistics/f-statistic-value-test/)."
   ]
  },
  {
   "cell_type": "markdown",
   "id": "67db8e86",
   "metadata": {},
   "source": [
    "<img src=\"https://raw.githubusercontent.com/Explore-AI/Pictures/master/sketch-kbest.png\" alt=\"sketch-kbest\" width=\"600px;\"/>"
   ]
  },
  {
   "cell_type": "code",
   "execution_count": null,
   "id": "abf2e6d1",
   "metadata": {},
   "outputs": [],
   "source": [
    "# lm instance for k-best\n",
    "lm_kbest = LogisticRegression()"
   ]
  },
  {
   "cell_type": "code",
   "execution_count": null,
   "id": "cbac7756",
   "metadata": {},
   "outputs": [],
   "source": [
    "# Import the feature selector module\n",
    "from sklearn import feature_selection\n",
    "from sklearn.feature_selection import f_classif\n",
    "\n",
    "# Set up selector, choosing score function and number of features to retain\n",
    "selector_kbest = feature_selection.SelectKBest(score_func=f_classif, k=20)\n",
    "\n",
    "# Transform (i.e.: run selection on) the training data\n",
    "X_train_kbest = selector_kbest.fit_transform(X_train, y_train)"
   ]
  },
  {
   "cell_type": "code",
   "execution_count": null,
   "id": "89cadc1d",
   "metadata": {},
   "outputs": [],
   "source": [
    "X_train_kbest.shape"
   ]
  },
  {
   "cell_type": "code",
   "execution_count": null,
   "id": "54d94eb7",
   "metadata": {},
   "outputs": [],
   "source": [
    "# Fit model to the transformed data\n",
    "lm_kbest.fit(X_train_kbest, y_train)"
   ]
  },
  {
   "cell_type": "code",
   "execution_count": null,
   "id": "5a448bee",
   "metadata": {},
   "outputs": [],
   "source": [
    "# Before generating predictions, we'll need to transform the test data the same way we did the train data\n",
    "X_test_kbest = selector_kbest.transform(X_test)\n",
    "\n",
    "# Generate predictions from var thresh model\n",
    "pred_lm_kbest = lm_kbest.predict(X_test_kbest)"
   ]
  },
  {
   "cell_type": "markdown",
   "id": "84dbb1c1",
   "metadata": {},
   "source": [
    "#### 4. Selection using sequential forward selection\n",
    "\n",
    "In this process, we iteratively fit the logistic regression classifier to our dataset, where our dataset starts with one feature, and adds one feature per iteration. For each iteration, k-fold cross-validation is used to compute the performance of the classifier. Thereafter, we can determine which number of features resulted in the optimal performance.\n",
    "\n",
    "| 🚩 **Note** 🚩 |\n",
    "| : ----------------------- :|\n",
    "| We'll be using the `SequentialFeatureSelector` from a library known as `mlxtend`. **Be sure to: \"`pip install mlxtend`\" before you run the code below**. We'll also be using f1-score to compute the performance of each fitted model. |\n",
    "\n"
   ]
  },
  {
   "cell_type": "markdown",
   "id": "28f2a94d",
   "metadata": {},
   "source": [
    "<img src=\"https://raw.githubusercontent.com/Explore-AI/Pictures/master/sketch-sfs.png\" alt=\"sketch-sfs\" width=\"700px;\">"
   ]
  },
  {
   "cell_type": "code",
   "execution_count": null,
   "id": "40d0d0b6",
   "metadata": {},
   "outputs": [],
   "source": [
    "# We begin by declaring the classifier we wish to use\n",
    "lm_sfs = LogisticRegression()"
   ]
  },
  {
   "cell_type": "code",
   "execution_count": null,
   "id": "b16c08da",
   "metadata": {},
   "outputs": [],
   "source": [
    "# Import the selector module, and the accuracy_score module to computer performance\n",
    "from sklearn.metrics import f1_score\n",
    "from mlxtend.feature_selection import SequentialFeatureSelector as sfs"
   ]
  },
  {
   "cell_type": "markdown",
   "id": "5d1bfb5c",
   "metadata": {},
   "source": [
    "Take note of the arguments we pass to the SequentialFeatureSelector instance:\n",
    "\n",
    "- `lm_sfs` is the classifier we want it to use to fit to the data;\n",
    "- `k-features`is the maximum number of features we want to end up with. We set it higher rather than lower - in case the optimal number of features is higher than we may have thought;\n",
    "- `forward=True` sets the selector to use forward, as opposed to backward, selection;\n",
    "- `scoring='f1'` ensures performance is measured using an appropriate metric: here, f1-score;\n",
    "- `cv=10` means validation will be performed using k-fold cross validation, with k=10."
   ]
  },
  {
   "cell_type": "code",
   "execution_count": null,
   "id": "7c084cd8",
   "metadata": {},
   "outputs": [],
   "source": [
    "# We then build our forward feature selector\n",
    "sfs = sfs(lm_sfs, k_features=25, forward=True, scoring='f1', cv=10)"
   ]
  },
  {
   "cell_type": "markdown",
   "id": "bb6cc05b",
   "metadata": {},
   "source": [
    "The code cell below takes about a minute to execute."
   ]
  },
  {
   "cell_type": "code",
   "execution_count": null,
   "id": "c6684ad2",
   "metadata": {},
   "outputs": [],
   "source": [
    "sfs = sfs.fit(X_train, y_train)"
   ]
  },
  {
   "cell_type": "code",
   "execution_count": null,
   "id": "07e81dd0",
   "metadata": {},
   "outputs": [],
   "source": [
    "# Plot the results\n",
    "from mlxtend.plotting import plot_sequential_feature_selection as plot_sfs\n",
    "\n",
    "fig1 = plot_sfs(sfs.get_metric_dict(), kind='std_dev')\n",
    "\n",
    "plt.ylim([0.9, 1])\n",
    "plt.title('Sequential Forward Selection (w. StdDev)')\n",
    "plt.grid()\n",
    "plt.show()"
   ]
  },
  {
   "cell_type": "markdown",
   "id": "930dcf11",
   "metadata": {},
   "source": [
    "Plotting the results we can see that performance begins to drop off after the 21st feature is added. Let's lock in those 21 features and use them to train our classifier. To be clear, these are not necessarily the first 21 features, but the 21 features which, when combined, produce optimal performance."
   ]
  },
  {
   "cell_type": "code",
   "execution_count": null,
   "id": "118571fc",
   "metadata": {},
   "outputs": [],
   "source": [
    "# Extract the feature names for the optimal number using the dictionary provided by the subsets_ method\n",
    "columns = list(sfs.subsets_[21]['feature_idx'])"
   ]
  },
  {
   "cell_type": "markdown",
   "id": "f0b3ea51",
   "metadata": {},
   "source": [
    "Having determined which number of features was best, we'll select those specific features and train the model using only them. Remember we need to select the features for both train _and_ test sets."
   ]
  },
  {
   "cell_type": "code",
   "execution_count": null,
   "id": "3c152b28",
   "metadata": {},
   "outputs": [],
   "source": [
    "X_train_sfs = X_train[:, columns]\n",
    "X_test_sfs = X_test[:, columns]"
   ]
  },
  {
   "cell_type": "code",
   "execution_count": null,
   "id": "b5f61e0e",
   "metadata": {},
   "outputs": [],
   "source": [
    "X_train_sfs.shape"
   ]
  },
  {
   "cell_type": "markdown",
   "id": "b9bcba0c",
   "metadata": {},
   "source": [
    "Now we can train the model on this reduced training set."
   ]
  },
  {
   "cell_type": "code",
   "execution_count": null,
   "id": "24c1b0ec",
   "metadata": {},
   "outputs": [],
   "source": [
    "lm_sfs.fit(X_train_sfs, y_train)"
   ]
  },
  {
   "cell_type": "markdown",
   "id": "57696abc",
   "metadata": {},
   "source": [
    "Finally, we'll generate some predictions."
   ]
  },
  {
   "cell_type": "code",
   "execution_count": null,
   "id": "995722d8",
   "metadata": {},
   "outputs": [],
   "source": [
    "pred_lm_sfs = lm_sfs.predict(X_test_sfs)"
   ]
  },
  {
   "cell_type": "markdown",
   "id": "54267cea",
   "metadata": {},
   "source": [
    "### Assessment"
   ]
  },
  {
   "cell_type": "markdown",
   "id": "4ef04ed7",
   "metadata": {},
   "source": [
    "Using `classification report`, we'll look at f1-score, precision and recall for each of our models."
   ]
  },
  {
   "cell_type": "code",
   "execution_count": null,
   "id": "7e98f850",
   "metadata": {},
   "outputs": [],
   "source": [
    "print('Full Model')\n",
    "print(classification_report(y_test, pred_lm_full, target_names=['Malignant', 'Benign']))\n",
    "\n",
    "print('Var Thresh Model')\n",
    "print(classification_report(y_test, pred_lm_vt, target_names=['Malignant', 'Benign']))\n",
    "\n",
    "print('KBest Model')\n",
    "print(classification_report(y_test, pred_lm_kbest, target_names=['Malignant', 'Benign']))\n",
    "\n",
    "print('SFS Model')\n",
    "print(classification_report(y_test, pred_lm_sfs, target_names=['Malignant', 'Benign']))"
   ]
  },
  {
   "cell_type": "code",
   "execution_count": null,
   "id": "d4d2833e",
   "metadata": {},
   "outputs": [],
   "source": [
    "print('SFS Model')\n",
    "print(classification_report(y_test, pred_lm_sfs, target_names=['Malignant', 'Benign']))"
   ]
  },
  {
   "cell_type": "markdown",
   "id": "465b934d",
   "metadata": {},
   "source": [
    "Interestingly, the full model achieves perfect accuracy in both classes, a 0.07% improvement over the full model in the previous train. The only difference here is that we scaled our data first - which clearly made a difference for the convergence of the logistic regression classifier.\n",
    "\n",
    "The other 3 models all perform very well, with the `SelectKBest` model also achieving perfect accuracy in both classes. \n",
    "\n",
    "The variance thresholding model had the poorest performance of the four. Perhaps using variance alone was not a sufficient indicator of the importance of the features in question.\n",
    "\n",
    "There is yet another method we can use to try and improve the model - let's take a look."
   ]
  },
  {
   "cell_type": "markdown",
   "id": "be1dcdec",
   "metadata": {},
   "source": [
    "## 3. Tuning the Model Hyperparameter\n",
    "\n",
    "Most models have have settings or configuration values, known as hyperparameters, that can be changed to modify the fit of the model on the training data. The logistic regression model contains a hyperparameter _C_, which is used to control the penalty we apply to features that are less important (i.e.: more important features will have greater weight).\n",
    "\n",
    "The smaller the value of _C_, the greater the penalty to less important features. _C_ is a value greater than 0. You will recall from regression the regularisation methods Ridge and LASSO, which sought to minimise the L2- or L1-norm, respectively, by shrinking the coefficients of certain features. The penalty term had a coefficient of its own, which we called $\\alpha$, which controlled the severity of shrinkage that occurred. The _C_ value we will change here is precisely the _inverse_ value of $\\alpha$. In other words, the smaller the value of C, the greater the amount of shrinkage that occurs."
   ]
  },
  {
   "cell_type": "markdown",
   "id": "2006cba0",
   "metadata": {},
   "source": [
    "### Training\n",
    "\n",
    "We create three instances of the `LogisticRegression()` object, specifying a different value of the hyperparameter _C_ for each. When we set C to be small, we'll also specify the penalty type to be `l1` - this will allow some of the coefficients to be shrunk all the way to zero."
   ]
  },
  {
   "cell_type": "code",
   "execution_count": null,
   "id": "934e7820",
   "metadata": {},
   "outputs": [],
   "source": [
    "# Small C\n",
    "model_1 = LogisticRegression(C=0.05, penalty='l1', solver='liblinear', verbose=1)\n",
    "\n",
    "# Default C\n",
    "model_2 = LogisticRegression(C=1)\n",
    "\n",
    "# Large C\n",
    "model_3 = LogisticRegression(C=10)"
   ]
  },
  {
   "cell_type": "code",
   "execution_count": null,
   "id": "b20de9ab",
   "metadata": {},
   "outputs": [],
   "source": [
    "model_1.fit(X_train, y_train)"
   ]
  },
  {
   "cell_type": "code",
   "execution_count": null,
   "id": "22ac7fd9",
   "metadata": {},
   "outputs": [],
   "source": [
    "model_2.fit(X_train, y_train)"
   ]
  },
  {
   "cell_type": "code",
   "execution_count": null,
   "id": "945eb866",
   "metadata": {},
   "outputs": [],
   "source": [
    "model_3.fit(X_train, y_train)"
   ]
  },
  {
   "cell_type": "markdown",
   "id": "1f24f535",
   "metadata": {},
   "source": [
    "Taking a look at the magnitudes of the coefficients of each trained model, we can see that the smaller C is, the more features are shrunk. In the case where `penalty='l1'`, smaller C values literally means less features included. Notice how only one non-zero coefficient remains in that case."
   ]
  },
  {
   "cell_type": "code",
   "execution_count": null,
   "id": "bf35cb16",
   "metadata": {},
   "outputs": [],
   "source": [
    "model_1.coef_"
   ]
  },
  {
   "cell_type": "code",
   "execution_count": null,
   "id": "2499ed80",
   "metadata": {},
   "outputs": [],
   "source": [
    "model_2.coef_"
   ]
  },
  {
   "cell_type": "code",
   "execution_count": null,
   "id": "ecb3b636",
   "metadata": {},
   "outputs": [],
   "source": [
    "model_3.coef_"
   ]
  },
  {
   "cell_type": "markdown",
   "id": "7d976bc4",
   "metadata": {},
   "source": [
    "### Predicting"
   ]
  },
  {
   "cell_type": "markdown",
   "id": "5c081971",
   "metadata": {},
   "source": [
    "The models have been trained. Let's make some predictions."
   ]
  },
  {
   "cell_type": "code",
   "execution_count": null,
   "id": "d55d04ed",
   "metadata": {},
   "outputs": [],
   "source": [
    "pred_1 = model_1.predict(X_test)\n",
    "pred_2 = model_2.predict(X_test)\n",
    "pred_3 = model_3.predict(X_test)"
   ]
  },
  {
   "cell_type": "markdown",
   "id": "9d4c71d9",
   "metadata": {},
   "source": [
    "### Testing"
   ]
  },
  {
   "cell_type": "markdown",
   "id": "365b54ed",
   "metadata": {},
   "source": [
    "We will once again use the classification report to compare the model results. "
   ]
  },
  {
   "cell_type": "code",
   "execution_count": null,
   "id": "d3caa9bc",
   "metadata": {},
   "outputs": [],
   "source": [
    "print('C = 0.05')\n",
    "print(classification_report(y_test, pred_1, target_names=['Malignant', 'Benign']))\n",
    "\n",
    "print('C = 1')\n",
    "print(classification_report(y_test, pred_2, target_names=['Malignant', 'Benign']))\n",
    "\n",
    "print('C = 10')\n",
    "print(classification_report(y_test, pred_3, target_names=['Malignant', 'Benign']))"
   ]
  },
  {
   "cell_type": "markdown",
   "id": "0b73e5f2",
   "metadata": {},
   "source": [
    "Clearly, in setting C = 0.05 we have tuned the hyperparameter too aggressively and adversely affected the model's performance. Note how the f1-score is significantly lower for that variation than any other we have looked at.\n",
    "\n",
    "The logistic regression algorithm is a simple case for hyperparameter tuning because it only contains one value to tweak. Other models, like support vector machines, tree-based methods, and neural networks, contain many more hyperparameters - in most cases too many for the model architect to optimise on her own. In these cases we use what is known as grid search: an iterative testing of multiple combinations of hyperparameters to find the optimal set. More on that later on."
   ]
  },
  {
   "cell_type": "markdown",
   "id": "599ffe0c",
   "metadata": {},
   "source": [
    "## Conclusion\n",
    "\n",
    "In this train we have seen or been introduced to:\n",
    "\n",
    "- The importance of carrying out a train/test split before doing any feature selection;\n",
    "- Feature subset selection by variance thresholding;\n",
    "- Feature subset selection by select the k-best features;\n",
    "- Feature subset selection by sequential forward selection; and\n",
    "- Improving a model by tuning the hyperparameters."
   ]
  },
  {
   "cell_type": "markdown",
   "id": "26fd094b-0fee-46f1-a4b8-73766813c42b",
   "metadata": {
    "tags": []
   },
   "source": [
    "#  \n",
    "\n",
    "<div align=\"center\" style=\" font-size: 80%; text-align: center; margin: 0 auto\">\n",
    "<img src=\"https://raw.githubusercontent.com/Explore-AI/Pictures/master/ExploreAI_logos/EAI_Blue_Dark.png\"  style=\"width:200px\";/>\n",
    "</div>"
   ]
  }
 ],
 "metadata": {
  "kernelspec": {
   "display_name": "Python 3 (ipykernel)",
   "language": "python",
   "name": "python3"
  },
  "language_info": {
   "codemirror_mode": {
    "name": "ipython",
    "version": 3
   },
   "file_extension": ".py",
   "mimetype": "text/x-python",
   "name": "python",
   "nbconvert_exporter": "python",
   "pygments_lexer": "ipython3",
   "version": "3.11.5"
  }
 },
 "nbformat": 4,
 "nbformat_minor": 5
}
